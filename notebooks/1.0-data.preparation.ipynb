{
 "cells": [
  {
   "cell_type": "markdown",
   "id": "ef837d2c-66d4-4aaa-8c1f-0e253e490d8c",
   "metadata": {},
   "source": [
    "# Data preparation"
   ]
  },
  {
   "cell_type": "markdown",
   "id": "03d1f921-e29a-413c-8c59-5afa8a392b99",
   "metadata": {},
   "source": [
    "### Data Loading and Merging"
   ]
  },
  {
   "cell_type": "markdown",
   "id": "d2f9602d-c1b7-4009-aff8-dbfa5faa9356",
   "metadata": {},
   "source": [
    "The data comes from two separate sources: Manually coded data and ISS data. These are joined."
   ]
  },
  {
   "cell_type": "code",
   "execution_count": 1158,
   "id": "24958e18-45f0-42a0-bef8-7352ef215591",
   "metadata": {},
   "outputs": [],
   "source": [
    "import numpy as np\n",
    "import pandas as pd"
   ]
  },
  {
   "cell_type": "code",
   "execution_count": 1159,
   "id": "1492f842-b0be-48f2-9ed1-49dd78a19bec",
   "metadata": {},
   "outputs": [],
   "source": [
    "data_dir = \"../data/\"\n",
    "dd = pd.read_csv(\n",
    "    data_dir + \"raw/data_dictionary.csv\",\n",
    "    delimiter = \",\"\n",
    ")\n",
    "sample = pd.read_csv(\n",
    "    data_dir + \"raw/sample_iss_18012020.csv\",\n",
    "    low_memory = False\n",
    ")[[\"centre\", \"pid\", \"iss\"]]\n",
    "nomesco_snomed = pd.read_csv(\n",
    "    data_dir + \"raw/ttris_nomesco_snomed.csv\", \n",
    "    delimiter = \";\",\n",
    "    low_memory = False\n",
    ")"
   ]
  },
  {
   "cell_type": "code",
   "execution_count": 1160,
   "id": "3be7df39-132b-445b-8aff-ef16f7e93408",
   "metadata": {},
   "outputs": [],
   "source": [
    "data = pd.merge(nomesco_snomed, sample, on = [\"pid\", \"centre\"])"
   ]
  },
  {
   "cell_type": "code",
   "execution_count": 1161,
   "id": "cddd513a-e60e-4da4-9ff5-405aae986c5c",
   "metadata": {},
   "outputs": [
    {
     "data": {
      "text/html": [
       "<div>\n",
       "<style scoped>\n",
       "    .dataframe tbody tr th:only-of-type {\n",
       "        vertical-align: middle;\n",
       "    }\n",
       "\n",
       "    .dataframe tbody tr th {\n",
       "        vertical-align: top;\n",
       "    }\n",
       "\n",
       "    .dataframe thead th {\n",
       "        text-align: right;\n",
       "    }\n",
       "</style>\n",
       "<table border=\"1\" class=\"dataframe\">\n",
       "  <thead>\n",
       "    <tr style=\"text-align: right;\">\n",
       "      <th></th>\n",
       "      <th>centre</th>\n",
       "      <th>pid</th>\n",
       "      <th>cr</th>\n",
       "      <th>qcrec</th>\n",
       "      <th>vsqs</th>\n",
       "      <th>ic</th>\n",
       "      <th>age</th>\n",
       "      <th>sex</th>\n",
       "      <th>moi</th>\n",
       "      <th>tyi</th>\n",
       "      <th>...</th>\n",
       "      <th>iopinj4</th>\n",
       "      <th>iopinj4icd</th>\n",
       "      <th>iopinj5</th>\n",
       "      <th>iopinj5icd</th>\n",
       "      <th>iopinj6</th>\n",
       "      <th>iopinj6icd</th>\n",
       "      <th>testvar</th>\n",
       "      <th>locked</th>\n",
       "      <th>X0</th>\n",
       "      <th>iss</th>\n",
       "    </tr>\n",
       "  </thead>\n",
       "  <tbody>\n",
       "    <tr>\n",
       "      <th>0</th>\n",
       "      <td>1515</td>\n",
       "      <td>5042</td>\n",
       "      <td>0</td>\n",
       "      <td>0</td>\n",
       "      <td>0</td>\n",
       "      <td>1</td>\n",
       "      <td>31</td>\n",
       "      <td>1</td>\n",
       "      <td>W01</td>\n",
       "      <td>0</td>\n",
       "      <td>...</td>\n",
       "      <td>999</td>\n",
       "      <td>999</td>\n",
       "      <td>999</td>\n",
       "      <td>999</td>\n",
       "      <td>999</td>\n",
       "      <td>999</td>\n",
       "      <td>0</td>\n",
       "      <td>0</td>\n",
       "      <td>NaN</td>\n",
       "      <td>9.0</td>\n",
       "    </tr>\n",
       "    <tr>\n",
       "      <th>1</th>\n",
       "      <td>1515</td>\n",
       "      <td>5108</td>\n",
       "      <td>0</td>\n",
       "      <td>0</td>\n",
       "      <td>0</td>\n",
       "      <td>1</td>\n",
       "      <td>72</td>\n",
       "      <td>1</td>\n",
       "      <td>W01</td>\n",
       "      <td>0</td>\n",
       "      <td>...</td>\n",
       "      <td>999</td>\n",
       "      <td>999</td>\n",
       "      <td>999</td>\n",
       "      <td>999</td>\n",
       "      <td>999</td>\n",
       "      <td>999</td>\n",
       "      <td>0</td>\n",
       "      <td>0</td>\n",
       "      <td>NaN</td>\n",
       "      <td>NaN</td>\n",
       "    </tr>\n",
       "    <tr>\n",
       "      <th>2</th>\n",
       "      <td>1515</td>\n",
       "      <td>5077</td>\n",
       "      <td>0</td>\n",
       "      <td>0</td>\n",
       "      <td>0</td>\n",
       "      <td>1</td>\n",
       "      <td>39</td>\n",
       "      <td>1</td>\n",
       "      <td>W13</td>\n",
       "      <td>0</td>\n",
       "      <td>...</td>\n",
       "      <td>999</td>\n",
       "      <td>999</td>\n",
       "      <td>999</td>\n",
       "      <td>999</td>\n",
       "      <td>999</td>\n",
       "      <td>999</td>\n",
       "      <td>0</td>\n",
       "      <td>0</td>\n",
       "      <td>NaN</td>\n",
       "      <td>9.0</td>\n",
       "    </tr>\n",
       "    <tr>\n",
       "      <th>3</th>\n",
       "      <td>1515</td>\n",
       "      <td>5028</td>\n",
       "      <td>0</td>\n",
       "      <td>0</td>\n",
       "      <td>0</td>\n",
       "      <td>1</td>\n",
       "      <td>33</td>\n",
       "      <td>1</td>\n",
       "      <td>W01</td>\n",
       "      <td>0</td>\n",
       "      <td>...</td>\n",
       "      <td>999</td>\n",
       "      <td>999</td>\n",
       "      <td>999</td>\n",
       "      <td>999</td>\n",
       "      <td>999</td>\n",
       "      <td>999</td>\n",
       "      <td>0</td>\n",
       "      <td>0</td>\n",
       "      <td>NaN</td>\n",
       "      <td>NaN</td>\n",
       "    </tr>\n",
       "    <tr>\n",
       "      <th>4</th>\n",
       "      <td>1515</td>\n",
       "      <td>5024</td>\n",
       "      <td>0</td>\n",
       "      <td>0</td>\n",
       "      <td>0</td>\n",
       "      <td>1</td>\n",
       "      <td>35</td>\n",
       "      <td>1</td>\n",
       "      <td>W01</td>\n",
       "      <td>0</td>\n",
       "      <td>...</td>\n",
       "      <td>999</td>\n",
       "      <td>999</td>\n",
       "      <td>999</td>\n",
       "      <td>999</td>\n",
       "      <td>999</td>\n",
       "      <td>999</td>\n",
       "      <td>0</td>\n",
       "      <td>0</td>\n",
       "      <td>NaN</td>\n",
       "      <td>NaN</td>\n",
       "    </tr>\n",
       "  </tbody>\n",
       "</table>\n",
       "<p>5 rows × 119 columns</p>\n",
       "</div>"
      ],
      "text/plain": [
       "   centre   pid  cr  qcrec  vsqs  ic  age  sex  moi  tyi  ...  iopinj4  \\\n",
       "0    1515  5042   0      0     0   1   31    1  W01    0  ...      999   \n",
       "1    1515  5108   0      0     0   1   72    1  W01    0  ...      999   \n",
       "2    1515  5077   0      0     0   1   39    1  W13    0  ...      999   \n",
       "3    1515  5028   0      0     0   1   33    1  W01    0  ...      999   \n",
       "4    1515  5024   0      0     0   1   35    1  W01    0  ...      999   \n",
       "\n",
       "   iopinj4icd iopinj5 iopinj5icd iopinj6 iopinj6icd testvar locked  X0  iss  \n",
       "0         999     999        999     999        999       0      0 NaN  9.0  \n",
       "1         999     999        999     999        999       0      0 NaN  NaN  \n",
       "2         999     999        999     999        999       0      0 NaN  9.0  \n",
       "3         999     999        999     999        999       0      0 NaN  NaN  \n",
       "4         999     999        999     999        999       0      0 NaN  NaN  \n",
       "\n",
       "[5 rows x 119 columns]"
      ]
     },
     "execution_count": 1161,
     "metadata": {},
     "output_type": "execute_result"
    }
   ],
   "source": [
    "data.head()"
   ]
  },
  {
   "cell_type": "markdown",
   "id": "ab5c752b-41d8-4fed-9315-e4909c45d744",
   "metadata": {},
   "source": [
    "Subset relevant variables"
   ]
  },
  {
   "cell_type": "code",
   "execution_count": 1162,
   "id": "a29acd52-4520-4a82-a979-146991640530",
   "metadata": {},
   "outputs": [],
   "source": [
    "sv = [\"age\", \"moi\", \"sex\", \"mot\", \"tran\", \"s30d\", \"egcs\", \"mgcs\", \"vgcs\", \"avpu\", \"hr\",\n",
    "      \"sbp\", \"dbp\", \"spo2\", \"rr\", \"tc\", \"ic\", \"doar\", \"toar\", \"toa\", \"doa\", \"doi\", \"toi\", \"s24h\", \"hd\",\n",
    "      \"taicu\", \"daicu\", \"tos\", \"dos\", \"nomesco\", \"snomed\", \"s\", \"iss\"]\n",
    "data = data[sv]"
   ]
  },
  {
   "cell_type": "code",
   "execution_count": 1163,
   "id": "eef05238-2f12-4e82-a556-c0fd2743bf30",
   "metadata": {},
   "outputs": [],
   "source": [
    "data.to_csv(data_dir + \"interim/merged_samples.csv\")"
   ]
  },
  {
   "cell_type": "markdown",
   "id": "67416769-aee4-40f0-9cd7-28a1780b37aa",
   "metadata": {},
   "source": [
    "### Recoding of Data"
   ]
  },
  {
   "cell_type": "markdown",
   "id": "3093ab36-c24b-4461-b9c9-9fef1027fa91",
   "metadata": {},
   "source": [
    "Recode,\n",
    "* `999` indicates missing..\n",
    "* `0` for doa and toa is not admitted, same for doar and toar, hence missing.\n",
    "* `0` for dos and tos is not taken to surgery within 30 days of admission."
   ]
  },
  {
   "cell_type": "code",
   "execution_count": 1164,
   "id": "62793b91-9b49-440a-9912-f07ba671241d",
   "metadata": {},
   "outputs": [],
   "source": [
    "data.replace([999, \"999\"], np.nan, inplace = True)"
   ]
  },
  {
   "cell_type": "code",
   "execution_count": 1165,
   "id": "e9b3b3f5-b3e8-47a9-8f6b-35cedf213251",
   "metadata": {},
   "outputs": [],
   "source": [
    "data[[\n",
    "    \"toa\",\n",
    "    \"toi\",\n",
    "    \"taicu\",\n",
    "    \"tos\",\n",
    "    \"toar\"\n",
    "]] = data[[\"toa\", \"toi\", \"taicu\", \"tos\", \"toar\"]].replace('0', '00:00:00')"
   ]
  },
  {
   "cell_type": "code",
   "execution_count": 1166,
   "id": "256e72e4-de8b-4adc-9ecf-6360ce53f0ab",
   "metadata": {},
   "outputs": [],
   "source": [
    "data[[\n",
    "    \"doa\",\n",
    "    \"daicu\",\n",
    "    \"dos\",\n",
    "    \"doar\"\n",
    "]] = data[[\"doa\", \"daicu\", \"dos\", \"doar\"]].replace('0', '1970-01-01')"
   ]
  },
  {
   "cell_type": "markdown",
   "id": "ea68ba58-145a-4dd1-98cb-6db0a0b50954",
   "metadata": {},
   "source": [
    "### Exclusion criteria"
   ]
  },
  {
   "cell_type": "markdown",
   "id": "d40864b3-30bf-4df0-bef4-34176b5b74d4",
   "metadata": {},
   "source": [
    "Include only\n",
    "* Patients that infomed consent,\n",
    "* Adult patients (Those >= 18 years old)\n",
    "* Patients with complete data on s30d, and\n",
    "* Patients with complete data on triage category."
   ]
  },
  {
   "cell_type": "code",
   "execution_count": 1167,
   "id": "01217939-c210-46ef-b1af-5b0dde0f953b",
   "metadata": {},
   "outputs": [],
   "source": [
    "data_excl = data.loc[\n",
    "    (data.ic == 1)&\n",
    "    (data.age >= 18) &\n",
    "    (data.s30d.notnull()) &\n",
    "    (data.tc.notnull())\n",
    "]"
   ]
  },
  {
   "cell_type": "code",
   "execution_count": 1168,
   "id": "3d2879b4-239f-4128-9eb0-ef6d4ce7bd1c",
   "metadata": {},
   "outputs": [],
   "source": [
    "data_excl.to_csv(data_dir + \"interim/merged_samples_clean.csv\")"
   ]
  },
  {
   "cell_type": "markdown",
   "id": "6168a470-6c53-4d5f-9273-804db9c20c5f",
   "metadata": {},
   "source": [
    "### Feature engineering"
   ]
  },
  {
   "cell_type": "markdown",
   "id": "949411cb-d6ad-45e4-bc2b-4ec186064d5c",
   "metadata": {},
   "source": [
    "* Create `time_to_arrival` feature\n",
    "* Add admission to ICU within 48H\n",
    "* Add binary for major surgery within 24H\n",
    "* Add ISS15, binary if iss is greater than or equal to 15\n",
    "* Add composite outcome\n",
    "* Collapse mechanism of injury\n",
    "* Conditional for outcome"
   ]
  },
  {
   "cell_type": "markdown",
   "id": "8d46f78d-975d-49f9-a7c6-ac1bea4e498f",
   "metadata": {},
   "source": [
    "#### Time to arrival feature"
   ]
  },
  {
   "cell_type": "markdown",
   "id": "a310d723-b7cb-4bff-a29e-dc266e3271c2",
   "metadata": {},
   "source": [
    "Enter 0 if any is 0, nan if nan, else convert to datetime. Probably exists a more efficient way to do this."
   ]
  },
  {
   "cell_type": "code",
   "execution_count": 1169,
   "id": "f209ce29-f4c1-4e4b-8dc1-1bc3c98354db",
   "metadata": {},
   "outputs": [],
   "source": [
    "time_of_injury = pd.to_datetime(data_excl.doi + \" \" + data_excl.toi)"
   ]
  },
  {
   "cell_type": "code",
   "execution_count": 1170,
   "id": "51be9970-b75e-482b-abf4-c998beee9f75",
   "metadata": {},
   "outputs": [],
   "source": [
    "time_of_arrival = pd.to_datetime(data_excl.doa + \" \" + data_excl.toa)"
   ]
  },
  {
   "cell_type": "code",
   "execution_count": 1171,
   "id": "ab41d603-99d2-4491-a70d-9f68028398c2",
   "metadata": {},
   "outputs": [],
   "source": [
    "data_excl = data_excl.assign(delay = (time_of_arrival - time_of_injury).astype('timedelta64[m]'))\n",
    "data_excl.delay = [0 if x < 0 else x for x in data_excl.delay]"
   ]
  },
  {
   "cell_type": "markdown",
   "id": "43f2dd8c-e1d2-4eff-98c0-b5da1bbd17c0",
   "metadata": {},
   "source": [
    "#### Admission to ICU with 48h feature"
   ]
  },
  {
   "cell_type": "code",
   "execution_count": 1172,
   "id": "1dbea3b4-279b-4d7c-b5b5-1bdb54191b9b",
   "metadata": {},
   "outputs": [],
   "source": [
    "ed_admit = pd.to_datetime(data_excl.doar + \" \" + data_excl.toar)\n",
    "icu_admit = pd.to_datetime(data_excl.daicu + \" \" + data_excl.taicu)\n",
    "time_to_icu = (icu_admit - ed_admit).astype('timedelta64[h]')"
   ]
  },
  {
   "cell_type": "code",
   "execution_count": 1173,
   "id": "9a28faa2-85dd-4a2e-bfa2-a481eaa072aa",
   "metadata": {},
   "outputs": [],
   "source": [
    "icu48h = [1 if x <= 48 else 0 for x in time_to_icu]\n",
    "data_excl = data_excl.assign(icu48h = icu48h)"
   ]
  },
  {
   "cell_type": "code",
   "execution_count": 1174,
   "id": "544b2b17-4438-4443-90ce-fa1f728d582e",
   "metadata": {},
   "outputs": [],
   "source": [
    "data_excl.drop(columns = [\n",
    "    \"daicu\",\n",
    "    \"taicu\"\n",
    "], inplace = True)"
   ]
  },
  {
   "cell_type": "markdown",
   "id": "8356e9fa-de5d-4733-ab87-a5f5f905dd2d",
   "metadata": {},
   "source": [
    "#### Binary for major surgery within 24h"
   ]
  },
  {
   "cell_type": "code",
   "execution_count": 1175,
   "id": "bdd5ceea-fc06-4b39-af88-9227b58fd3b6",
   "metadata": {},
   "outputs": [],
   "source": [
    "true_major_codes = \"446816008.0|446683008.0|446115005.0|178674000.0|275093002.0|272300006.0|112777008.0|57470004.0|8476009.0|35340001.0|23036009.0|439756000.0|274457001.0|74011006.0|73231008.0|67319007.0|56413001.0|36777000.0|74770008.0\""
   ]
  },
  {
   "cell_type": "code",
   "execution_count": 1176,
   "id": "2cccea76-70b4-4a4d-bdda-03aba9e9f3b5",
   "metadata": {},
   "outputs": [],
   "source": [
    "true_major = data_excl.snomed.astype(str).str.contains(true_major_codes)"
   ]
  },
  {
   "cell_type": "code",
   "execution_count": 1177,
   "id": "8caf50b0-27b1-4e3d-a1b8-c0f12bd540e3",
   "metadata": {},
   "outputs": [],
   "source": [
    "date_time_surgery = pd.to_datetime(data_excl.dos + \" \" + data_excl.tos)\n",
    "date_time_ed = pd.to_datetime(data_excl.doar + \" \" + data_excl.toar)\n",
    "time_to_surgery = (date_time_surgery - date_time_ed).astype('timedelta64[h]')"
   ]
  },
  {
   "cell_type": "code",
   "execution_count": 1178,
   "id": "ff472055-cd5e-4c6b-93b9-ed10f142beef",
   "metadata": {},
   "outputs": [],
   "source": [
    "majors24h = ((true_major == True) & (time_to_surgery <= 24)).astype(int)"
   ]
  },
  {
   "cell_type": "markdown",
   "id": "320d3e8b-fcd4-4ba1-b215-b391f6a90cbf",
   "metadata": {},
   "source": [
    "If `dos` or `tos` is 0, then s should be coded as 0 "
   ]
  },
  {
   "cell_type": "code",
   "execution_count": 1179,
   "id": "1c00e7bb-7d60-41b9-a9b3-770e7701f0a3",
   "metadata": {},
   "outputs": [],
   "source": [
    "cond = (data_excl.dos == '1970-01-01') | (data_excl.tos == '00:00:00')\n",
    "data_excl.loc[:, \"s\"] = pd.Series(['0' if b == True else x for b, x in zip(cond, data_excl.s)])"
   ]
  },
  {
   "cell_type": "markdown",
   "id": "e7dab416-080c-4f95-846c-00941fb6560f",
   "metadata": {},
   "source": [
    "If NA in `s`, then `majors24h` should also be NA"
   ]
  },
  {
   "cell_type": "code",
   "execution_count": 1180,
   "id": "60280175-4ab4-4c15-913c-f341fbaa9389",
   "metadata": {},
   "outputs": [],
   "source": [
    "majors24h = pd.Series([x if pd.isnull(x) else m24h for x, m24h in zip(s, majors24h)])"
   ]
  },
  {
   "cell_type": "markdown",
   "id": "38dd6f46-8189-4bbf-b598-49ad8ff3e7e9",
   "metadata": {},
   "source": [
    "Drop the irrelevant columns"
   ]
  },
  {
   "cell_type": "code",
   "execution_count": 1181,
   "id": "1c24b5ee-15f1-47e1-9e4d-98d5548b7a05",
   "metadata": {},
   "outputs": [],
   "source": [
    "data_excl.drop(columns = [\n",
    "    \"s\",\n",
    "    \"dos\",\n",
    "    \"tos\",\n",
    "    \"doar\",\n",
    "    \"toar\",\n",
    "    \"toa\",\n",
    "    \"doa\",\n",
    "    \"doi\", \n",
    "    \"toi\",\n",
    "    \"snomed\",\n",
    "    \"nomesco\",\n",
    "], inplace = True)"
   ]
  },
  {
   "cell_type": "code",
   "execution_count": 1182,
   "id": "3b91d1c1-5c83-481e-9614-79a6cb3e8093",
   "metadata": {},
   "outputs": [],
   "source": [
    "data_excl = data_excl.assign(majors24h = majors24h)"
   ]
  },
  {
   "cell_type": "markdown",
   "id": "9e75aa1f-ce45-43fd-a0ac-b1ca4380332b",
   "metadata": {
    "tags": []
   },
   "source": [
    "#### Add ISS15"
   ]
  },
  {
   "cell_type": "code",
   "execution_count": 1183,
   "id": "892a3c4b-10e1-4dbb-ad8c-caf2353705ce",
   "metadata": {},
   "outputs": [],
   "source": [
    "iss15 = np.where(data_excl.iss >= 15, 1, 0)\n",
    "iss15 = pd.Series([np.nan if pd.isnull(x) else y for x,y in zip(data_excl.iss, iss15)])"
   ]
  },
  {
   "cell_type": "code",
   "execution_count": 1184,
   "id": "333ef885-0be0-4c27-8bb3-81d7c786e8d2",
   "metadata": {},
   "outputs": [],
   "source": [
    "data_excl = data_excl.assign(iss15 = iss15).drop(columns = [\"iss\"])"
   ]
  },
  {
   "cell_type": "markdown",
   "id": "08a05e2d-4b80-4eee-8cde-56073b4c886c",
   "metadata": {},
   "source": [
    "#### Add composite outcome"
   ]
  },
  {
   "cell_type": "code",
   "execution_count": 1185,
   "id": "8c7d2ac9-f08e-47ec-b058-fbf78b5473f0",
   "metadata": {},
   "outputs": [],
   "source": [
    "data_excl = data_excl.assign(\n",
    "    composite = ((icu48h == 1) | (data_excl.s24h == \"Yes\") | (majors24h == 1) | (iss15 == 1)).astype(int)\n",
    ")"
   ]
  },
  {
   "cell_type": "markdown",
   "id": "cd3058d6-7623-40f9-be09-f9a25fc0bbc8",
   "metadata": {},
   "source": [
    "#### Collapse mechanism of injury to single variable"
   ]
  },
  {
   "cell_type": "code",
   "execution_count": 1186,
   "id": "8a47a380-bc7b-4a03-93fa-273f80a07432",
   "metadata": {},
   "outputs": [],
   "source": [
    "below_ten = [\"0\" + str(x) for x in range(10)]"
   ]
  },
  {
   "cell_type": "code",
   "execution_count": 1187,
   "id": "41cecaed-86a9-48f8-a569-a6ad588d8c18",
   "metadata": {},
   "outputs": [],
   "source": [
    "d = {\n",
    "    \"Transportation accident\" : [\"V\" + str(x) for x in below_ten + [str(y) for y in range(10, 100)]],  ## Transport accidents\n",
    "    \"Falls\" : [\"W\" + str(x) for x in below_ten + [str(y) for y in range(10, 20)]],                     ## Falls\n",
    "    \"Burns\" : [\"X\" + str(x) for x in below_ten + [str(y) for y in range(10, 20)]],                     ## Burns\n",
    "    \"Other external causes of accidental injury\" : [\"W\" + str(x) for x in range(20, 100)] + [\"X\" + str(x) for x in range(20, 60)],  ## Other external causes of accidental injury\n",
    "    \"Intentional self-harm\" : [\"X\" + str(x) for x in range(60, 85)],                                   ## Intential self-harm\n",
    "    \"Assault\" : [\"X\" + str(x) for x in range(85, 100)] + [\"Y\" + str(x) for x in below_ten],            ## Assault\n",
    "    \"Event of undetermined intent\" : [\"Y\" + str(x) for x in range(10, 35)],                            ## Events of undetermined intent\n",
    "    \"Legal intervention\" : [\"Y\" + str(x) for x in [35, 36]],                                           ## Legal intervention\n",
    "}"
   ]
  },
  {
   "cell_type": "code",
   "execution_count": 1188,
   "id": "8829dcc1-e200-4f6b-b685-322533079554",
   "metadata": {},
   "outputs": [
    {
     "name": "stderr",
     "output_type": "stream",
     "text": [
      "/home/ludvigwgerdin/projects/Python/pemett/lib/python3.7/site-packages/pandas/core/indexing.py:1951: SettingWithCopyWarning: \n",
      "A value is trying to be set on a copy of a slice from a DataFrame\n",
      "\n",
      "See the caveats in the documentation: https://pandas.pydata.org/pandas-docs/stable/user_guide/indexing.html#returning-a-view-versus-a-copy\n",
      "  self.obj[selected_item_labels] = value\n"
     ]
    }
   ],
   "source": [
    "for k, v in d.items():\n",
    "    for i, x in enumerate(data_excl.moi):\n",
    "        if x in v: data_excl.moi.iloc[i, :] = k"
   ]
  },
  {
   "cell_type": "markdown",
   "id": "ca0a75a8-73ae-4d5f-96c2-d7a54acb4027",
   "metadata": {},
   "source": [
    "#### Set to outcome"
   ]
  },
  {
   "cell_type": "markdown",
   "id": "dabd8d33-b5f2-4ec8-9650-85b67ba29839",
   "metadata": {},
   "source": [
    "Outcome variable is set to dead if patients were dead on discharge after 30 days or if dead after 24 hours"
   ]
  },
  {
   "cell_type": "code",
   "execution_count": 1189,
   "id": "436eb083-1422-45ee-bf15-f82c9c57fc26",
   "metadata": {},
   "outputs": [],
   "source": [
    "data_excl.loc[((data_excl.hd == 1) & pd.notnull(data_excl.hd)) | ((data_excl.s24h == 1) & (pd.notnull(data_excl.s24h))), \"s30d\"] = 1"
   ]
  },
  {
   "cell_type": "markdown",
   "id": "6cb84400-3f54-4317-836f-bb39610d05d3",
   "metadata": {},
   "source": [
    "Remove the informed consent variable variable"
   ]
  },
  {
   "cell_type": "code",
   "execution_count": 1190,
   "id": "d488ecc7-a67b-4bc1-a207-027be50db163",
   "metadata": {},
   "outputs": [],
   "source": [
    "data_excl.drop(columns = [\"ic\", \"icu48h\", \"majors24h\", \"iss15\"], inplace = True)"
   ]
  },
  {
   "cell_type": "markdown",
   "id": "2d54d4de-c5d2-4c24-8d58-26bc3fe96643",
   "metadata": {},
   "source": [
    "Write the prepared sample to disk"
   ]
  },
  {
   "cell_type": "markdown",
   "id": "dd6e3d22-1022-432c-9284-043daa9f8342",
   "metadata": {},
   "source": [
    "### Write to disk"
   ]
  },
  {
   "cell_type": "markdown",
   "id": "ba8883b9-f06f-42ca-82e9-4c523ae4cf3a",
   "metadata": {},
   "source": [
    "Write to separate datasets to disk,\n",
    "* For the `s30d` outcome, drop `s24h` and `composite`\n",
    "* For the `composite` outcome, drop `s30d`, `s24h`"
   ]
  },
  {
   "cell_type": "markdown",
   "id": "efaf744a-1dfb-4536-8689-4c28f9e6f4e9",
   "metadata": {},
   "source": [
    "Split datasets first"
   ]
  },
  {
   "cell_type": "code",
   "execution_count": 1191,
   "id": "0927fc1b-4508-496a-b302-d017e420a842",
   "metadata": {},
   "outputs": [],
   "source": [
    "from sklearn.model_selection import train_test_split"
   ]
  },
  {
   "cell_type": "markdown",
   "id": "6b7e7f72-8c83-4cf3-bc4c-ae00945a90c6",
   "metadata": {},
   "source": [
    "For `s30d`"
   ]
  },
  {
   "cell_type": "code",
   "execution_count": 1192,
   "id": "2c3c9c3d-6d0f-4155-9116-5c215872808d",
   "metadata": {},
   "outputs": [],
   "source": [
    "X_train_s30d, X_test_s30d, y_train_s30d, y_test_s30d = train_test_split(\n",
    "    data_excl.drop(columns = [\"s24h\", \"composite\"]),\n",
    "    data_excl.s30d,\n",
    "    random_state = 123,\n",
    "    stratify = data_excl.s30d\n",
    ")"
   ]
  },
  {
   "cell_type": "code",
   "execution_count": 1193,
   "id": "82cc8492-f3c3-45fd-8d44-ddbaaa6be9a6",
   "metadata": {},
   "outputs": [
    {
     "data": {
      "text/plain": [
       "0.0    5860\n",
       "1.0     328\n",
       "2.0      33\n",
       "Name: s30d, dtype: int64"
      ]
     },
     "execution_count": 1193,
     "metadata": {},
     "output_type": "execute_result"
    }
   ],
   "source": [
    "y_train_s30d.value_counts()"
   ]
  },
  {
   "cell_type": "code",
   "execution_count": 1194,
   "id": "3c7558ca-a19f-4a52-9171-077b003003f8",
   "metadata": {},
   "outputs": [],
   "source": [
    "X_train_s30d.to_csv(data_dir + \"processed/s30d/X_train_s30d.csv\")\n",
    "X_test_s30d.to_csv(data_dir + \"processed/s30d/X_test_s30d.csv\")\n",
    "y_train_s30d.to_csv(data_dir + \"processed/s30d/y_train_s30d.csv\")\n",
    "y_test_s30d.to_csv(data_dir + \"processed/s30d/y_test_s30d.csv\")"
   ]
  },
  {
   "cell_type": "markdown",
   "id": "d47247ed-95ec-4f9b-be61-bd8d781a87a7",
   "metadata": {},
   "source": [
    "For `composite`"
   ]
  },
  {
   "cell_type": "code",
   "execution_count": 1195,
   "id": "e560ed9b-a058-493f-a7ee-72dc1ece2c58",
   "metadata": {},
   "outputs": [],
   "source": [
    "X_train_composite, X_test_composite, y_train_composite, y_test_composite = train_test_split(\n",
    "    data_excl.drop(columns = [\"s30d\", \"s24h\"]),\n",
    "    data_excl.composite,\n",
    "    random_state = 123,\n",
    "    stratify = data_excl.composite\n",
    ")"
   ]
  },
  {
   "cell_type": "code",
   "execution_count": 1196,
   "id": "8d2ec53b-1e64-4b71-aa27-4a43863897f4",
   "metadata": {},
   "outputs": [
    {
     "data": {
      "text/plain": [
       "0    6101\n",
       "1     120\n",
       "Name: composite, dtype: int64"
      ]
     },
     "execution_count": 1196,
     "metadata": {},
     "output_type": "execute_result"
    }
   ],
   "source": [
    "y_train_composite.value_counts()"
   ]
  },
  {
   "cell_type": "code",
   "execution_count": 1197,
   "id": "e15c5e8d-f6a2-41fd-8a5b-4d09ac4e4914",
   "metadata": {},
   "outputs": [],
   "source": [
    "X_train_composite.to_csv(data_dir + \"processed/composite/X_train_composite.csv\")\n",
    "X_test_composite.to_csv(data_dir + \"processed/composite/X_test_composite.csv\")\n",
    "y_train_composite.to_csv(data_dir + \"processed/composite/y_train_composite.csv\")\n",
    "y_test_composite.to_csv(data_dir + \"processed/composite/y_test_composite.csv\")"
   ]
  }
 ],
 "metadata": {
  "kernelspec": {
   "display_name": "Python 3 (ipykernel)",
   "language": "python",
   "name": "python3"
  },
  "language_info": {
   "codemirror_mode": {
    "name": "ipython",
    "version": 3
   },
   "file_extension": ".py",
   "mimetype": "text/x-python",
   "name": "python",
   "nbconvert_exporter": "python",
   "pygments_lexer": "ipython3",
   "version": "3.7.7"
  }
 },
 "nbformat": 4,
 "nbformat_minor": 5
}
