{
 "cells": [
  {
   "cell_type": "markdown",
   "id": "ef837d2c-66d4-4aaa-8c1f-0e253e490d8c",
   "metadata": {},
   "source": [
    "# Data preparation"
   ]
  },
  {
   "cell_type": "markdown",
   "id": "03d1f921-e29a-413c-8c59-5afa8a392b99",
   "metadata": {},
   "source": [
    "### Data Loading and Merging"
   ]
  },
  {
   "cell_type": "markdown",
   "id": "d2f9602d-c1b7-4009-aff8-dbfa5faa9356",
   "metadata": {},
   "source": [
    "The data comes from two separate sources: Manually coded data and ISS data. These are joined."
   ]
  },
  {
   "cell_type": "code",
   "execution_count": 1,
   "id": "48ba2a97-6472-4ae9-b068-35759fbd1de9",
   "metadata": {},
   "outputs": [],
   "source": [
    "%load_ext autoreload\n",
    "%autoreload 2"
   ]
  },
  {
   "cell_type": "code",
   "execution_count": 2,
   "id": "24958e18-45f0-42a0-bef8-7352ef215591",
   "metadata": {},
   "outputs": [],
   "source": [
    "import numpy as np\n",
    "import pandas as pd\n",
    "\n",
    "from tableone import TableOne"
   ]
  },
  {
   "cell_type": "code",
   "execution_count": 3,
   "id": "f3231cd0-089b-4120-9440-f27a597fadde",
   "metadata": {},
   "outputs": [],
   "source": [
    "import os"
   ]
  },
  {
   "cell_type": "code",
   "execution_count": 4,
   "id": "bbed1e35-b8ab-4b2e-bf61-c530edff315d",
   "metadata": {},
   "outputs": [],
   "source": [
    "os.chdir(\"..\")"
   ]
  },
  {
   "cell_type": "code",
   "execution_count": 5,
   "id": "1492f842-b0be-48f2-9ed1-49dd78a19bec",
   "metadata": {},
   "outputs": [],
   "source": [
    "data_dir = \"./data/\"\n",
    "data_dictionary = pd.read_csv(\n",
    "    data_dir + \"raw/data_dictionary.csv\",\n",
    "    delimiter = \",\"\n",
    ")\n",
    "sample = pd.read_csv(\n",
    "    data_dir + \"raw/sample_iss_18012020.csv\",\n",
    "    low_memory = False\n",
    ")[[\"centre\", \"pid\", \"iss\"]]\n",
    "nomesco_snomed = pd.read_csv(\n",
    "    data_dir + \"raw/ttris_nomesco_snomed.csv\", \n",
    "    delimiter = \";\",\n",
    "    low_memory = False\n",
    ")"
   ]
  },
  {
   "cell_type": "code",
   "execution_count": 6,
   "id": "3be7df39-132b-445b-8aff-ef16f7e93408",
   "metadata": {},
   "outputs": [],
   "source": [
    "data = pd.merge(nomesco_snomed, sample, on = [\"pid\", \"centre\"])"
   ]
  },
  {
   "cell_type": "markdown",
   "id": "ab5c752b-41d8-4fed-9315-e4909c45d744",
   "metadata": {},
   "source": [
    "Subset relevant variables"
   ]
  },
  {
   "cell_type": "code",
   "execution_count": 7,
   "id": "a29acd52-4520-4a82-a979-146991640530",
   "metadata": {},
   "outputs": [],
   "source": [
    "sv = [\"age\", \"moi\", \"sex\", \"mot\", \"tran\", \"s30d\", \"egcs\", \"mgcs\", \"vgcs\", \"avpu\", \"hr\",\n",
    "      \"sbp\", \"dbp\", \"spo2\", \"rr\", \"tc\", \"ic\", \"doar\", \"toar\", \"toa\", \"doa\", \"doi\", \"toi\", \"s24h\", \"hd\",\n",
    "      \"taicu\", \"daicu\", \"tos\", \"dos\", \"nomesco\", \"snomed\", \"s\", \"iss\"]\n",
    "data = data[sv]"
   ]
  },
  {
   "cell_type": "code",
   "execution_count": 8,
   "id": "eef05238-2f12-4e82-a556-c0fd2743bf30",
   "metadata": {},
   "outputs": [],
   "source": [
    "data.to_csv(data_dir + \"interim/merged_samples.csv\")"
   ]
  },
  {
   "cell_type": "markdown",
   "id": "67416769-aee4-40f0-9cd7-28a1780b37aa",
   "metadata": {},
   "source": [
    "### Recoding of Data"
   ]
  },
  {
   "cell_type": "markdown",
   "id": "3093ab36-c24b-4461-b9c9-9fef1027fa91",
   "metadata": {},
   "source": [
    "Recode,\n",
    "* `999` indicates missing..\n",
    "* `0` for doa and toa is not admitted, same for doar and toar, hence missing.\n",
    "* `0` for dos and tos is not taken to surgery within 30 days of admission."
   ]
  },
  {
   "cell_type": "code",
   "execution_count": 9,
   "id": "62793b91-9b49-440a-9912-f07ba671241d",
   "metadata": {},
   "outputs": [],
   "source": [
    "data.replace([999, \"999\"], np.nan, inplace = True)"
   ]
  },
  {
   "cell_type": "code",
   "execution_count": 10,
   "id": "e9b3b3f5-b3e8-47a9-8f6b-35cedf213251",
   "metadata": {},
   "outputs": [],
   "source": [
    "data[[\n",
    "    \"toa\",\n",
    "    \"toi\",\n",
    "    \"taicu\",\n",
    "    \"tos\",\n",
    "    \"toar\"\n",
    "]] = data[[\"toa\", \"toi\", \"taicu\", \"tos\", \"toar\"]].replace('0', '00:00:00')"
   ]
  },
  {
   "cell_type": "code",
   "execution_count": 11,
   "id": "256e72e4-de8b-4adc-9ecf-6360ce53f0ab",
   "metadata": {},
   "outputs": [],
   "source": [
    "data[[\n",
    "    \"doa\",\n",
    "    \"daicu\",\n",
    "    \"dos\",\n",
    "    \"doar\"\n",
    "]] = data[[\"doa\", \"daicu\", \"dos\", \"doar\"]].replace('0', '1970-01-01')"
   ]
  },
  {
   "cell_type": "markdown",
   "id": "ea68ba58-145a-4dd1-98cb-6db0a0b50954",
   "metadata": {},
   "source": [
    "### Exclusion criteria"
   ]
  },
  {
   "cell_type": "markdown",
   "id": "d40864b3-30bf-4df0-bef4-34176b5b74d4",
   "metadata": {},
   "source": [
    "Include only\n",
    "* Patients that infomed consent,\n",
    "* Adult patients (Those >= 18 years old)\n",
    "* Patients with complete data on s30d, and\n",
    "* Patients with complete data on triage category."
   ]
  },
  {
   "cell_type": "code",
   "execution_count": 31,
   "id": "a811e47e-4b6b-4744-a98e-e5480be2de20",
   "metadata": {},
   "outputs": [],
   "source": [
    "data_before_ic = data\n",
    "data_after_ic = data_before_ic.loc[(data.ic == 1)]\n",
    "n_removed_ic = len(data.index) - len(data_after_ic.index)\n",
    "\n",
    "data_before_age = data_after_ic\n",
    "data_after_age = data_before_age.loc[(data_before_age.age >= 18)]\n",
    "n_removed_age = len(data_before_age.index) - len(data_after_age.index)\n",
    "\n",
    "data_before_tc = data_after_age\n",
    "data_after_tc = data_before_tc.loc[data_before_tc.tc.notnull()]\n",
    "n_removed_tc = len(data_before_tc.index) - len(data_after_tc.index)\n",
    "\n",
    "data_before_s30d = data_after_tc\n",
    "data_after_s30d = data_before_s30d.loc[data_before_s30d.s30d.notnull()]\n",
    "n_removed_s30d = len(data_before_s30d.index) - len(data_after_s30d.index)\n",
    "\n",
    "data_excl = data_after_tc.copy(deep=True)"
   ]
  },
  {
   "cell_type": "code",
   "execution_count": 33,
   "id": "aff471fe-52ee-4e14-a8f2-a6dbfafe70ce",
   "metadata": {},
   "outputs": [],
   "source": [
    "labels = [\"original\",\n",
    "          \"n_removed_ic\", \n",
    "          \"n_ic\",\n",
    "          \"n_removed_age\", \n",
    "          \"n_age\", \n",
    "          \"n_removed_tc\",\n",
    "          \"n_tc\",\n",
    "          \"n_removed_s30d\",\n",
    "          \"n_final\",]\n",
    "\n",
    "excl_series = pd.Series([\n",
    "    len(data.index), \n",
    "    n_removed_ic,\n",
    "    len(data_after_ic.index), \n",
    "    n_removed_age,\n",
    "    len(data_after_age.index), \n",
    "    n_removed_tc,\n",
    "    len(data_after_tc.index),\n",
    "    n_removed_s30d, \n",
    "    len(data_after_s30d.index)\n",
    "], index = labels)\n",
    "excl_series.to_csv(data_dir + \"interim/excl.csv\")"
   ]
  },
  {
   "cell_type": "code",
   "execution_count": 34,
   "id": "5e6cc930-293c-4616-b4a2-fd7eb39146ce",
   "metadata": {},
   "outputs": [
    {
     "data": {
      "text/plain": [
       "original          12412\n",
       "n_removed_ic        533\n",
       "n_ic              11879\n",
       "n_removed_age         7\n",
       "n_age             11872\n",
       "n_removed_tc        297\n",
       "n_tc              11575\n",
       "n_removed_s30d     3280\n",
       "n_final            8295\n",
       "Name: 0, dtype: int64"
      ]
     },
     "execution_count": 34,
     "metadata": {},
     "output_type": "execute_result"
    }
   ],
   "source": [
    "pd.read_csv(data_dir + \"interim/excl.csv\", index_col = 0).iloc[:, 0]"
   ]
  },
  {
   "cell_type": "code",
   "execution_count": 28,
   "id": "3d2879b4-239f-4128-9eb0-ef6d4ce7bd1c",
   "metadata": {},
   "outputs": [],
   "source": [
    "data_excl.to_csv(data_dir + \"interim/merged_samples_clean.csv\")"
   ]
  },
  {
   "cell_type": "markdown",
   "id": "6168a470-6c53-4d5f-9273-804db9c20c5f",
   "metadata": {},
   "source": [
    "### Feature engineering"
   ]
  },
  {
   "cell_type": "markdown",
   "id": "949411cb-d6ad-45e4-bc2b-4ec186064d5c",
   "metadata": {},
   "source": [
    "* Create `time_to_arrival` feature\n",
    "* Add admission to ICU within 48H\n",
    "* Add binary for major surgery within 24H\n",
    "* Add ISS15, binary if iss is greater than or equal to 15\n",
    "* Add composite outcome\n",
    "* Collapse mechanism of injury\n",
    "* Conditional for outcome"
   ]
  },
  {
   "cell_type": "markdown",
   "id": "8d46f78d-975d-49f9-a7c6-ac1bea4e498f",
   "metadata": {},
   "source": [
    "#### Time to arrival feature"
   ]
  },
  {
   "cell_type": "markdown",
   "id": "a310d723-b7cb-4bff-a29e-dc266e3271c2",
   "metadata": {},
   "source": [
    "Enter 0 if any is 0, nan if nan, else convert to datetime. Probably exists a more efficient way to do this."
   ]
  },
  {
   "cell_type": "code",
   "execution_count": 17,
   "id": "f209ce29-f4c1-4e4b-8dc1-1bc3c98354db",
   "metadata": {},
   "outputs": [],
   "source": [
    "time_of_injury = pd.to_datetime(data_excl.doi + \" \" + data_excl.toi)"
   ]
  },
  {
   "cell_type": "code",
   "execution_count": 18,
   "id": "51be9970-b75e-482b-abf4-c998beee9f75",
   "metadata": {},
   "outputs": [],
   "source": [
    "time_of_arrival = pd.to_datetime(data_excl.doa + \" \" + data_excl.toa)"
   ]
  },
  {
   "cell_type": "code",
   "execution_count": 19,
   "id": "ab41d603-99d2-4491-a70d-9f68028398c2",
   "metadata": {},
   "outputs": [],
   "source": [
    "data_excl = data_excl.assign(delay = (time_of_arrival - time_of_injury).astype('timedelta64[m]'))\n",
    "data_excl.delay = [0 if x < 0 else x for x in data_excl.delay]"
   ]
  },
  {
   "cell_type": "markdown",
   "id": "43f2dd8c-e1d2-4eff-98c0-b5da1bbd17c0",
   "metadata": {},
   "source": [
    "#### Admission to ICU within 48h feature"
   ]
  },
  {
   "cell_type": "code",
   "execution_count": 20,
   "id": "1dbea3b4-279b-4d7c-b5b5-1bdb54191b9b",
   "metadata": {},
   "outputs": [],
   "source": [
    "ed_admit = pd.to_datetime(data_excl.doar + \" \" + data_excl.toar)\n",
    "icu_admit = pd.to_datetime(data_excl.daicu + \" \" + data_excl.taicu)\n",
    "time_to_icu = (icu_admit - ed_admit).astype('timedelta64[h]')"
   ]
  },
  {
   "cell_type": "code",
   "execution_count": 21,
   "id": "9a28faa2-85dd-4a2e-bfa2-a481eaa072aa",
   "metadata": {},
   "outputs": [],
   "source": [
    "icu48h = [1 if x <= 48 else 0 for x in time_to_icu]\n",
    "data_excl = data_excl.assign(icu48h = icu48h)"
   ]
  },
  {
   "cell_type": "code",
   "execution_count": 22,
   "id": "544b2b17-4438-4443-90ce-fa1f728d582e",
   "metadata": {},
   "outputs": [],
   "source": [
    "data_excl.drop(columns = [\n",
    "    \"daicu\",\n",
    "    \"taicu\"\n",
    "], inplace = True)"
   ]
  },
  {
   "cell_type": "markdown",
   "id": "8356e9fa-de5d-4733-ab87-a5f5f905dd2d",
   "metadata": {},
   "source": [
    "#### Binary for major surgery within 24h"
   ]
  },
  {
   "cell_type": "code",
   "execution_count": 23,
   "id": "bdd5ceea-fc06-4b39-af88-9227b58fd3b6",
   "metadata": {},
   "outputs": [],
   "source": [
    "true_major_codes = \"446816008.0|446683008.0|446115005.0|178674000.0|275093002.0|272300006.0|112777008.0|57470004.0|8476009.0|35340001.0|23036009.0|439756000.0|274457001.0|74011006.0|73231008.0|67319007.0|56413001.0|36777000.0|74770008.0\""
   ]
  },
  {
   "cell_type": "code",
   "execution_count": 24,
   "id": "2cccea76-70b4-4a4d-bdda-03aba9e9f3b5",
   "metadata": {},
   "outputs": [],
   "source": [
    "true_major = data_excl.snomed.astype(str).str.contains(true_major_codes)"
   ]
  },
  {
   "cell_type": "code",
   "execution_count": 25,
   "id": "8caf50b0-27b1-4e3d-a1b8-c0f12bd540e3",
   "metadata": {},
   "outputs": [],
   "source": [
    "date_time_surgery = pd.to_datetime(data_excl.dos + \" \" + data_excl.tos)\n",
    "date_time_ed = pd.to_datetime(data_excl.doar + \" \" + data_excl.toar)\n",
    "time_to_surgery = (date_time_surgery - date_time_ed).astype('timedelta64[h]')"
   ]
  },
  {
   "cell_type": "code",
   "execution_count": 26,
   "id": "ff472055-cd5e-4c6b-93b9-ed10f142beef",
   "metadata": {},
   "outputs": [],
   "source": [
    "majors24h = ((true_major == True) & (time_to_surgery <= 24)).astype(int)"
   ]
  },
  {
   "cell_type": "markdown",
   "id": "320d3e8b-fcd4-4ba1-b215-b391f6a90cbf",
   "metadata": {},
   "source": [
    "If `dos` or `tos` is 0, then s should be coded as 0 "
   ]
  },
  {
   "cell_type": "code",
   "execution_count": 27,
   "id": "1c00e7bb-7d60-41b9-a9b3-770e7701f0a3",
   "metadata": {},
   "outputs": [],
   "source": [
    "cond = (data_excl.dos == '1970-01-01') | (data_excl.tos == '00:00:00')\n",
    "data_excl.loc[:, \"s\"] = pd.Series(['0' if b == True else x for b, x in zip(cond, data_excl.s)])"
   ]
  },
  {
   "cell_type": "markdown",
   "id": "e7dab416-080c-4f95-846c-00941fb6560f",
   "metadata": {},
   "source": [
    "If NA in `s`, then `majors24h` should also be NA"
   ]
  },
  {
   "cell_type": "code",
   "execution_count": 28,
   "id": "60280175-4ab4-4c15-913c-f341fbaa9389",
   "metadata": {},
   "outputs": [],
   "source": [
    "majors24h = pd.Series([x if pd.isnull(x) else m24h for x, m24h in zip(data_excl.s, majors24h)])"
   ]
  },
  {
   "cell_type": "markdown",
   "id": "38dd6f46-8189-4bbf-b598-49ad8ff3e7e9",
   "metadata": {},
   "source": [
    "Drop the irrelevant columns"
   ]
  },
  {
   "cell_type": "code",
   "execution_count": 29,
   "id": "1c24b5ee-15f1-47e1-9e4d-98d5548b7a05",
   "metadata": {},
   "outputs": [],
   "source": [
    "data_excl.drop(columns = [\n",
    "    \"s\",\n",
    "    \"dos\",\n",
    "    \"tos\",\n",
    "    \"doar\",\n",
    "    \"toar\",\n",
    "    \"toa\",\n",
    "    \"doa\",\n",
    "    \"doi\", \n",
    "    \"toi\",\n",
    "    \"snomed\",\n",
    "    \"nomesco\",\n",
    "], inplace = True)"
   ]
  },
  {
   "cell_type": "code",
   "execution_count": 30,
   "id": "3b91d1c1-5c83-481e-9614-79a6cb3e8093",
   "metadata": {},
   "outputs": [],
   "source": [
    "data_excl = data_excl.assign(majors24h = majors24h)"
   ]
  },
  {
   "cell_type": "markdown",
   "id": "9e75aa1f-ce45-43fd-a0ac-b1ca4380332b",
   "metadata": {
    "tags": []
   },
   "source": [
    "#### Add ISS15"
   ]
  },
  {
   "cell_type": "code",
   "execution_count": 31,
   "id": "892a3c4b-10e1-4dbb-ad8c-caf2353705ce",
   "metadata": {},
   "outputs": [],
   "source": [
    "iss15 = np.where(data_excl.iss >= 15, 1, 0)\n",
    "iss15 = pd.Series([np.nan if pd.isnull(x) else y for x, y in zip(data_excl.iss, iss15)])"
   ]
  },
  {
   "cell_type": "code",
   "execution_count": 32,
   "id": "333ef885-0be0-4c27-8bb3-81d7c786e8d2",
   "metadata": {},
   "outputs": [],
   "source": [
    "data_excl = data_excl.assign(iss15 = iss15).drop(columns = [\"iss\"])"
   ]
  },
  {
   "cell_type": "markdown",
   "id": "08a05e2d-4b80-4eee-8cde-56073b4c886c",
   "metadata": {},
   "source": [
    "#### Add composite outcome"
   ]
  },
  {
   "cell_type": "code",
   "execution_count": 33,
   "id": "8c7d2ac9-f08e-47ec-b058-fbf78b5473f0",
   "metadata": {},
   "outputs": [],
   "source": [
    "data_excl = data_excl.assign(\n",
    "    composite = ((icu48h == 1) | (data_excl.s24h == \"Yes\") | (majors24h == 1) | (iss15 == 1)).astype(int)\n",
    ")"
   ]
  },
  {
   "cell_type": "markdown",
   "id": "cd3058d6-7623-40f9-be09-f9a25fc0bbc8",
   "metadata": {},
   "source": [
    "#### Collapse mechanism of injury to single variable"
   ]
  },
  {
   "cell_type": "code",
   "execution_count": 34,
   "id": "8a47a380-bc7b-4a03-93fa-273f80a07432",
   "metadata": {},
   "outputs": [],
   "source": [
    "below_ten = [\"0\" + str(x) for x in range(10)]"
   ]
  },
  {
   "cell_type": "code",
   "execution_count": 35,
   "id": "41cecaed-86a9-48f8-a569-a6ad588d8c18",
   "metadata": {},
   "outputs": [],
   "source": [
    "l = [\n",
    "    {k : \"Transportation accident\" for k in [\"V\" + str(x) for x in below_ten + [str(y) for y in range(10, 100)]]},  ## Transport accidents\n",
    "    {k : \"Falls\" for k in [\"W\" + str(x) for x in below_ten + [str(y) for y in range(10, 20)]]},                     ## Falls\n",
    "    {k : \"Burns\" for k in [\"X\" + str(x) for x in below_ten + [str(y) for y in range(10, 20)]]},                     ## Burns\n",
    "    {k : \"Other external causes of accidental injury\" for k in [\"W\" + str(x) for x in range(20, 100)] + [\"X\" + str(x) for x in range(20, 60)]},  ## Other external causes of accidental injury\n",
    "    {k : \"Intentional self-harm\" for k in [\"X\" + str(x) for x in range(60, 85)]},                                   ## Intential self-harm\n",
    "    {k : \"Assault\" for k in [\"X\" + str(x) for x in list(range(85, 100))] + [\"Y\" + str(x) for x in below_ten]},      ## Assault\n",
    "    {k : \"Event of undetermined intent\" for k in [\"Y\" + str(x) for x in range(10, 35)]},                            ## Events of undetermined intent\n",
    "    {k : \"Legal intervention\" for k in [\"Y\" + str(x) for x in [35, 36]]},                                           ## Legal intervention\n",
    "]\n",
    "dd = {}\n",
    "for d in l: dd.update(d)"
   ]
  },
  {
   "cell_type": "code",
   "execution_count": 36,
   "id": "cd7d8e1f-5f6d-4137-ba81-2ea66fddc9f6",
   "metadata": {},
   "outputs": [],
   "source": [
    "moi_codes = data_excl.moi.value_counts().index.to_series()\n",
    "moi_to_unlabelled = moi_codes[~moi_codes.isin(pd.Series(dd.keys()))]\n",
    "dd = {**dd, **{k : \"Unlabelled\" for k in moi_to_unlabelled}}"
   ]
  },
  {
   "cell_type": "code",
   "execution_count": 37,
   "id": "00f16ac0-d049-4091-a7e0-3800153b8c79",
   "metadata": {},
   "outputs": [],
   "source": [
    "data_excl.loc[:, \"moi\"] = data_excl.loc[:, \"moi\"].replace(dd)"
   ]
  },
  {
   "cell_type": "markdown",
   "id": "2abde0ad-a8e6-481e-ba53-aac3b562e670",
   "metadata": {},
   "source": [
    "Set values of 2 in s30d to 1 (I.e. if admitted to other hospital and alive, then set alive)"
   ]
  },
  {
   "cell_type": "code",
   "execution_count": 38,
   "id": "4d311c34-c38e-44bf-b1d5-9f48377015ca",
   "metadata": {},
   "outputs": [],
   "source": [
    "data_excl.loc[data_excl.s30d == 2, \"s30d\"] = 1"
   ]
  },
  {
   "cell_type": "markdown",
   "id": "dabd8d33-b5f2-4ec8-9650-85b67ba29839",
   "metadata": {},
   "source": [
    "Outcome variable is set to dead if patients were dead on discharge after 30 days or if dead after 24 hours"
   ]
  },
  {
   "cell_type": "code",
   "execution_count": 39,
   "id": "436eb083-1422-45ee-bf15-f82c9c57fc26",
   "metadata": {},
   "outputs": [],
   "source": [
    "data_excl.loc[((data_excl.hd == 1) & pd.notnull(data_excl.hd)) | ((data_excl.s24h == 1) & (pd.notnull(data_excl.s24h))), \"s30d\"] = 1"
   ]
  },
  {
   "cell_type": "markdown",
   "id": "6cb84400-3f54-4317-836f-bb39610d05d3",
   "metadata": {},
   "source": [
    "Remove the informed consent variable variable"
   ]
  },
  {
   "cell_type": "code",
   "execution_count": 40,
   "id": "d488ecc7-a67b-4bc1-a207-027be50db163",
   "metadata": {},
   "outputs": [],
   "source": [
    "data_excl.drop(columns = [\"ic\", \"icu48h\", \"majors24h\", \"iss15\", \"hd\"], inplace = True)"
   ]
  },
  {
   "cell_type": "markdown",
   "id": "dd6e3d22-1022-432c-9284-043daa9f8342",
   "metadata": {},
   "source": [
    "### Write to disk"
   ]
  },
  {
   "cell_type": "markdown",
   "id": "ba8883b9-f06f-42ca-82e9-4c523ae4cf3a",
   "metadata": {},
   "source": [
    "Write to separate datasets to disk,\n",
    "* For the `s30d` outcome, drop `s24h` and `composite`\n",
    "* For the `composite` outcome, drop `s30d`, `s24h`"
   ]
  },
  {
   "cell_type": "markdown",
   "id": "0a14ed11-e208-4ec6-9bc9-8534c891d2a8",
   "metadata": {},
   "source": [
    "Do encoding of categorical variables before splitting "
   ]
  },
  {
   "cell_type": "code",
   "execution_count": 41,
   "id": "bdd88211-9566-4a3e-b57d-60398ad429d6",
   "metadata": {},
   "outputs": [],
   "source": [
    "cont_features = [\"age\", \"hr\", \"sbp\", \"dbp\", \"spo2\", \"rr\", \"delay\"]\n",
    "cat_features = list(data_excl.loc[:, ~data_excl.columns.isin(cont_features + [\"s24h\", \"composite\", \"s30d\", \"tc\"])].columns)"
   ]
  },
  {
   "cell_type": "markdown",
   "id": "efaf744a-1dfb-4536-8689-4c28f9e6f4e9",
   "metadata": {},
   "source": [
    "Split datasets first"
   ]
  },
  {
   "cell_type": "code",
   "execution_count": 42,
   "id": "0927fc1b-4508-496a-b302-d017e420a842",
   "metadata": {},
   "outputs": [],
   "source": [
    "from sklearn.model_selection import train_test_split"
   ]
  },
  {
   "cell_type": "markdown",
   "id": "6b7e7f72-8c83-4cf3-bc4c-ae00945a90c6",
   "metadata": {},
   "source": [
    "For `s30d`"
   ]
  },
  {
   "cell_type": "code",
   "execution_count": 43,
   "id": "2c3c9c3d-6d0f-4155-9116-5c215872808d",
   "metadata": {},
   "outputs": [],
   "source": [
    "X_train_s30d, X_test_s30d, y_train_s30d, y_test_s30d, tc_train_s30d, tc_test_s30d = train_test_split(\n",
    "    data_excl.drop(columns = [\"s24h\", \"composite\", \"s30d\", \"tc\"]),\n",
    "    data_excl.s30d,\n",
    "    data_excl.tc,\n",
    "    random_state = 27,\n",
    "    stratify = data_excl.s30d\n",
    ")"
   ]
  },
  {
   "cell_type": "markdown",
   "id": "4920782e-5ee8-4864-902f-a30db1f41130",
   "metadata": {},
   "source": [
    "Merge the dataset in order to generate summary table"
   ]
  },
  {
   "cell_type": "code",
   "execution_count": 44,
   "id": "d2d13698-0d4a-42e1-8a8f-2e354eae729b",
   "metadata": {},
   "outputs": [],
   "source": [
    "df_s30d_train = X_train_s30d.assign(\n",
    "    s30d=y_train_s30d, \n",
    "    tc=tc_train_s30d,\n",
    "    partition=[\"Train\"] * len(y_train_s30d)\n",
    ")\n",
    "df_s30d_test = X_test_s30d.assign(\n",
    "    s30d=y_test_s30d, \n",
    "    tc=tc_test_s30d,\n",
    "    partition=[\"Holdout\"] * len(y_test_s30d)\n",
    ")\n",
    "df_s30d = pd.concat([df_s30d_train, df_s30d_test])"
   ]
  },
  {
   "cell_type": "code",
   "execution_count": 45,
   "id": "eae97c32-1aa5-4bb7-acdb-7ad14dd58dae",
   "metadata": {},
   "outputs": [],
   "source": [
    "data_excl.to_csv(data_dir + \"interim/merged_samples_clean.csv\")"
   ]
  },
  {
   "cell_type": "code",
   "execution_count": 46,
   "id": "b9d6582f-e0dc-4f56-82df-4e94fa4962ab",
   "metadata": {},
   "outputs": [],
   "source": [
    "df_s30d.to_csv(data_dir + \"interim/table_sample_s30d.csv\")"
   ]
  },
  {
   "cell_type": "markdown",
   "id": "5799ac49-2071-4924-9b7c-ab77e57103fb",
   "metadata": {},
   "source": [
    "Replace the values of the data with labels"
   ]
  },
  {
   "cell_type": "code",
   "execution_count": 47,
   "id": "d4f3bc3b-d27a-4c0d-bde3-e94b8f755722",
   "metadata": {},
   "outputs": [],
   "source": [
    "from src.data.transform import parse_value_labels, label_categorical\n",
    "from src.visualization.visualize import create_sample_characteristics_table"
   ]
  },
  {
   "cell_type": "code",
   "execution_count": 48,
   "id": "57a5aa80-ab0b-4502-9773-0428f3280893",
   "metadata": {},
   "outputs": [
    {
     "name": "stderr",
     "output_type": "stream",
     "text": [
      "/Users/ludvigwarnberggerdin/miniforge3/envs/pemett/lib/python3.10/site-packages/tableone/tableone.py:991: FutureWarning: Using the level keyword in DataFrame and Series aggregations is deprecated and will be removed in a future version. Use groupby instead. df.sum(level=1) should use df.groupby(level=1).sum().\n",
      "/Users/ludvigwarnberggerdin/miniforge3/envs/pemett/lib/python3.10/site-packages/tableone/tableone.py:991: FutureWarning: Using the level keyword in DataFrame and Series aggregations is deprecated and will be removed in a future version. Use groupby instead. df.sum(level=1) should use df.groupby(level=1).sum().\n"
     ]
    }
   ],
   "source": [
    "t1_s30d = create_sample_characteristics_table(\n",
    "    df=df_s30d,\n",
    "    data_dictionary=data_dictionary,\n",
    "    categorical=cat_features + [\"s30d\", \"tc\"],\n",
    "    nonnormal=cont_features, \n",
    "    groupby=\"partition\"\n",
    ")"
   ]
  },
  {
   "cell_type": "markdown",
   "id": "a81d29a9-92a1-40af-a197-e8557a8cc6e2",
   "metadata": {},
   "source": [
    "Save features, outcome, and clinicians triage to separate files"
   ]
  },
  {
   "cell_type": "code",
   "execution_count": 49,
   "id": "2d798206-fe1d-4a1f-ac27-2698fe83f65f",
   "metadata": {},
   "outputs": [],
   "source": [
    "X_train_s30d = label_categorical(X_train_s30d, cat_features)\n",
    "X_test_s30d = label_categorical(X_test_s30d, cat_features)"
   ]
  },
  {
   "cell_type": "code",
   "execution_count": 50,
   "id": "3c7558ca-a19f-4a52-9171-077b003003f8",
   "metadata": {},
   "outputs": [],
   "source": [
    "X_train_s30d.to_csv(data_dir + \"processed/s30d/X_train.csv\")\n",
    "X_test_s30d.to_csv(data_dir + \"processed/s30d/X_test.csv\")\n",
    "y_train_s30d.to_csv(data_dir + \"processed/s30d/y_train.csv\")\n",
    "y_test_s30d.to_csv(data_dir + \"processed/s30d/y_test.csv\")\n",
    "tc_train_s30d.to_csv(data_dir + \"processed/s30d/tc_train.csv\")\n",
    "tc_test_s30d.to_csv(data_dir + \"processed/s30d/tc_test.csv\")"
   ]
  },
  {
   "cell_type": "markdown",
   "id": "d47247ed-95ec-4f9b-be61-bd8d781a87a7",
   "metadata": {},
   "source": [
    "For `composite`"
   ]
  },
  {
   "cell_type": "code",
   "execution_count": 57,
   "id": "77528b62-6a56-4a47-b566-b096c8101264",
   "metadata": {},
   "outputs": [
    {
     "data": {
      "text/plain": [
       "['age', 'hr', 'sbp', 'dbp', 'spo2', 'rr', 'delay']"
      ]
     },
     "execution_count": 57,
     "metadata": {},
     "output_type": "execute_result"
    }
   ],
   "source": [
    "cont_features"
   ]
  },
  {
   "cell_type": "code",
   "execution_count": 51,
   "id": "e560ed9b-a058-493f-a7ee-72dc1ece2c58",
   "metadata": {},
   "outputs": [],
   "source": [
    "X_train_composite, X_test_composite, y_train_composite, y_test_composite, tc_train_composite, tc_test_composite = train_test_split(\n",
    "    data_excl.drop(columns = [\"s30d\", \"s24h\", \"tc\", \"composite\"]),\n",
    "    data_excl.composite,\n",
    "    data_excl.tc,\n",
    "    random_state = 123,\n",
    "    stratify = data_excl[[\"composite\"]]\n",
    ")"
   ]
  },
  {
   "cell_type": "code",
   "execution_count": 52,
   "id": "d4556709-4df3-47a3-b918-2ad0b1237135",
   "metadata": {},
   "outputs": [],
   "source": [
    "df_composite_train = X_train_composite.assign(\n",
    "    composite=y_train_composite, \n",
    "    tc=tc_train_composite,\n",
    "    partition=[\"Train\"] * len(y_train_composite)\n",
    ")\n",
    "df_composite_test = X_test_composite.assign(\n",
    "    composite=y_test_composite, \n",
    "    tc=tc_test_composite,\n",
    "    partition=[\"Holdout\"] * len(y_test_composite)\n",
    ")\n",
    "df_composite = pd.concat([df_composite_train, df_composite_test])"
   ]
  },
  {
   "cell_type": "code",
   "execution_count": 53,
   "id": "e5edbc00-dd9f-4df6-a524-c4bb3e5215df",
   "metadata": {},
   "outputs": [],
   "source": [
    "df_composite.to_csv(data_dir + \"interim/table_sample_composite.csv\")"
   ]
  },
  {
   "cell_type": "code",
   "execution_count": 54,
   "id": "806edc94-8225-4cf3-bd2a-cf4bb86e4e6d",
   "metadata": {},
   "outputs": [
    {
     "name": "stderr",
     "output_type": "stream",
     "text": [
      "/Users/ludvigwarnberggerdin/miniforge3/envs/pemett/lib/python3.10/site-packages/tableone/tableone.py:991: FutureWarning: Using the level keyword in DataFrame and Series aggregations is deprecated and will be removed in a future version. Use groupby instead. df.sum(level=1) should use df.groupby(level=1).sum().\n",
      "/Users/ludvigwarnberggerdin/miniforge3/envs/pemett/lib/python3.10/site-packages/tableone/tableone.py:991: FutureWarning: Using the level keyword in DataFrame and Series aggregations is deprecated and will be removed in a future version. Use groupby instead. df.sum(level=1) should use df.groupby(level=1).sum().\n"
     ]
    }
   ],
   "source": [
    "t1_composite = create_sample_characteristics_table(\n",
    "    df=df_composite,\n",
    "    data_dictionary=data_dictionary,\n",
    "    categorical=cat_features + [\"composite\", \"tc\"],\n",
    "    nonnormal=cont_features, \n",
    "    groupby=\"partition\"\n",
    ")"
   ]
  },
  {
   "cell_type": "code",
   "execution_count": 55,
   "id": "47f07e27-a5a3-4512-b022-b08c9c6ab423",
   "metadata": {},
   "outputs": [
    {
     "ename": "AttributeError",
     "evalue": "'TableOne' object has no attribute 'to_markdown'",
     "output_type": "error",
     "traceback": [
      "\u001b[0;31m---------------------------------------------------------------------------\u001b[0m",
      "\u001b[0;31mAttributeError\u001b[0m                            Traceback (most recent call last)",
      "\u001b[0;32m/var/folders/4r/pj221_cx4fsc736mmyv_9lnr0000gn/T/ipykernel_34710/24249063.py\u001b[0m in \u001b[0;36m<module>\u001b[0;34m\u001b[0m\n\u001b[0;32m----> 1\u001b[0;31m \u001b[0mt1_composite\u001b[0m\u001b[0;34m.\u001b[0m\u001b[0mto_markdown\u001b[0m\u001b[0;34m(\u001b[0m\u001b[0;34m)\u001b[0m\u001b[0;34m\u001b[0m\u001b[0;34m\u001b[0m\u001b[0m\n\u001b[0m",
      "\u001b[0;31mAttributeError\u001b[0m: 'TableOne' object has no attribute 'to_markdown'"
     ]
    }
   ],
   "source": [
    "t1_composite.to_markdown()"
   ]
  },
  {
   "cell_type": "code",
   "execution_count": 68,
   "id": "24ca584f-4603-4112-8309-645f1093d06f",
   "metadata": {},
   "outputs": [],
   "source": [
    "X_train_composite = label_categorical(X_train_composite, cat_features)\n",
    "X_test_composite = label_categorical(X_test_composite, cat_features)"
   ]
  },
  {
   "cell_type": "code",
   "execution_count": 69,
   "id": "e15c5e8d-f6a2-41fd-8a5b-4d09ac4e4914",
   "metadata": {},
   "outputs": [],
   "source": [
    "X_train_composite.to_csv(data_dir + \"processed/composite/X_train.csv\")\n",
    "X_test_composite.to_csv(data_dir + \"processed/composite/X_test.csv\")\n",
    "y_train_composite.to_csv(data_dir + \"processed/composite/y_train.csv\")\n",
    "y_test_composite.to_csv(data_dir + \"processed/composite/y_test.csv\")\n",
    "tc_train_composite.to_csv(data_dir + \"processed/composite/tc_train.csv\")\n",
    "tc_test_composite.to_csv(data_dir + \"processed/composite/tc_test.csv\")"
   ]
  }
 ],
 "metadata": {
  "kernelspec": {
   "display_name": "Python 3 (ipykernel)",
   "language": "python",
   "name": "python3"
  },
  "language_info": {
   "codemirror_mode": {
    "name": "ipython",
    "version": 3
   },
   "file_extension": ".py",
   "mimetype": "text/x-python",
   "name": "python",
   "nbconvert_exporter": "python",
   "pygments_lexer": "ipython3",
   "version": "3.10.0"
  }
 },
 "nbformat": 4,
 "nbformat_minor": 5
}
