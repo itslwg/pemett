{
 "cells": [
  {
   "cell_type": "markdown",
   "id": "0c9d9d89-4af7-4dc8-b1f3-c77dddad0c36",
   "metadata": {},
   "source": [
    "# Model training and prediction - `s30d`"
   ]
  },
  {
   "cell_type": "code",
   "execution_count": 1,
   "id": "cf1fd4f7-e9ed-4c86-bf83-879e086ffb12",
   "metadata": {},
   "outputs": [],
   "source": [
    "%load_ext autoreload\n",
    "%autoreload 2"
   ]
  },
  {
   "cell_type": "code",
   "execution_count": 2,
   "id": "f08843e3-1ca8-42ec-a344-1c5f560441dd",
   "metadata": {},
   "outputs": [],
   "source": [
    "import os\n",
    "os.chdir(\"..\")"
   ]
  },
  {
   "cell_type": "code",
   "execution_count": 3,
   "id": "4918d091-6dc7-47e1-8419-8973ebbf246c",
   "metadata": {},
   "outputs": [
    {
     "data": {
      "text/plain": [
       "'/Users/ludvigwarnberggerdin/projects/ttris/pemett'"
      ]
     },
     "execution_count": 3,
     "metadata": {},
     "output_type": "execute_result"
    }
   ],
   "source": [
    "os.getcwd()"
   ]
  },
  {
   "cell_type": "code",
   "execution_count": 4,
   "id": "66d758ca-f517-4df4-8bc0-f1cbc91226ad",
   "metadata": {},
   "outputs": [],
   "source": [
    "import numpy as np\n",
    "import pandas as pd"
   ]
  },
  {
   "cell_type": "code",
   "execution_count": 5,
   "id": "cb6ed398-04d7-4bba-8693-e79e973e5487",
   "metadata": {},
   "outputs": [],
   "source": [
    "X_train = pd.read_csv(\"./data/processed/s30d/X_train.csv\", index_col = 0)\n",
    "y_train = pd.read_csv(\"./data/processed/s30d/y_train.csv\", index_col = 0).s30d\n",
    "X_test = pd.read_csv(\"./data/processed/s30d/X_test.csv\", index_col = 0)\n",
    "y_test = pd.read_csv(\"./data/processed/s30d/y_test.csv\", index_col = 0).s30d\n",
    "tc_train = pd.read_csv(\"./data/processed/s30d/tc_train.csv\", index_col = 0).tc\n",
    "tc_test = pd.read_csv(\"./data/processed/s30d/tc_test.csv\", index_col = 0).tc"
   ]
  },
  {
   "cell_type": "code",
   "execution_count": 6,
   "id": "fb610948-9c80-4507-861c-feeb3318fbb1",
   "metadata": {},
   "outputs": [
    {
     "data": {
      "text/plain": [
       "0.0    94.197074\n",
       "1.0     5.802926\n",
       "Name: s30d, dtype: float64"
      ]
     },
     "execution_count": 6,
     "metadata": {},
     "output_type": "execute_result"
    }
   ],
   "source": [
    "y_train.value_counts() / len(y_train.index) * 100"
   ]
  },
  {
   "cell_type": "code",
   "execution_count": 7,
   "id": "fe14dc61-2fe7-4188-9b39-5c4abb2f149d",
   "metadata": {},
   "outputs": [],
   "source": [
    "cont_features = [\"age\", \"hr\", \"sbp\", \"dbp\", \"spo2\", \"rr\", \"delay\"]\n",
    "cat_features = list(X_train.loc[:, ~X_train.columns.isin(cont_features)].columns)"
   ]
  },
  {
   "cell_type": "markdown",
   "id": "ce6f9e4e-ff18-4afd-bd68-28701e564246",
   "metadata": {
    "tags": []
   },
   "source": [
    "## Run hyper parameter search"
   ]
  },
  {
   "cell_type": "code",
   "execution_count": 8,
   "id": "f7e57514-909f-4bdb-83e4-6f83e4e7e423",
   "metadata": {},
   "outputs": [],
   "source": [
    "import random\n",
    "from tqdm.notebook import tqdm\n",
    "from src.models.train_model import generate_all_combinations"
   ]
  },
  {
   "cell_type": "code",
   "execution_count": 9,
   "id": "5ee3654e-7a80-4e7d-be40-7dfec004e221",
   "metadata": {},
   "outputs": [],
   "source": [
    "import itertools as it\n",
    "all_breaks = [(0, ) + x + (np.inf,) for x in it.combinations(np.arange(0.01, 1, 0.01), r=3)]"
   ]
  },
  {
   "cell_type": "code",
   "execution_count": 10,
   "id": "483bf1b0-3db6-48b3-8c55-721198e10432",
   "metadata": {},
   "outputs": [],
   "source": [
    "from sklearn.linear_model import LogisticRegression\n",
    "from sklearn.ensemble import RandomForestClassifier\n",
    "from lightgbm import LGBMClassifier\n",
    "\n",
    "from sklearn.pipeline import Pipeline\n",
    "from sklearn.impute import SimpleImputer\n",
    "from sklearn.compose import ColumnTransformer\n",
    "from sklearn.preprocessing import StandardScaler, OneHotEncoder"
   ]
  },
  {
   "cell_type": "code",
   "execution_count": 11,
   "id": "8bff7851-5b1f-4d4c-b729-272b7c698886",
   "metadata": {},
   "outputs": [],
   "source": [
    "hyper_parameters = {\n",
    "    \"logisticregression__logisticregression__C\": [0.1, 0.2],\n",
    "    \"randomforestclassifier__randomforestclassifier__n_estimators\": [100, 200],\n",
    "    \"breaks\": all_breaks[:1]\n",
    "}"
   ]
  },
  {
   "cell_type": "code",
   "execution_count": 12,
   "id": "5828d968-0d8e-4c96-a603-3ba4954943e4",
   "metadata": {},
   "outputs": [],
   "source": [
    "numerical_pipeline = Pipeline(steps=[\n",
    "    (\"si\", SimpleImputer(strategy=\"median\", add_indicator=True)),\n",
    "    (\"ss\", StandardScaler())\n",
    "])\n",
    "categorical_pipeline = Pipeline(steps=[\n",
    "    (\"si\", SimpleImputer(strategy=\"most_frequent\", add_indicator=True)),\n",
    "    (\"ohe\", OneHotEncoder(handle_unknown=\"ignore\"))\n",
    "])\n",
    "transformers = [\n",
    "    (\"cont\", numerical_pipeline, cont_features), \n",
    "    (\"cat\", categorical_pipeline, cat_features)]\n",
    "preprocessor = ColumnTransformer(transformers=transformers)"
   ]
  },
  {
   "cell_type": "code",
   "execution_count": 13,
   "id": "27ae05c0-1ad4-4b86-8a15-b78d89c21982",
   "metadata": {},
   "outputs": [],
   "source": [
    "# lgbm = Pipeline(steps=[(\"lightgbmclassifier\", LGBMClassifier())])\n",
    "lr = Pipeline(steps = [\n",
    "    (\"pp\", preprocessor),\n",
    "    (\"logisticregression\", LogisticRegression())\n",
    "])\n",
    "rf = Pipeline(steps = [\n",
    "    (\"pp\", preprocessor),\n",
    "    (\"randomforestclassifier\", RandomForestClassifier())\n",
    "])\n",
    "base_clfs = [\n",
    "    # lgbm,\n",
    "    lr,\n",
    "    rf\n",
    "]"
   ]
  },
  {
   "cell_type": "code",
   "execution_count": 14,
   "id": "8e3662ba-f282-4633-af9a-9352ec551ed8",
   "metadata": {},
   "outputs": [],
   "source": [
    "all_hyper_parameters = generate_all_combinations(hyper_parameters)"
   ]
  },
  {
   "cell_type": "code",
   "execution_count": 15,
   "id": "aa908116-2987-465b-9901-d912f4b62b04",
   "metadata": {},
   "outputs": [],
   "source": [
    "from src.models.classifiers import StackedGeneralizationClassifier"
   ]
  },
  {
   "cell_type": "code",
   "execution_count": 16,
   "id": "2b4d7b52-29de-4c50-85da-923cb04ec2d5",
   "metadata": {},
   "outputs": [
    {
     "data": {
      "application/vnd.jupyter.widget-view+json": {
       "model_id": "fa2bed3742b8478a886fce9ccec557d5",
       "version_major": 2,
       "version_minor": 0
      },
      "text/plain": [
       "  0%|          | 0/4 [00:00<?, ?it/s]"
      ]
     },
     "metadata": {},
     "output_type": "display_data"
    },
    {
     "name": "stdout",
     "output_type": "stream",
     "text": [
      "Outer loop, each fold:\n",
      "\tNumber of 0's: ~2930 (94.18%)\n",
      "\tNumber of 1's: ~181 (5.82%)\n",
      "Inner loop, each loop:\n",
      "\tNumber of 0's: ~1465 (94.18%)\n",
      "\tNumber of 1's: ~90 (5.82%)\n"
     ]
    },
    {
     "data": {
      "text/plain": [
       "<src.models.classifiers.StackedGeneralizationClassifier at 0x137046d70>"
      ]
     },
     "execution_count": 16,
     "metadata": {},
     "output_type": "execute_result"
    }
   ],
   "source": [
    "sgclf = StackedGeneralizationClassifier(\n",
    "    base_clfs=base_clfs, \n",
    "    meta_clf=LogisticRegression(),\n",
    "    use_probas=True, \n",
    "    verbose=False\n",
    ")\n",
    "sgclf.cv_outer_loop(\n",
    "    all_hyper_parameters=all_hyper_parameters,\n",
    "    X=X_train, \n",
    "    y=y_train, \n",
    "    refit=True\n",
    ")"
   ]
  },
  {
   "cell_type": "code",
   "execution_count": 17,
   "id": "d343d79f-67c7-4bce-bd61-4fe459f72ee5",
   "metadata": {},
   "outputs": [],
   "source": [
    "y_test_pred_con, y_test_pred_cut = sgclf.predict(X_test)"
   ]
  },
  {
   "cell_type": "code",
   "execution_count": 18,
   "id": "a557d1e8-425d-4c5f-8111-540887814348",
   "metadata": {},
   "outputs": [],
   "source": [
    "from sklearn.metrics import roc_auc_score"
   ]
  },
  {
   "cell_type": "code",
   "execution_count": 19,
   "id": "a3dcd300-91a0-4a71-83eb-41f77e69f2fa",
   "metadata": {},
   "outputs": [
    {
     "data": {
      "text/plain": [
       "'Hold-out AUC of ROC, continous model: 0.9554887410440123'"
      ]
     },
     "execution_count": 19,
     "metadata": {},
     "output_type": "execute_result"
    }
   ],
   "source": [
    "auc_test_con = roc_auc_score(y_score = y_test_pred_con, y_true = y_test)\n",
    "(\"Hold-out AUC of ROC, continous model: \" + \n",
    "str(auc_test_con))"
   ]
  },
  {
   "cell_type": "code",
   "execution_count": 20,
   "id": "77737ff6-8701-48af-a744-2b546ee87fdb",
   "metadata": {},
   "outputs": [
    {
     "data": {
      "text/plain": [
       "'Hold-out AUC of ROC, cut model: 0.9165301944728762'"
      ]
     },
     "execution_count": 20,
     "metadata": {},
     "output_type": "execute_result"
    }
   ],
   "source": [
    "auc_test_cut = roc_auc_score(y_score = y_test_pred_cut, y_true = y_test)\n",
    "(\"Hold-out AUC of ROC, cut model: \" + \n",
    "str(auc_test_cut))"
   ]
  },
  {
   "cell_type": "code",
   "execution_count": 21,
   "id": "79a2460e-8229-4473-982c-31a2b0ca3485",
   "metadata": {},
   "outputs": [],
   "source": [
    "from src.visualization.visualize import plot_roc, plot_precision_recall"
   ]
  },
  {
   "cell_type": "code",
   "execution_count": 22,
   "id": "da768916-174d-4b8a-8891-24ddd97cc756",
   "metadata": {},
   "outputs": [
    {
     "data": {
      "image/png": "[encoded data removed]",
      "text/plain": [
       "<Figure size 640x480 with 1 Axes>"
      ]
     },
     "metadata": {},
     "output_type": "display_data"
    },
    {
     "data": {
      "text/plain": [
       "<ggplot: (343614182)>"
      ]
     },
     "execution_count": 22,
     "metadata": {},
     "output_type": "execute_result"
    }
   ],
   "source": [
    "plot_roc(y_test, y_test_pred_con)"
   ]
  },
  {
   "cell_type": "code",
   "execution_count": 23,
   "id": "8d4776ce-3d83-4f80-b1a7-146bb22e0fd8",
   "metadata": {},
   "outputs": [
    {
     "data": {
      "image/png": "[encoded data removed]",
      "text/plain": [
       "<Figure size 640x480 with 1 Axes>"
      ]
     },
     "metadata": {},
     "output_type": "display_data"
    },
    {
     "data": {
      "text/plain": [
       "<ggplot: (343716774)>"
      ]
     },
     "execution_count": 23,
     "metadata": {},
     "output_type": "execute_result"
    }
   ],
   "source": [
    "plot_roc(y_test, y_test_pred_cut)"
   ]
  },
  {
   "cell_type": "code",
   "execution_count": 24,
   "id": "2a3b5e18-32ec-4d13-83d0-95e23755b18d",
   "metadata": {},
   "outputs": [
    {
     "data": {
      "image/png": "[encoded data removed]",
      "text/plain": [
       "<Figure size 640x480 with 1 Axes>"
      ]
     },
     "metadata": {},
     "output_type": "display_data"
    },
    {
     "data": {
      "text/plain": [
       "<ggplot: (343761806)>"
      ]
     },
     "execution_count": 24,
     "metadata": {},
     "output_type": "execute_result"
    }
   ],
   "source": [
    "plot_precision_recall(y_test, y_test_pred_con)"
   ]
  },
  {
   "cell_type": "markdown",
   "id": "b12df210-fc5c-4543-b5e3-a5aff8f7b113",
   "metadata": {},
   "source": [
    "Plot roc curves for each classifier"
   ]
  },
  {
   "cell_type": "code",
   "execution_count": 25,
   "id": "5c15303e-d4b2-4290-819a-d3ab2af1aed2",
   "metadata": {},
   "outputs": [],
   "source": [
    "from src.visualization.visualize import plot_roc_base_clfs"
   ]
  },
  {
   "cell_type": "code",
   "execution_count": 26,
   "id": "bbfd84a0-30b3-4119-843e-8be732405c96",
   "metadata": {},
   "outputs": [],
   "source": [
    "y_test_prob_clfs = sgclf.predict_meta_features(X_test, use_probas = True)\n",
    "y_test_pred_clfs = sgclf.predict_meta_features(X_test, use_probas = False)"
   ]
  },
  {
   "cell_type": "code",
   "execution_count": 27,
   "id": "ab2833be-06f2-4ca8-a243-3a57366230ac",
   "metadata": {},
   "outputs": [],
   "source": [
    "keys = [\n",
    "    clf.get_params()[\"steps\"][-1][1].__class__.__name__ \n",
    "    for clf in sgclf.base_clfs_\n",
    "]"
   ]
  },
  {
   "cell_type": "code",
   "execution_count": 28,
   "id": "9f5c280b-2e82-499a-837e-8b036c69388a",
   "metadata": {},
   "outputs": [],
   "source": [
    "from sklearn.metrics import (\n",
    "    precision_score, \n",
    "    recall_score, \n",
    "    roc_auc_score\n",
    ")"
   ]
  },
  {
   "cell_type": "code",
   "execution_count": 29,
   "id": "6ea786cc-afa7-42e7-8c76-80cac8de6be0",
   "metadata": {},
   "outputs": [],
   "source": [
    "y_pred_meta_clf = sgclf.predict(X_test, use_probas = False)"
   ]
  },
  {
   "cell_type": "code",
   "execution_count": 30,
   "id": "62339104-653f-4524-928d-c0f39df83a26",
   "metadata": {},
   "outputs": [],
   "source": [
    "y_test_pred_clfs = np.column_stack((y_test_pred_clfs, y_pred_meta_clf))\n",
    "y_test_prob_clfs = np.column_stack((y_test_prob_clfs, y_test_pred_con))"
   ]
  },
  {
   "cell_type": "code",
   "execution_count": 31,
   "id": "21b059db-841b-438e-b2e0-46d99eb255a4",
   "metadata": {},
   "outputs": [
    {
     "name": "stderr",
     "output_type": "stream",
     "text": [
      "During startup - Warning messages:\n",
      "1: Setting LC_COLLATE failed, using \"C\" \n",
      "2: Setting LC_TIME failed, using \"C\" \n",
      "3: Setting LC_MESSAGES failed, using \"C\" \n",
      "4: Setting LC_MONETARY failed, using \"C\" \n"
     ]
    }
   ],
   "source": [
    "from src.models.metrics import calculate_nri"
   ]
  },
  {
   "cell_type": "code",
   "execution_count": 32,
   "id": "9d7036d7-f6cf-4fda-98ed-2e890505a9a9",
   "metadata": {},
   "outputs": [
    {
     "data": {
      "image/png": "[encoded data removed]",
      "text/plain": [
       "<Figure size 640x480 with 1 Axes>"
      ]
     },
     "metadata": {},
     "output_type": "display_data"
    },
    {
     "data": {
      "text/plain": [
       "<ggplot: (359585711)>"
      ]
     },
     "execution_count": 32,
     "metadata": {},
     "output_type": "execute_result"
    }
   ],
   "source": [
    "plot_roc_base_clfs(y_test_prob_clfs, y_test, keys)"
   ]
  },
  {
   "cell_type": "code",
   "execution_count": 33,
   "id": "8c6a1b32-4730-4c5a-ab08-5fb0ca59a4a8",
   "metadata": {},
   "outputs": [],
   "source": [
    "from sklearn.utils import resample\n",
    "from joblib import Parallel, delayed"
   ]
  },
  {
   "cell_type": "code",
   "execution_count": 77,
   "id": "ab8a3092-50a7-473a-8873-bf9f3ece144d",
   "metadata": {},
   "outputs": [],
   "source": [
    "def compute_performance(y_prob: np.array, y_pred: np.array,\n",
    "                        y_true: np.array, y_pred_cut: np.array = None,\n",
    "                        tc: pd.Series = None):\n",
    "    roc_auc = roc_auc_score(\n",
    "        y_true=y_true, \n",
    "        y_score=y_prob\n",
    "    )\n",
    "    prec = precision_score(\n",
    "        y_true=y_true, \n",
    "        y_pred=y_pred, \n",
    "        average=\"macro\"\n",
    "    )\n",
    "    rec = recall_score(\n",
    "        y_true=y_true, \n",
    "        y_pred=y_pred, \n",
    "        average=\"macro\"\n",
    "    )\n",
    "    r = dict(roc_auc = roc_auc, prec = prec, rec = rec)\n",
    "    if y_pred_cut is not None: \n",
    "        nri_metrics = [\"nri\", \"nri_plus\", \"nri_minus\"]\n",
    "        nri = calculate_nri(\n",
    "            y_true=y_true, \n",
    "            y_old=tc,\n",
    "            y_new=y_pred_cut\n",
    "        )\n",
    "        r = {**r, **{m: nri[m] for m in nri_metrics}}\n",
    "\n",
    "    return r\n",
    "\n",
    "def compute_metrics(X_train: pd.DataFrame, y_train: pd.Series, \n",
    "                    X_test: pd.DataFrame, y_test: pd.Series,\n",
    "                    tc: pd.Series, keys: list):\n",
    "    \"\"\"Computes relevant performance metrics.\n",
    "    \n",
    "    ROC, Precision, Recall, and NRI for the meta classifier.\n",
    "    \"\"\"\n",
    "    # Fit classifier\n",
    "    sgclf = StackedGeneralizationClassifier(\n",
    "        base_clfs=base_clfs, \n",
    "        meta_clf=LogisticRegression(),\n",
    "        use_probas=True, \n",
    "        verbose=False\n",
    "    )\n",
    "    sgclf.cv_outer_loop(\n",
    "        all_hyper_parameters=all_hyper_parameters,\n",
    "        X=X_train, \n",
    "        y=y_train,\n",
    "        refit=True\n",
    "    )\n",
    "    # Predictions by the meta classifier\n",
    "    y_test_prob_con, y_test_prob_cut = sgclf.predict(X_test)\n",
    "    y_test_pred_meta_clf = sgclf.predict(X_test, use_probas = False)\n",
    "    \n",
    "    # Predictions for each base classifier\n",
    "    y_test_prob_clfs = sgclf.predict_meta_features(X_test, use_probas = True)\n",
    "    y_test_pred_clfs = sgclf.predict_meta_features(X_test, use_probas = False) \n",
    "\n",
    "    # Merge the two\n",
    "    y_preds = np.column_stack((y_test_pred_clfs, y_test_pred_meta_clf))\n",
    "    y_probs = np.column_stack((y_test_prob_clfs, y_test_prob_con))\n",
    "    \n",
    "    ds = {key: compute_performance(y_prob=prob, y_pred=pred, y_true=y_test)\n",
    "         for prob, pred, key in zip(y_probs.T, y_preds.T, keys)\n",
    "    }\n",
    "    ## Compute nri for the meta classifier\n",
    "    nri_metrics = [\"nri\", \"nri_plus\", \"nri_minus\"]\n",
    "    nri = calculate_nri(\n",
    "        y_true=y_test, \n",
    "        y_old=tc,\n",
    "        y_new=y_test_prob_cut\n",
    "    )\n",
    "    ds[keys[-1]] = {**ds[keys[-1]], **{m: nri[m] for m in nri_metrics}}\n",
    "    \n",
    "    return ds\n",
    "\n",
    "\n",
    "def boot_compute_metrics(X: pd.DataFrame, y: pd.Series, \n",
    "                         tc: pd.Series, training_size: int,\n",
    "                         keys: list):\n",
    "    \"\"\"Helper to refactor compute_metrics.\"\"\"\n",
    "    # Prepare training and test sets\n",
    "    X_train = resample(X, n_samples=training_size)\n",
    "    y_train = y.loc[X_train.index]\n",
    "    X_test = X.loc[~X.index.isin(X_train.index), :]\n",
    "    y_test = y.loc[X_test.index]\n",
    "\n",
    "    return compute_metrics(\n",
    "        X_train=X_train,\n",
    "        y_train=y_train, \n",
    "        X_test=X_test, \n",
    "        y_test=y_test, \n",
    "        tc=tc,\n",
    "        keys=keys\n",
    "    )\n",
    "\n",
    "\n",
    "def bootstrap(X: pd.DataFrame, y: pd.Series, tc: pd.Series,\n",
    "              keys: list, N: int = 5, train_size: float = 0.8, \n",
    "              n_jobs: int = 2):\n",
    "    \"\"\"Bootstraps statistics\n",
    "    \n",
    "    Parallelized computation of bootstrap performance estimates.\n",
    "    \n",
    "    Args:\n",
    "        X: Features.\n",
    "        y: Targets.\n",
    "        N: Number of bootstrap samples.\n",
    "        train_size: Proportion of samples in the training sample.\n",
    "        n_jobs: Number of parallel processes.\n",
    "        keys: Classifier keys.\n",
    "        \n",
    "    Returns:\n",
    "        List of estimates from each bootstrap sample.\n",
    "    \"\"\"\n",
    "    # Numbef of samples in training samples\n",
    "    training_size = int(len(X.index) * train_size)\n",
    "    return Parallel(n_jobs=n_jobs)(delayed(boot_compute_metrics)(X, y, tc, training_size, keys) for i in tqdm(range(N)))\n",
    "\n",
    "\n",
    "def compute_bootstrap_ci(point_estimate, stats):\n",
    "    \"\"\"Computes confidence interval.\n",
    "    \n",
    "    Uses the empirical bootstrap.\n",
    "    Source:\n",
    "        https://ocw.mit.edu/courses/mathematics/18-05-introduction-to-probability-and-statistics-spring-2014/readings/MIT18_05S14_Reading24.pdf\n",
    "        \n",
    "    Args:\n",
    "        point_estimate: Point estimate from our sample.\n",
    "        stats: Estimates from each bootstrap sample.\n",
    "        \n",
    "    Returns:\n",
    "        Tuple of lower and upper bound of confidence interval.\n",
    "    \"\"\"\n",
    "    bs_statistics = np.sort(stats)\n",
    "    delta_star = bs_statistics - point_estimate\n",
    "    d1 = np.quantile(delta_star, 0.1)\n",
    "    d2 = np.quantile(delta_star, 0.9)\n",
    "    ub = point_estimate - d1\n",
    "    lb = point_estimate - d2\n",
    "    \n",
    "    return lb, ub"
   ]
  },
  {
   "cell_type": "code",
   "execution_count": 78,
   "id": "9f1cfd47-4dea-4ba1-bcf3-b189df679d45",
   "metadata": {},
   "outputs": [],
   "source": [
    "def compile_performance(y_probs: pd.DataFrame, y_preds: pd.DataFrame,\n",
    "                        y_true: np.array, tc: np.array, y_cut: np.array,\n",
    "                        keys: list):\n",
    "    # Compute prec, rec, auc for all models\n",
    "    ds = [\n",
    "        compute_performance(y_prob=prob, y_pred=pred, y_true=y_true) \n",
    "        for prob, pred in zip(y_probs.T, y_preds.T)\n",
    "    ]\n",
    "    perf_df = pd.DataFrame(ds, index = keys)\n",
    "    \n",
    "    # Compute nri for meta classifier\n",
    "    nri_metrics = [\"nri\", \"nri_plus\", \"nri_minus\"]\n",
    "    nri = calculate_nri(\n",
    "        y_true=y_true, \n",
    "        y_old=tc, \n",
    "        y_new=y_cut\n",
    "    )\n",
    "    nri_df = pd.DataFrame(\n",
    "        np.zeros(perf_df.shape),\n",
    "        columns=nri_metrics    \n",
    "    ).replace({0: None})\n",
    "    nri_df.loc[len(perf_df.index) - 1, :] = np.array(nri[nri_metrics])\n",
    "    nri_df.index = perf_df.index\n",
    "\n",
    "    perf_df = pd.concat([perf_df, nri_df], axis = 1)\n",
    "\n",
    "    return perf_df"
   ]
  },
  {
   "cell_type": "code",
   "execution_count": 79,
   "id": "34fd12e6-6fe2-4186-bdfd-d75f6781e69e",
   "metadata": {},
   "outputs": [
    {
     "data": {
      "application/vnd.jupyter.widget-view+json": {
       "model_id": "76c765230f124ebeadadd8f6bf03467f",
       "version_major": 2,
       "version_minor": 0
      },
      "text/plain": [
       "  0%|          | 0/5 [00:00<?, ?it/s]"
      ]
     },
     "metadata": {},
     "output_type": "display_data"
    },
    {
     "name": "stderr",
     "output_type": "stream",
     "text": [
      "During startup - Warning messages:\n",
      "1: Setting LC_COLLATE failed, using \"C\" \n",
      "2: Setting LC_TIME failed, using \"C\" \n",
      "3: Setting LC_MESSAGES failed, using \"C\" \n",
      "4: Setting LC_MONETARY failed, using \"C\" \n",
      "During startup - Warning messages:\n",
      "1: Setting LC_COLLATE failed, using \"C\" \n",
      "2: Setting LC_TIME failed, using \"C\" \n",
      "3: Setting LC_MESSAGES failed, using \"C\" \n",
      "4: Setting LC_MONETARY failed, using \"C\" \n",
      "R[write to console]: \n",
      "NRI estimation:\n",
      "\n",
      "R[write to console]: Point estimates:\n",
      "\n",
      "R[write to console]: \n",
      "NRI estimation:\n",
      "\n",
      "R[write to console]: Point estimates:\n",
      "\n"
     ]
    },
    {
     "name": "stdout",
     "output_type": "stream",
     "text": [
      "  0%|          | 0/4 [00:00<?, ?it/s]\n",
      "                Estimate\n",
      "NRI            0.8371654\n",
      "NRI+           0.9478022\n",
      "NRI-          -0.1106368\n",
      "Pr(Up|Case)    0.9478022\n",
      "Pr(Down|Case)  0.0000000\n",
      "Pr(Down|Ctrl)  0.1009049\n",
      "Pr(Up|Ctrl)    0.2115417\n",
      "  0%|          | 0/4 [00:00<?, ?it/s]\n",
      "                  Estimate\n",
      "NRI           0.8816968219\n",
      "NRI+          0.8813559322\n",
      "NRI-          0.0003408897\n",
      "Pr(Up|Case)   0.8813559322\n",
      "Pr(Down|Case) 0.0000000000\n",
      "Pr(Down|Ctrl) 0.1123231635\n",
      "Pr(Up|Ctrl)   0.1119822737\n"
     ]
    },
    {
     "name": "stderr",
     "output_type": "stream",
     "text": [
      "R[write to console]: \n",
      "NRI estimation:\n",
      "\n",
      "R[write to console]: Point estimates:\n",
      "\n",
      "R[write to console]: \n",
      "NRI estimation:\n",
      "\n",
      "R[write to console]: Point estimates:\n",
      "\n"
     ]
    },
    {
     "name": "stdout",
     "output_type": "stream",
     "text": [
      "  0%|          | 0/4 [00:00<?, ?it/s]\n",
      "                Estimate\n",
      "NRI           0.87365229\n",
      "NRI+          0.84802432\n",
      "NRI-          0.02562797\n",
      "Pr(Up|Case)   0.87234043\n",
      "Pr(Down|Case) 0.02431611\n",
      "Pr(Down|Ctrl) 0.11575017\n",
      "Pr(Up|Ctrl)   0.09012220\n",
      "  0%|          | 0/4 [00:00<?, ?it/s]\n",
      "                Estimate\n",
      "NRI           0.81501311\n",
      "NRI+          0.79054054\n",
      "NRI-          0.02447257\n",
      "Pr(Up|Case)   0.80743243\n",
      "Pr(Down|Case) 0.01689189\n",
      "Pr(Down|Ctrl) 0.11358650\n",
      "Pr(Up|Ctrl)   0.08911392\n"
     ]
    },
    {
     "name": "stderr",
     "output_type": "stream",
     "text": [
      "/Users/ludvigwarnberggerdin/miniforge3/envs/pemett/lib/python3.10/site-packages/sklearn/linear_model/_logistic.py:814: ConvergenceWarning: lbfgs failed to converge (status=1):\n",
      "STOP: TOTAL NO. of ITERATIONS REACHED LIMIT.\n",
      "\n",
      "Increase the number of iterations (max_iter) or scale the data as shown in:\n",
      "    https://scikit-learn.org/stable/modules/preprocessing.html\n",
      "Please also refer to the documentation for alternative solver options:\n",
      "    https://scikit-learn.org/stable/modules/linear_model.html#logistic-regression\n",
      "  n_iter_i = _check_optimize_result(\n",
      "/Users/ludvigwarnberggerdin/miniforge3/envs/pemett/lib/python3.10/site-packages/sklearn/linear_model/_logistic.py:814: ConvergenceWarning: lbfgs failed to converge (status=1):\n",
      "STOP: TOTAL NO. of ITERATIONS REACHED LIMIT.\n",
      "\n",
      "Increase the number of iterations (max_iter) or scale the data as shown in:\n",
      "    https://scikit-learn.org/stable/modules/preprocessing.html\n",
      "Please also refer to the documentation for alternative solver options:\n",
      "    https://scikit-learn.org/stable/modules/linear_model.html#logistic-regression\n",
      "  n_iter_i = _check_optimize_result(\n",
      "/Users/ludvigwarnberggerdin/miniforge3/envs/pemett/lib/python3.10/site-packages/sklearn/linear_model/_logistic.py:814: ConvergenceWarning: lbfgs failed to converge (status=1):\n",
      "STOP: TOTAL NO. of ITERATIONS REACHED LIMIT.\n",
      "\n",
      "Increase the number of iterations (max_iter) or scale the data as shown in:\n",
      "    https://scikit-learn.org/stable/modules/preprocessing.html\n",
      "Please also refer to the documentation for alternative solver options:\n",
      "    https://scikit-learn.org/stable/modules/linear_model.html#logistic-regression\n",
      "  n_iter_i = _check_optimize_result(\n",
      "/Users/ludvigwarnberggerdin/miniforge3/envs/pemett/lib/python3.10/site-packages/sklearn/linear_model/_logistic.py:814: ConvergenceWarning: lbfgs failed to converge (status=1):\n",
      "STOP: TOTAL NO. of ITERATIONS REACHED LIMIT.\n",
      "\n",
      "Increase the number of iterations (max_iter) or scale the data as shown in:\n",
      "    https://scikit-learn.org/stable/modules/preprocessing.html\n",
      "Please also refer to the documentation for alternative solver options:\n",
      "    https://scikit-learn.org/stable/modules/linear_model.html#logistic-regression\n",
      "  n_iter_i = _check_optimize_result(\n"
     ]
    },
    {
     "name": "stdout",
     "output_type": "stream",
     "text": [
      "  0%|          | 0/4 [00:00<?, ?it/s]\n",
      "                Estimate\n",
      "NRI           0.80658775\n",
      "NRI+          0.76377953\n",
      "NRI-          0.04280822\n",
      "Pr(Up|Case)   0.79527559\n",
      "Pr(Down|Case) 0.03149606\n",
      "Pr(Down|Ctrl) 0.11455479\n",
      "Pr(Up|Ctrl)   0.07174658\n"
     ]
    },
    {
     "name": "stderr",
     "output_type": "stream",
     "text": [
      "R[write to console]: \n",
      "NRI estimation:\n",
      "\n",
      "R[write to console]: Point estimates:\n",
      "\n"
     ]
    }
   ],
   "source": [
    "stats = bootstrap(X_train, y_train, tc_train, keys + [sgclf.__class__.__name__])"
   ]
  },
  {
   "cell_type": "code",
   "execution_count": 129,
   "id": "bc019ee5-be10-42ea-8dfe-7ae7a17f403d",
   "metadata": {},
   "outputs": [
    {
     "name": "stderr",
     "output_type": "stream",
     "text": [
      "R[write to console]: \n",
      "NRI estimation:\n",
      "\n",
      "R[write to console]: Point estimates:\n",
      "\n"
     ]
    },
    {
     "name": "stdout",
     "output_type": "stream",
     "text": [
      "                 Estimate\n",
      "NRI            0.36833845\n",
      "NRI+           0.43333333\n",
      "NRI-          -0.06499488\n",
      "Pr(Up|Case)    0.47500000\n",
      "Pr(Down|Case)  0.04166667\n",
      "Pr(Down|Ctrl)  0.05783009\n",
      "Pr(Up|Ctrl)    0.12282497\n"
     ]
    }
   ],
   "source": [
    "# Set bootstrap estimates as data frame\n",
    "stats_df = pd.concat([pd.DataFrame.from_dict(d, orient=\"index\").stack().to_frame() for d in stats], axis = 1)\n",
    "stats_df.values.sort()\n",
    "# Set list for simplifying compiling point estimates\n",
    "y_test_pred_cuts = [None] * len(keys) + [y_test_pred_cut]\n",
    "# Set point estimates as data frame\n",
    "point_estimates = pd.DataFrame.from_dict({\n",
    "    k: compute_performance(\n",
    "        y_prob=prob, \n",
    "        y_pred=pred, \n",
    "        y_true=y_test, \n",
    "        y_pred_cut=cut, \n",
    "        tc=tc_test\n",
    "    )\n",
    "    for prob, pred, cut, k in zip(\n",
    "        y_test_prob_clfs.T, \n",
    "        y_test_pred_clfs.T,\n",
    "        y_test_pred_cuts,\n",
    "        keys + [sgclf.__class__.__name__]\n",
    "    )\n",
    "}, orient = \"index\").stack().to_frame()\n",
    "point_estimates\n",
    "# Compute quantiles for each metric\n",
    "d1 = (stats_df - point_estimates).apply(np.quantile, q = 0.1, axis = 1)\n",
    "d2 = (stats_df - point_estimates).apply(np.quantile, q = 0.9, axis = 1)\n",
    "# Compute upper bounds and lower bounds\n",
    "ub = point_estimates - d1.to_frame()\n",
    "lb = point_estimates - d2.to_frame()\n",
    "# Compile performamance\n",
    "perf_df = pd.concat([point_estimates, lb, ub, ], axis = 1)"
   ]
  },
  {
   "cell_type": "code",
   "execution_count": 130,
   "id": "b01e68ba-7aca-45a3-8443-b32584998976",
   "metadata": {},
   "outputs": [],
   "source": [
    "lb_str = lb.iloc[:, 0].round(2).astype(str) \n",
    "ub_str = ub.iloc[:, 0].round(2).astype(str)\n",
    "pe_str = point_estimates.iloc[:, 0].round(2).astype(str)\n",
    "ci = pe_str + \" (\" + lb_str + \" to \" + ub_str +  \")\""
   ]
  },
  {
   "cell_type": "code",
   "execution_count": 131,
   "id": "3fa98cf4-869a-4e64-a03a-9caaf63209b5",
   "metadata": {},
   "outputs": [],
   "source": [
    "perf_df = pd.concat([perf_df, ci.to_frame()], axis = 1)\n",
    "perf_df.columns = [\"point_estimate\", \"lb\", \"ub\", \"ci\"]"
   ]
  },
  {
   "cell_type": "code",
   "execution_count": 133,
   "id": "fd0289a6-2aec-415e-aaeb-9d51f750224e",
   "metadata": {},
   "outputs": [
    {
     "data": {
      "text/html": [
       "<div>\n",
       "<style scoped>\n",
       "    .dataframe tbody tr th:only-of-type {\n",
       "        vertical-align: middle;\n",
       "    }\n",
       "\n",
       "    .dataframe tbody tr th {\n",
       "        vertical-align: top;\n",
       "    }\n",
       "\n",
       "    .dataframe thead th {\n",
       "        text-align: right;\n",
       "    }\n",
       "</style>\n",
       "<table border=\"1\" class=\"dataframe\">\n",
       "  <thead>\n",
       "    <tr style=\"text-align: right;\">\n",
       "      <th></th>\n",
       "      <th></th>\n",
       "      <th>point_estimate</th>\n",
       "      <th>lb</th>\n",
       "      <th>ub</th>\n",
       "      <th>ci</th>\n",
       "    </tr>\n",
       "  </thead>\n",
       "  <tbody>\n",
       "    <tr>\n",
       "      <th rowspan=\"3\" valign=\"top\">LogisticRegression</th>\n",
       "      <th>roc_auc</th>\n",
       "      <td>0.956158</td>\n",
       "      <td>0.950536</td>\n",
       "      <td>0.965152</td>\n",
       "      <td>0.96 (0.95 to 0.97)</td>\n",
       "    </tr>\n",
       "    <tr>\n",
       "      <th>prec</th>\n",
       "      <td>0.876429</td>\n",
       "      <td>0.851456</td>\n",
       "      <td>0.882623</td>\n",
       "      <td>0.88 (0.85 to 0.88)</td>\n",
       "    </tr>\n",
       "    <tr>\n",
       "      <th>rec</th>\n",
       "      <td>0.798793</td>\n",
       "      <td>0.781851</td>\n",
       "      <td>0.817703</td>\n",
       "      <td>0.8 (0.78 to 0.82)</td>\n",
       "    </tr>\n",
       "    <tr>\n",
       "      <th rowspan=\"3\" valign=\"top\">RandomForestClassifier</th>\n",
       "      <th>roc_auc</th>\n",
       "      <td>0.945752</td>\n",
       "      <td>0.932163</td>\n",
       "      <td>0.945469</td>\n",
       "      <td>0.95 (0.93 to 0.95)</td>\n",
       "    </tr>\n",
       "    <tr>\n",
       "      <th>prec</th>\n",
       "      <td>0.884882</td>\n",
       "      <td>0.863481</td>\n",
       "      <td>0.908303</td>\n",
       "      <td>0.88 (0.86 to 0.91)</td>\n",
       "    </tr>\n",
       "    <tr>\n",
       "      <th>rec</th>\n",
       "      <td>0.799305</td>\n",
       "      <td>0.777238</td>\n",
       "      <td>0.826087</td>\n",
       "      <td>0.8 (0.78 to 0.83)</td>\n",
       "    </tr>\n",
       "    <tr>\n",
       "      <th rowspan=\"6\" valign=\"top\">StackedGeneralizationClassifier</th>\n",
       "      <th>roc_auc</th>\n",
       "      <td>0.955489</td>\n",
       "      <td>0.946148</td>\n",
       "      <td>0.958432</td>\n",
       "      <td>0.96 (0.95 to 0.96)</td>\n",
       "    </tr>\n",
       "    <tr>\n",
       "      <th>prec</th>\n",
       "      <td>0.896257</td>\n",
       "      <td>0.877160</td>\n",
       "      <td>0.917436</td>\n",
       "      <td>0.9 (0.88 to 0.92)</td>\n",
       "    </tr>\n",
       "    <tr>\n",
       "      <th>rec</th>\n",
       "      <td>0.808150</td>\n",
       "      <td>0.812261</td>\n",
       "      <td>0.851645</td>\n",
       "      <td>0.81 (0.81 to 0.85)</td>\n",
       "    </tr>\n",
       "    <tr>\n",
       "      <th>nri</th>\n",
       "      <td>0.368338</td>\n",
       "      <td>-0.141802</td>\n",
       "      <td>-0.073281</td>\n",
       "      <td>0.37 (-0.14 to -0.07)</td>\n",
       "    </tr>\n",
       "    <tr>\n",
       "      <th>nri_plus</th>\n",
       "      <td>0.433333</td>\n",
       "      <td>-0.054557</td>\n",
       "      <td>0.092183</td>\n",
       "      <td>0.43 (-0.05 to 0.09)</td>\n",
       "    </tr>\n",
       "    <tr>\n",
       "      <th>nri_minus</th>\n",
       "      <td>-0.064995</td>\n",
       "      <td>-0.165926</td>\n",
       "      <td>-0.063744</td>\n",
       "      <td>-0.06 (-0.17 to -0.06)</td>\n",
       "    </tr>\n",
       "  </tbody>\n",
       "</table>\n",
       "</div>"
      ],
      "text/plain": [
       "                                           point_estimate        lb        ub  \\\n",
       "LogisticRegression              roc_auc          0.956158  0.950536  0.965152   \n",
       "                                prec             0.876429  0.851456  0.882623   \n",
       "                                rec              0.798793  0.781851  0.817703   \n",
       "RandomForestClassifier          roc_auc          0.945752  0.932163  0.945469   \n",
       "                                prec             0.884882  0.863481  0.908303   \n",
       "                                rec              0.799305  0.777238  0.826087   \n",
       "StackedGeneralizationClassifier roc_auc          0.955489  0.946148  0.958432   \n",
       "                                prec             0.896257  0.877160  0.917436   \n",
       "                                rec              0.808150  0.812261  0.851645   \n",
       "                                nri              0.368338 -0.141802 -0.073281   \n",
       "                                nri_plus         0.433333 -0.054557  0.092183   \n",
       "                                nri_minus       -0.064995 -0.165926 -0.063744   \n",
       "\n",
       "                                                               ci  \n",
       "LogisticRegression              roc_auc       0.96 (0.95 to 0.97)  \n",
       "                                prec          0.88 (0.85 to 0.88)  \n",
       "                                rec            0.8 (0.78 to 0.82)  \n",
       "RandomForestClassifier          roc_auc       0.95 (0.93 to 0.95)  \n",
       "                                prec          0.88 (0.86 to 0.91)  \n",
       "                                rec            0.8 (0.78 to 0.83)  \n",
       "StackedGeneralizationClassifier roc_auc       0.96 (0.95 to 0.96)  \n",
       "                                prec           0.9 (0.88 to 0.92)  \n",
       "                                rec           0.81 (0.81 to 0.85)  \n",
       "                                nri         0.37 (-0.14 to -0.07)  \n",
       "                                nri_plus     0.43 (-0.05 to 0.09)  \n",
       "                                nri_minus  -0.06 (-0.17 to -0.06)  "
      ]
     },
     "execution_count": 133,
     "metadata": {},
     "output_type": "execute_result"
    }
   ],
   "source": [
    "perf_df"
   ]
  }
 ],
 "metadata": {
  "kernelspec": {
   "display_name": "Python 3 (ipykernel)",
   "language": "python",
   "name": "python3"
  },
  "language_info": {
   "codemirror_mode": {
    "name": "ipython",
    "version": 3
   },
   "file_extension": ".py",
   "mimetype": "text/x-python",
   "name": "python",
   "nbconvert_exporter": "python",
   "pygments_lexer": "ipython3",
   "version": "3.10.0"
  }
 },
 "nbformat": 4,
 "nbformat_minor": 5
}
