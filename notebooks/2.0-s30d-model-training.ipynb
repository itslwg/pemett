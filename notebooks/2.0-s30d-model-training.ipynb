{
 "cells": [
  {
   "cell_type": "markdown",
   "id": "0c9d9d89-4af7-4dc8-b1f3-c77dddad0c36",
   "metadata": {},
   "source": [
    "# Model training and prediction - `s30d`"
   ]
  },
  {
   "cell_type": "code",
   "execution_count": 1,
   "id": "cf1fd4f7-e9ed-4c86-bf83-879e086ffb12",
   "metadata": {},
   "outputs": [],
   "source": [
    "%load_ext autoreload\n",
    "%autoreload 2"
   ]
  },
  {
   "cell_type": "code",
   "execution_count": 2,
   "id": "f08843e3-1ca8-42ec-a344-1c5f560441dd",
   "metadata": {},
   "outputs": [],
   "source": [
    "import os\n",
    "os.chdir(\"..\")"
   ]
  },
  {
   "cell_type": "code",
   "execution_count": 3,
   "id": "4918d091-6dc7-47e1-8419-8973ebbf246c",
   "metadata": {},
   "outputs": [
    {
     "data": {
      "text/plain": [
       "'/Users/ludvigwarnberggerdin/projects/ttris/pemett'"
      ]
     },
     "execution_count": 3,
     "metadata": {},
     "output_type": "execute_result"
    }
   ],
   "source": [
    "os.getcwd()"
   ]
  },
  {
   "cell_type": "code",
   "execution_count": 4,
   "id": "66d758ca-f517-4df4-8bc0-f1cbc91226ad",
   "metadata": {},
   "outputs": [],
   "source": [
    "import numpy as np\n",
    "import pandas as pd"
   ]
  },
  {
   "cell_type": "code",
   "execution_count": 30,
   "id": "cb6ed398-04d7-4bba-8693-e79e973e5487",
   "metadata": {},
   "outputs": [],
   "source": [
    "X_train = pd.read_csv(\"./data/processed/s30d/X_train.csv\", index_col = 0)\n",
    "y_train = pd.read_csv(\"./data/processed/s30d/y_train.csv\", index_col = 0).s30d\n",
    "X_test = pd.read_csv(\"./data/processed/s30d/X_test.csv\", index_col = 0)\n",
    "y_test = pd.read_csv(\"./data/processed/s30d/y_test.csv\", index_col = 0).s30d"
   ]
  },
  {
   "cell_type": "code",
   "execution_count": 6,
   "id": "fb610948-9c80-4507-861c-feeb3318fbb1",
   "metadata": {},
   "outputs": [
    {
     "data": {
      "text/plain": [
       "0.0    94.197074\n",
       "1.0     5.802926\n",
       "Name: s30d, dtype: float64"
      ]
     },
     "execution_count": 6,
     "metadata": {},
     "output_type": "execute_result"
    }
   ],
   "source": [
    "y_train.value_counts() / len(y_train.index) * 100"
   ]
  },
  {
   "cell_type": "code",
   "execution_count": 7,
   "id": "fe14dc61-2fe7-4188-9b39-5c4abb2f149d",
   "metadata": {},
   "outputs": [],
   "source": [
    "cont_features = [\"age\", \"hr\", \"sbp\", \"dbp\", \"spo2\", \"rr\", \"delay\"]\n",
    "cat_features = list(X_train.loc[:, ~X_train.columns.isin(cont_features)].columns)"
   ]
  },
  {
   "cell_type": "markdown",
   "id": "ce6f9e4e-ff18-4afd-bd68-28701e564246",
   "metadata": {},
   "source": [
    "## Run hyper parameter search"
   ]
  },
  {
   "cell_type": "code",
   "execution_count": 8,
   "id": "f7e57514-909f-4bdb-83e4-6f83e4e7e423",
   "metadata": {},
   "outputs": [],
   "source": [
    "import random\n",
    "from tqdm.notebook import tqdm\n",
    "from src.models.train_model import generate_all_combinations"
   ]
  },
  {
   "cell_type": "code",
   "execution_count": 9,
   "id": "5ee3654e-7a80-4e7d-be40-7dfec004e221",
   "metadata": {},
   "outputs": [],
   "source": [
    "import itertools as it\n",
    "all_breaks = [(0, ) + x + (np.inf,) for x in it.combinations(np.arange(0.01, 1, 0.01), r=3)]"
   ]
  },
  {
   "cell_type": "code",
   "execution_count": 10,
   "id": "483bf1b0-3db6-48b3-8c55-721198e10432",
   "metadata": {},
   "outputs": [],
   "source": [
    "from sklearn.linear_model import LogisticRegression\n",
    "from sklearn.ensemble import RandomForestClassifier\n",
    "\n",
    "from sklearn.pipeline import Pipeline\n",
    "from sklearn.impute import SimpleImputer\n",
    "from sklearn.compose import ColumnTransformer\n",
    "from sklearn.preprocessing import StandardScaler, OneHotEncoder"
   ]
  },
  {
   "cell_type": "code",
   "execution_count": 11,
   "id": "8bff7851-5b1f-4d4c-b729-272b7c698886",
   "metadata": {},
   "outputs": [],
   "source": [
    "hyper_parameters = {\n",
    "    \"logisticregression__logisticregression__C\": [0.1, 0.2],\n",
    "    \"randomforestclassifier__randomforestclassifier__n_estimators\": [100, 200],\n",
    "    \"breaks\": all_breaks[:1]\n",
    "}"
   ]
  },
  {
   "cell_type": "code",
   "execution_count": 12,
   "id": "5828d968-0d8e-4c96-a603-3ba4954943e4",
   "metadata": {},
   "outputs": [],
   "source": [
    "numerical_pipeline = Pipeline(steps=[\n",
    "    (\"si\", SimpleImputer(strategy=\"median\", add_indicator=True)),\n",
    "    (\"ss\", StandardScaler())\n",
    "])\n",
    "categorical_pipeline = Pipeline(steps=[\n",
    "    (\"si\", SimpleImputer(strategy=\"most_frequent\", add_indicator=True)),\n",
    "    (\"ohe\", OneHotEncoder(handle_unknown=\"ignore\"))\n",
    "])\n",
    "transformers = [\n",
    "    (\"cont\", numerical_pipeline, cont_features), \n",
    "    (\"cat\", categorical_pipeline, cat_features)]\n",
    "preprocessor = ColumnTransformer(transformers=transformers)"
   ]
  },
  {
   "cell_type": "code",
   "execution_count": 13,
   "id": "27ae05c0-1ad4-4b86-8a15-b78d89c21982",
   "metadata": {},
   "outputs": [],
   "source": [
    "lr = Pipeline(steps = [\n",
    "    (\"pp\", preprocessor),\n",
    "    (\"logisticregression\", LogisticRegression())\n",
    "])\n",
    "rf = Pipeline(steps = [\n",
    "    (\"pp\", preprocessor),\n",
    "    (\"randomforestclassifier\", RandomForestClassifier())\n",
    "])\n",
    "base_clfs = [\n",
    "    lr,\n",
    "    rf\n",
    "]"
   ]
  },
  {
   "cell_type": "code",
   "execution_count": 14,
   "id": "8e3662ba-f282-4633-af9a-9352ec551ed8",
   "metadata": {},
   "outputs": [],
   "source": [
    "all_hyper_parameters = generate_all_combinations(hyper_parameters)"
   ]
  },
  {
   "cell_type": "code",
   "execution_count": 15,
   "id": "aa908116-2987-465b-9901-d912f4b62b04",
   "metadata": {},
   "outputs": [],
   "source": [
    "from src.models.classifiers import StackedGeneralizationClassifier"
   ]
  },
  {
   "cell_type": "code",
   "execution_count": 16,
   "id": "2b4d7b52-29de-4c50-85da-923cb04ec2d5",
   "metadata": {},
   "outputs": [
    {
     "data": {
      "application/vnd.jupyter.widget-view+json": {
       "model_id": "3c3daa2b1fd2440f86628b119ca459c8",
       "version_major": 2,
       "version_minor": 0
      },
      "text/plain": [
       "  0%|          | 0/4 [00:00<?, ?it/s]"
      ]
     },
     "metadata": {},
     "output_type": "display_data"
    },
    {
     "name": "stdout",
     "output_type": "stream",
     "text": [
      "Outer loop, each fold:\n",
      "\tNumber of 0's: ~2930 (94.18%)\n",
      "\tNumber of 1's: ~181 (5.82%)\n",
      "Inner loop, each loop:\n",
      "\tNumber of 0's: ~1465 (94.18%)\n",
      "\tNumber of 1's: ~90 (5.82%)\n"
     ]
    },
    {
     "data": {
      "text/plain": [
       "<src.models.classifiers.StackedGeneralizationClassifier at 0x137d83bb0>"
      ]
     },
     "execution_count": 16,
     "metadata": {},
     "output_type": "execute_result"
    }
   ],
   "source": [
    "sgclf = StackedGeneralizationClassifier(base_clfs = base_clfs, meta_clf = LogisticRegression(), verbose=False)\n",
    "\n",
    "sgclf.cv_outer_loop(all_hyper_parameters = all_hyper_parameters, X = X_train, y = y_train, refit=True)"
   ]
  },
  {
   "cell_type": "code",
   "execution_count": 17,
   "id": "d343d79f-67c7-4bce-bd61-4fe459f72ee5",
   "metadata": {},
   "outputs": [],
   "source": [
    "y_test_pred_con, y_test_pred_cut = sgclf.predict(X_test)"
   ]
  },
  {
   "cell_type": "code",
   "execution_count": 18,
   "id": "a557d1e8-425d-4c5f-8111-540887814348",
   "metadata": {},
   "outputs": [],
   "source": [
    "from sklearn.metrics import roc_auc_score"
   ]
  },
  {
   "cell_type": "code",
   "execution_count": 19,
   "id": "a3dcd300-91a0-4a71-83eb-41f77e69f2fa",
   "metadata": {},
   "outputs": [
    {
     "data": {
      "text/plain": [
       "'Hold-out continous model: 0.9565378710337769'"
      ]
     },
     "execution_count": 19,
     "metadata": {},
     "output_type": "execute_result"
    }
   ],
   "source": [
    "(\"Hold-out continous model: \" + \n",
    "str(roc_auc_score(y_score = y_test_pred_con, y_true = y_test)))"
   ]
  },
  {
   "cell_type": "code",
   "execution_count": 20,
   "id": "77737ff6-8701-48af-a744-2b546ee87fdb",
   "metadata": {},
   "outputs": [
    {
     "data": {
      "text/plain": [
       "'Hold-out continous model: 0.8834356874786762'"
      ]
     },
     "execution_count": 20,
     "metadata": {},
     "output_type": "execute_result"
    }
   ],
   "source": [
    "(\"Hold-out continous model: \" + \n",
    "str(roc_auc_score(y_score = y_test_pred_cut, y_true = y_test)))"
   ]
  },
  {
   "cell_type": "code",
   "execution_count": 21,
   "id": "79a2460e-8229-4473-982c-31a2b0ca3485",
   "metadata": {},
   "outputs": [],
   "source": [
    "from src.visualization.visualize import plot_roc, plot_precision_recall"
   ]
  },
  {
   "cell_type": "code",
   "execution_count": 22,
   "id": "da768916-174d-4b8a-8891-24ddd97cc756",
   "metadata": {},
   "outputs": [
    {
     "data": {
      "image/png": "[encoded data removed]",
      "text/plain": [
       "<Figure size 640x480 with 1 Axes>"
      ]
     },
     "metadata": {},
     "output_type": "display_data"
    },
    {
     "data": {
      "text/plain": [
       "<ggplot: (369185729)>"
      ]
     },
     "execution_count": 22,
     "metadata": {},
     "output_type": "execute_result"
    }
   ],
   "source": [
    "plot_roc(y_test, y_test_pred_con)"
   ]
  },
  {
   "cell_type": "code",
   "execution_count": 23,
   "id": "8d4776ce-3d83-4f80-b1a7-146bb22e0fd8",
   "metadata": {},
   "outputs": [
    {
     "data": {
      "image/png": "[encoded data removed]",
      "text/plain": [
       "<Figure size 640x480 with 1 Axes>"
      ]
     },
     "metadata": {},
     "output_type": "display_data"
    },
    {
     "data": {
      "text/plain": [
       "<ggplot: (369352695)>"
      ]
     },
     "execution_count": 23,
     "metadata": {},
     "output_type": "execute_result"
    }
   ],
   "source": [
    "plot_roc(y_test, y_test_pred_cut)"
   ]
  },
  {
   "cell_type": "code",
   "execution_count": 24,
   "id": "2a3b5e18-32ec-4d13-83d0-95e23755b18d",
   "metadata": {},
   "outputs": [
    {
     "data": {
      "image/png": "[encoded data removed]",
      "text/plain": [
       "<Figure size 640x480 with 1 Axes>"
      ]
     },
     "metadata": {},
     "output_type": "display_data"
    },
    {
     "data": {
      "text/plain": [
       "<ggplot: (327036370)>"
      ]
     },
     "execution_count": 24,
     "metadata": {},
     "output_type": "execute_result"
    }
   ],
   "source": [
    "plot_precision_recall(y_test, y_test_pred_con)"
   ]
  },
  {
   "cell_type": "markdown",
   "id": "b12df210-fc5c-4543-b5e3-a5aff8f7b113",
   "metadata": {},
   "source": [
    "Plot roc curves for each classifier"
   ]
  },
  {
   "cell_type": "code",
   "execution_count": 25,
   "id": "5c15303e-d4b2-4290-819a-d3ab2af1aed2",
   "metadata": {},
   "outputs": [],
   "source": [
    "from src.visualization.visualize import plot_roc_base_clfs"
   ]
  },
  {
   "cell_type": "code",
   "execution_count": 26,
   "id": "bbfd84a0-30b3-4119-843e-8be732405c96",
   "metadata": {},
   "outputs": [],
   "source": [
    "y_test_pred_clfs = sgclf.predict_meta_features(X_test)"
   ]
  },
  {
   "cell_type": "code",
   "execution_count": 27,
   "id": "ab2833be-06f2-4ca8-a243-3a57366230ac",
   "metadata": {},
   "outputs": [],
   "source": [
    "keys = [\n",
    "    clf.get_params()[\"steps\"][-1][1].__class__.__name__ \n",
    "    for clf in sgclf.base_clfs_\n",
    "]"
   ]
  },
  {
   "cell_type": "code",
   "execution_count": 28,
   "id": "9d7036d7-f6cf-4fda-98ed-2e890505a9a9",
   "metadata": {},
   "outputs": [
    {
     "data": {
      "image/png": "[encoded data removed]",
      "text/plain": [
       "<Figure size 640x480 with 1 Axes>"
      ]
     },
     "metadata": {},
     "output_type": "display_data"
    },
    {
     "data": {
      "text/plain": [
       "<ggplot: (369411658)>"
      ]
     },
     "execution_count": 28,
     "metadata": {},
     "output_type": "execute_result"
    }
   ],
   "source": [
    "plot_roc_base_clfs(y_test_pred_clfs, y_test, keys)tl"
   ]
  },
  {
   "cell_type": "code",
   "execution_count": 32,
   "id": "0406f16d-b423-4677-b5ea-0b8dd278697c",
   "metadata": {},
   "outputs": [],
   "source": [
    "from src.models.metrics import nri"
   ]
  },
  {
   "cell_type": "code",
   "execution_count": 36,
   "id": "fb9d5171-933e-45a8-98ea-2830a5872c8d",
   "metadata": {},
   "outputs": [],
   "source": [
    "tc_test = pd.read_csv(\"./data/processed/s30d/tc_test.csv\", index_col = 0).tc"
   ]
  },
  {
   "cell_type": "code",
   "execution_count": 150,
   "id": "21b059db-841b-438e-b2e0-46d99eb255a4",
   "metadata": {},
   "outputs": [],
   "source": [
    "from src.models.metrics import calculate_nri"
   ]
  },
  {
   "cell_type": "code",
   "execution_count": 151,
   "id": "4b889e03-07f6-4ae2-9dfc-a238997b293c",
   "metadata": {},
   "outputs": [
    {
     "name": "stderr",
     "output_type": "stream",
     "text": [
      "R[write to console]: \n",
      "NRI estimation:\n",
      "\n",
      "R[write to console]: Point estimates:\n",
      "\n"
     ]
    },
    {
     "name": "stdout",
     "output_type": "stream",
     "text": [
      "                  Estimate\n",
      "NRI           -0.381712726\n",
      "NRI+           0.533333333\n",
      "NRI-          -0.915046059\n",
      "Pr(Up|Case)    0.541666667\n",
      "Pr(Down|Case)  0.008333333\n",
      "Pr(Down|Ctrl)  0.019447288\n",
      "Pr(Up|Ctrl)    0.934493347\n"
     ]
    }
   ],
   "source": [
    "nri = calculate_nri(y_test.to_numpy(), tc_test.to_numpy(), y_test_pred_cut) "
   ]
  }
 ],
 "metadata": {
  "kernelspec": {
   "display_name": "Python 3 (ipykernel)",
   "language": "python",
   "name": "python3"
  },
  "language_info": {
   "codemirror_mode": {
    "name": "ipython",
    "version": 3
   },
   "file_extension": ".py",
   "mimetype": "text/x-python",
   "name": "python",
   "nbconvert_exporter": "python",
   "pygments_lexer": "ipython3",
   "version": "3.10.0"
  }
 },
 "nbformat": 4,
 "nbformat_minor": 5
}
