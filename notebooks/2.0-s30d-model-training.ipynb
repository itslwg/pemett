{
 "cells": [
  {
   "cell_type": "markdown",
   "id": "0c9d9d89-4af7-4dc8-b1f3-c77dddad0c36",
   "metadata": {
    "tags": []
   },
   "source": [
    "# Model training and prediction - `s30d`"
   ]
  },
  {
   "cell_type": "code",
   "execution_count": 1,
   "id": "cf1fd4f7-e9ed-4c86-bf83-879e086ffb12",
   "metadata": {},
   "outputs": [],
   "source": [
    "%load_ext autoreload\n",
    "%autoreload 2"
   ]
  },
  {
   "cell_type": "code",
   "execution_count": 2,
   "id": "f08843e3-1ca8-42ec-a344-1c5f560441dd",
   "metadata": {},
   "outputs": [],
   "source": [
    "import os\n",
    "os.chdir(\"..\")"
   ]
  },
  {
   "cell_type": "code",
   "execution_count": 3,
   "id": "4918d091-6dc7-47e1-8419-8973ebbf246c",
   "metadata": {},
   "outputs": [
    {
     "data": {
      "text/plain": [
       "'/Users/ludvigwarnberggerdin/projects/ttris/pemett'"
      ]
     },
     "execution_count": 3,
     "metadata": {},
     "output_type": "execute_result"
    }
   ],
   "source": [
    "os.getcwd()"
   ]
  },
  {
   "cell_type": "code",
   "execution_count": 4,
   "id": "66d758ca-f517-4df4-8bc0-f1cbc91226ad",
   "metadata": {},
   "outputs": [],
   "source": [
    "import numpy as np\n",
    "import pandas as pd"
   ]
  },
  {
   "cell_type": "code",
   "execution_count": 5,
   "id": "cb6ed398-04d7-4bba-8693-e79e973e5487",
   "metadata": {},
   "outputs": [],
   "source": [
    "X_train = pd.read_csv(\"./data/processed/s30d/X_train.csv\", index_col = 0)\n",
    "y_train = pd.read_csv(\"./data/processed/s30d/y_train.csv\", index_col = 0).s30d\n",
    "X_test = pd.read_csv(\"./data/processed/s30d/X_test.csv\", index_col = 0)\n",
    "y_test = pd.read_csv(\"./data/processed/s30d/y_test.csv\", index_col = 0).s30d\n",
    "tc_train = pd.read_csv(\"./data/processed/s30d/tc_train.csv\", index_col = 0).tc\n",
    "tc_test = pd.read_csv(\"./data/processed/s30d/tc_test.csv\", index_col = 0).tc"
   ]
  },
  {
   "cell_type": "code",
   "execution_count": 6,
   "id": "fb610948-9c80-4507-861c-feeb3318fbb1",
   "metadata": {},
   "outputs": [
    {
     "data": {
      "text/plain": [
       "0.0    94.197074\n",
       "1.0     5.802926\n",
       "Name: s30d, dtype: float64"
      ]
     },
     "execution_count": 6,
     "metadata": {},
     "output_type": "execute_result"
    }
   ],
   "source": [
    "y_train.value_counts() / len(y_train.index) * 100"
   ]
  },
  {
   "cell_type": "code",
   "execution_count": 7,
   "id": "fe14dc61-2fe7-4188-9b39-5c4abb2f149d",
   "metadata": {},
   "outputs": [],
   "source": [
    "cont_features = [\"age\", \"hr\", \"sbp\", \"dbp\", \"spo2\", \"rr\", \"delay\"]\n",
    "cat_features = list(X_train.loc[:, ~X_train.columns.isin(cont_features)].columns)"
   ]
  },
  {
   "cell_type": "markdown",
   "id": "ce6f9e4e-ff18-4afd-bd68-28701e564246",
   "metadata": {
    "tags": []
   },
   "source": [
    "## Run hyper parameter search"
   ]
  },
  {
   "cell_type": "code",
   "execution_count": 8,
   "id": "f7e57514-909f-4bdb-83e4-6f83e4e7e423",
   "metadata": {},
   "outputs": [],
   "source": [
    "import random\n",
    "from tqdm.notebook import tqdm\n",
    "from src.models.train_model import generate_all_combinations"
   ]
  },
  {
   "cell_type": "code",
   "execution_count": 9,
   "id": "5ee3654e-7a80-4e7d-be40-7dfec004e221",
   "metadata": {},
   "outputs": [],
   "source": [
    "import itertools as it\n",
    "all_breaks = [(0, ) + x + (np.inf,) for x in it.combinations(np.arange(0.01, 1, 0.01), r=3)]"
   ]
  },
  {
   "cell_type": "code",
   "execution_count": 10,
   "id": "483bf1b0-3db6-48b3-8c55-721198e10432",
   "metadata": {},
   "outputs": [],
   "source": [
    "from sklearn.linear_model import LogisticRegression\n",
    "from sklearn.ensemble import RandomForestClassifier\n",
    "from lightgbm import LGBMClassifier\n",
    "\n",
    "from sklearn.pipeline import Pipeline\n",
    "from sklearn.impute import SimpleImputer\n",
    "from sklearn.compose import ColumnTransformer\n",
    "from sklearn.preprocessing import StandardScaler, OneHotEncoder"
   ]
  },
  {
   "cell_type": "code",
   "execution_count": 11,
   "id": "8bff7851-5b1f-4d4c-b729-272b7c698886",
   "metadata": {},
   "outputs": [],
   "source": [
    "hyper_parameters = {\n",
    "    \"logisticregression__logisticregression__C\": [0.1, 0.2],\n",
    "    \"randomforestclassifier__randomforestclassifier__n_estimators\": [100, 200],\n",
    "    \"breaks\": all_breaks[:1]\n",
    "}"
   ]
  },
  {
   "cell_type": "code",
   "execution_count": 12,
   "id": "5828d968-0d8e-4c96-a603-3ba4954943e4",
   "metadata": {},
   "outputs": [],
   "source": [
    "numerical_pipeline = Pipeline(steps=[\n",
    "    (\"si\", SimpleImputer(strategy=\"median\", add_indicator=True)),\n",
    "    (\"ss\", StandardScaler())\n",
    "])\n",
    "categorical_pipeline = Pipeline(steps=[\n",
    "    (\"si\", SimpleImputer(strategy=\"most_frequent\", add_indicator=True)),\n",
    "    (\"ohe\", OneHotEncoder(handle_unknown=\"ignore\"))\n",
    "])\n",
    "transformers = [\n",
    "    (\"cont\", numerical_pipeline, cont_features), \n",
    "    (\"cat\", categorical_pipeline, cat_features)]\n",
    "preprocessor = ColumnTransformer(transformers=transformers)"
   ]
  },
  {
   "cell_type": "code",
   "execution_count": 13,
   "id": "27ae05c0-1ad4-4b86-8a15-b78d89c21982",
   "metadata": {},
   "outputs": [],
   "source": [
    "# lgbm = Pipeline(steps=[(\"lightgbmclassifier\", LGBMClassifier())])\n",
    "lr = Pipeline(steps = [\n",
    "    (\"pp\", preprocessor),\n",
    "    (\"logisticregression\", LogisticRegression())\n",
    "])\n",
    "rf = Pipeline(steps = [\n",
    "    (\"pp\", preprocessor),\n",
    "    (\"randomforestclassifier\", RandomForestClassifier())\n",
    "])\n",
    "base_clfs = [\n",
    "    # lgbm,\n",
    "    lr,\n",
    "    rf\n",
    "]"
   ]
  },
  {
   "cell_type": "code",
   "execution_count": 14,
   "id": "8e3662ba-f282-4633-af9a-9352ec551ed8",
   "metadata": {},
   "outputs": [],
   "source": [
    "all_hyper_parameters = generate_all_combinations(hyper_parameters)"
   ]
  },
  {
   "cell_type": "code",
   "execution_count": 15,
   "id": "aa908116-2987-465b-9901-d912f4b62b04",
   "metadata": {},
   "outputs": [],
   "source": [
    "from src.models.classifiers import StackedGeneralizationClassifier"
   ]
  },
  {
   "cell_type": "code",
   "execution_count": 16,
   "id": "2b4d7b52-29de-4c50-85da-923cb04ec2d5",
   "metadata": {},
   "outputs": [
    {
     "data": {
      "application/vnd.jupyter.widget-view+json": {
       "model_id": "b948eb7a54374b019273a02cbcc00bee",
       "version_major": 2,
       "version_minor": 0
      },
      "text/plain": [
       "  0%|          | 0/4 [00:00<?, ?it/s]"
      ]
     },
     "metadata": {},
     "output_type": "display_data"
    },
    {
     "data": {
      "text/plain": [
       "<src.models.classifiers.StackedGeneralizationClassifier at 0x14da4ad70>"
      ]
     },
     "execution_count": 16,
     "metadata": {},
     "output_type": "execute_result"
    }
   ],
   "source": [
    "sgclf = StackedGeneralizationClassifier(\n",
    "    base_clfs=base_clfs, \n",
    "    meta_clf=LogisticRegression(),\n",
    "    use_probas=True, \n",
    "    verbose=False\n",
    ")\n",
    "sgclf.cv_outer_loop(\n",
    "    all_hyper_parameters=all_hyper_parameters,\n",
    "    X=X_train, \n",
    "    y=y_train, \n",
    "    refit=True\n",
    ")"
   ]
  },
  {
   "cell_type": "code",
   "execution_count": 51,
   "id": "d343d79f-67c7-4bce-bd61-4fe459f72ee5",
   "metadata": {},
   "outputs": [],
   "source": [
    "y_test_prob_con, y_test_prob_cut = sgclf.predict(X_test)"
   ]
  },
  {
   "cell_type": "code",
   "execution_count": 52,
   "id": "a557d1e8-425d-4c5f-8111-540887814348",
   "metadata": {},
   "outputs": [],
   "source": [
    "from sklearn.metrics import roc_auc_score"
   ]
  },
  {
   "cell_type": "code",
   "execution_count": 53,
   "id": "a3dcd300-91a0-4a71-83eb-41f77e69f2fa",
   "metadata": {},
   "outputs": [
    {
     "data": {
      "text/plain": [
       "'Hold-out AUC of ROC, continous model: 0.9561327192084612'"
      ]
     },
     "execution_count": 53,
     "metadata": {},
     "output_type": "execute_result"
    }
   ],
   "source": [
    "auc_test_con = roc_auc_score(y_score = y_test_prob_con, y_true = y_test)\n",
    "(\"Hold-out AUC of ROC, continous model: \" + \n",
    "str(auc_test_con))"
   ]
  },
  {
   "cell_type": "code",
   "execution_count": 54,
   "id": "77737ff6-8701-48af-a744-2b546ee87fdb",
   "metadata": {},
   "outputs": [
    {
     "data": {
      "text/plain": [
       "'Hold-out AUC of ROC, cut model: 0.9134958205390652'"
      ]
     },
     "execution_count": 54,
     "metadata": {},
     "output_type": "execute_result"
    }
   ],
   "source": [
    "auc_test_cut = roc_auc_score(y_score = y_test_prob_cut, y_true = y_test)\n",
    "(\"Hold-out AUC of ROC, cut model: \" + \n",
    "str(auc_test_cut))"
   ]
  },
  {
   "cell_type": "code",
   "execution_count": 55,
   "id": "79a2460e-8229-4473-982c-31a2b0ca3485",
   "metadata": {},
   "outputs": [],
   "source": [
    "from src.visualization.visualize import plot_roc, plot_precision_recall"
   ]
  },
  {
   "cell_type": "code",
   "execution_count": 76,
   "id": "da768916-174d-4b8a-8891-24ddd97cc756",
   "metadata": {},
   "outputs": [
    {
     "data": {
      "image/png": "[encoded data removed]",
      "text/plain": [
       "<Figure size 640x480 with 1 Axes>"
      ]
     },
     "metadata": {},
     "output_type": "display_data"
    },
    {
     "data": {
      "text/plain": [
       "<ggplot: (402044007)>"
      ]
     },
     "execution_count": 76,
     "metadata": {},
     "output_type": "execute_result"
    }
   ],
   "source": [
    "plot_roc(y_test, y_test_prob_con)"
   ]
  },
  {
   "cell_type": "code",
   "execution_count": 85,
   "id": "8d4776ce-3d83-4f80-b1a7-146bb22e0fd8",
   "metadata": {},
   "outputs": [
    {
     "data": {
      "image/png": "[encoded data removed]",
      "text/plain": [
       "<Figure size 640x480 with 1 Axes>"
      ]
     },
     "metadata": {},
     "output_type": "display_data"
    },
    {
     "data": {
      "text/plain": [
       "<ggplot: (402015187)>"
      ]
     },
     "execution_count": 85,
     "metadata": {},
     "output_type": "execute_result"
    }
   ],
   "source": [
    "plot_roc(y_test, y_test_prob_cut)"
   ]
  },
  {
   "cell_type": "code",
   "execution_count": 86,
   "id": "2a3b5e18-32ec-4d13-83d0-95e23755b18d",
   "metadata": {},
   "outputs": [
    {
     "data": {
      "image/png": "[encoded data removed]",
      "text/plain": [
       "<Figure size 640x480 with 1 Axes>"
      ]
     },
     "metadata": {},
     "output_type": "display_data"
    },
    {
     "data": {
      "text/plain": [
       "<ggplot: (679592921)>"
      ]
     },
     "execution_count": 86,
     "metadata": {},
     "output_type": "execute_result"
    }
   ],
   "source": [
    "plot_precision_recall(y_test, y_test_prob_con)"
   ]
  },
  {
   "cell_type": "markdown",
   "id": "b12df210-fc5c-4543-b5e3-a5aff8f7b113",
   "metadata": {},
   "source": [
    "Plot roc curves for each classifier"
   ]
  },
  {
   "cell_type": "code",
   "execution_count": 87,
   "id": "5c15303e-d4b2-4290-819a-d3ab2af1aed2",
   "metadata": {},
   "outputs": [],
   "source": [
    "from src.visualization.visualize import plot_roc_base_clfs"
   ]
  },
  {
   "cell_type": "code",
   "execution_count": 88,
   "id": "bbfd84a0-30b3-4119-843e-8be732405c96",
   "metadata": {},
   "outputs": [],
   "source": [
    "y_test_prob_clfs = sgclf.predict_meta_features(X_test, use_probas = True)\n",
    "y_test_pred_clfs = sgclf.predict_meta_features(X_test, use_probas = False)"
   ]
  },
  {
   "cell_type": "code",
   "execution_count": 89,
   "id": "ab2833be-06f2-4ca8-a243-3a57366230ac",
   "metadata": {},
   "outputs": [],
   "source": [
    "keys = [\n",
    "    clf.get_params()[\"steps\"][-1][1].__class__.__name__ \n",
    "    for clf in sgclf.base_clfs_\n",
    "]"
   ]
  },
  {
   "cell_type": "code",
   "execution_count": 90,
   "id": "9f5c280b-2e82-499a-837e-8b036c69388a",
   "metadata": {},
   "outputs": [],
   "source": [
    "from sklearn.metrics import (\n",
    "    precision_score, \n",
    "    recall_score, \n",
    "    roc_auc_score\n",
    ")"
   ]
  },
  {
   "cell_type": "code",
   "execution_count": 91,
   "id": "6ea786cc-afa7-42e7-8c76-80cac8de6be0",
   "metadata": {},
   "outputs": [],
   "source": [
    "y_pred_meta_clf = sgclf.predict(X_test, use_probas = False)"
   ]
  },
  {
   "cell_type": "code",
   "execution_count": 92,
   "id": "62339104-653f-4524-928d-c0f39df83a26",
   "metadata": {},
   "outputs": [],
   "source": [
    "y_test_pred_clfs = np.column_stack((y_test_pred_clfs, y_pred_meta_clf))\n",
    "y_test_prob_clfs = np.column_stack((y_test_prob_clfs, y_test_prob_con))"
   ]
  },
  {
   "cell_type": "code",
   "execution_count": 93,
   "id": "9d7036d7-f6cf-4fda-98ed-2e890505a9a9",
   "metadata": {},
   "outputs": [
    {
     "data": {
      "image/png": "[encoded data removed]",
      "text/plain": [
       "<Figure size 640x480 with 1 Axes>"
      ]
     },
     "metadata": {},
     "output_type": "display_data"
    },
    {
     "data": {
      "text/plain": [
       "<ggplot: (679641302)>"
      ]
     },
     "execution_count": 93,
     "metadata": {},
     "output_type": "execute_result"
    }
   ],
   "source": [
    "plot_roc_base_clfs(y_test_prob_clfs, y_test, keys)"
   ]
  },
  {
   "cell_type": "code",
   "execution_count": 94,
   "id": "1a34190a-46df-4bfb-a230-b1976e8919f2",
   "metadata": {},
   "outputs": [],
   "source": [
    "from src.models.metrics import bootstrap, compute_performance"
   ]
  },
  {
   "cell_type": "code",
   "execution_count": 128,
   "id": "34fd12e6-6fe2-4186-bdfd-d75f6781e69e",
   "metadata": {},
   "outputs": [
    {
     "name": "stderr",
     "output_type": "stream",
     "text": [
      "\n",
      "\n",
      "\n",
      "\n",
      "\n",
      "\n",
      "\n",
      "  0%|                                                                          | 0/5 [00:00<?, ?it/s]\u001b[A\u001b[A\u001b[A\u001b[A\u001b[A\u001b[A\u001b[ADuring startup - Warning messages:\n",
      "1: Setting LC_COLLATE failed, using \"C\" \n",
      "2: Setting LC_TIME failed, using \"C\" \n",
      "3: Setting LC_MESSAGES failed, using \"C\" \n",
      "4: Setting LC_MONETARY failed, using \"C\" \n",
      "During startup - Warning messages:\n",
      "1: Setting LC_COLLATE failed, using \"C\" \n",
      "2: Setting LC_TIME failed, using \"C\" \n",
      "3: Setting LC_MESSAGES failed, using \"C\" \n",
      "4: Setting LC_MONETARY failed, using \"C\" \n",
      "R[write to console]: \n",
      "NRI estimation:\n",
      "\n",
      "R[write to console]: Point estimates:\n",
      "\n",
      "\n",
      "\n",
      "\n",
      "\n",
      "\n",
      "\n",
      "\n",
      "100%|██████████████████████████████████████████████████████████████████| 5/5 [00:04<00:00,  1.08it/s]\u001b[A\u001b[A\u001b[A\u001b[A\u001b[A\u001b[A\u001b[A\n",
      "R[write to console]: \n",
      "NRI estimation:\n",
      "\n",
      "R[write to console]: Point estimates:\n",
      "\n"
     ]
    },
    {
     "name": "stdout",
     "output_type": "stream",
     "text": [
      "  0%|          | 0/4 [00:00<?, ?it/s]\n",
      "                  Estimate\n",
      "NRI            0.448074701\n",
      "NRI+           0.456790123\n",
      "NRI-          -0.008715423\n",
      "Pr(Up|Case)    0.506172840\n",
      "Pr(Down|Case)  0.049382716\n",
      "Pr(Down|Ctrl)  0.057976506\n",
      "Pr(Up|Ctrl)    0.066691929\n",
      "  0%|          | 0/4 [00:00<?, ?it/s]\n",
      "                  Estimate\n",
      "NRI            0.498483125\n",
      "NRI+           0.500000000\n",
      "NRI-          -0.001516875\n",
      "Pr(Up|Case)    0.545454545\n",
      "Pr(Down|Case)  0.045454545\n",
      "Pr(Down|Ctrl)  0.065225635\n",
      "Pr(Up|Ctrl)    0.066742510\n"
     ]
    },
    {
     "name": "stderr",
     "output_type": "stream",
     "text": [
      "R[write to console]: \n",
      "NRI estimation:\n",
      "\n",
      "R[write to console]: Point estimates:\n",
      "\n",
      "R[write to console]: \n",
      "NRI estimation:\n",
      "\n",
      "R[write to console]: Point estimates:\n",
      "\n"
     ]
    },
    {
     "name": "stdout",
     "output_type": "stream",
     "text": [
      "  0%|          | 0/4 [00:00<?, ?it/s]\n",
      "                  Estimate\n",
      "NRI            0.470433695\n",
      "NRI+           0.472727273\n",
      "NRI-          -0.002293578\n",
      "Pr(Up|Case)    0.533333333\n",
      "Pr(Down|Case)  0.060606061\n",
      "Pr(Down|Ctrl)  0.064220183\n",
      "Pr(Up|Ctrl)    0.066513761\n",
      "  0%|          | 0/4 [00:00<?, ?it/s]\n",
      "                 Estimate\n",
      "NRI            0.44681786\n",
      "NRI+           0.46308725\n",
      "NRI-          -0.01626939\n",
      "Pr(Up|Case)    0.51006711\n",
      "Pr(Down|Case)  0.04697987\n",
      "Pr(Down|Ctrl)  0.05713205\n",
      "Pr(Up|Ctrl)    0.07340144\n",
      "  0%|          | 0/4 [00:00<?, ?it/s]\n",
      "                 Estimate\n",
      "NRI            0.33471690\n",
      "NRI+           0.39506173\n",
      "NRI-          -0.06034483\n",
      "Pr(Up|Case)    0.42592593\n",
      "Pr(Down|Case)  0.03086420\n",
      "Pr(Down|Ctrl)  0.05322339\n",
      "Pr(Up|Ctrl)    0.11356822\n"
     ]
    },
    {
     "name": "stderr",
     "output_type": "stream",
     "text": [
      "R[write to console]: \n",
      "NRI estimation:\n",
      "\n",
      "R[write to console]: Point estimates:\n",
      "\n"
     ]
    }
   ],
   "source": [
    "stats = bootstrap(\n",
    "    X=X_train,\n",
    "    y=y_train, \n",
    "    tc=tc_train,\n",
    "    keys=keys + [sgclf.__class__.__name__],\n",
    "    base_clfs=base_clfs,\n",
    "    meta_clf=LogisticRegression(),\n",
    "    all_hyper_parameters=all_hyper_parameters\n",
    ")"
   ]
  },
  {
   "cell_type": "code",
   "execution_count": 131,
   "id": "bc019ee5-be10-42ea-8dfe-7ae7a17f403d",
   "metadata": {},
   "outputs": [
    {
     "name": "stderr",
     "output_type": "stream",
     "text": [
      "WARNING:rpy2.rinterface_lib.callbacks:R[write to console]: \n",
      "NRI estimation:\n",
      "\n",
      "WARNING:rpy2.rinterface_lib.callbacks:R[write to console]: Point estimates:\n",
      "\n"
     ]
    },
    {
     "name": "stdout",
     "output_type": "stream",
     "text": [
      "                 Estimate\n",
      "NRI            0.36870522\n",
      "NRI+           0.42500000\n",
      "NRI-          -0.05629478\n",
      "Pr(Up|Case)    0.46666667\n",
      "Pr(Down|Case)  0.04166667\n",
      "Pr(Down|Ctrl)  0.05834186\n",
      "Pr(Up|Ctrl)    0.11463664\n"
     ]
    }
   ],
   "source": [
    "# Set bootstrap estimates as data frame\n",
    "stats_df = pd.concat([pd.DataFrame.from_dict(d, orient=\"index\").stack().to_frame() for d in stats], axis = 1)\n",
    "stats_df.values.sort()\n",
    "# Set list for simplifying compiling point estimates\n",
    "y_test_prob_cuts = [None] * len(keys) + [y_test_prob_cut]\n",
    "# Set point estimates as data frame\n",
    "point_estimates = pd.DataFrame.from_dict({\n",
    "    k: compute_performance(\n",
    "        y_prob=prob, \n",
    "        y_pred=pred, \n",
    "        y_true=y_test, \n",
    "        y_pred_cut=cut, \n",
    "        tc=tc_test\n",
    "    )\n",
    "    for prob, pred, cut, k in zip(\n",
    "        y_test_prob_clfs.T, \n",
    "        y_test_pred_clfs.T,\n",
    "        y_test_prob_cuts,\n",
    "        keys + [sgclf.__class__.__name__]\n",
    "    )\n",
    "}, orient = \"index\").stack().to_frame()\n",
    "# Compute quantiles for each metric\n",
    "d1 = (stats_df - point_estimates).apply(np.quantile, q = 0.1, axis = 1)\n",
    "d2 = (stats_df - point_estimates).apply(np.quantile, q = 0.9, axis = 1)\n",
    "# Compute upper bounds and lower bounds\n",
    "ub = round(point_estimates - d1.to_frame(), 2)\n",
    "lb = round(point_estimates - d2.to_frame(), 2)\n",
    "# Compile performamance\n",
    "perf_df = pd.concat([round(point_estimates, 2), lb, ub, ], axis = 1)"
   ]
  },
  {
   "cell_type": "code",
   "execution_count": 132,
   "id": "b01e68ba-7aca-45a3-8443-b32584998976",
   "metadata": {},
   "outputs": [],
   "source": [
    "lb_str = lb.iloc[:, 0].astype(str) \n",
    "ub_str = ub.iloc[:, 0].astype(str)\n",
    "pe_str = round(point_estimates, 2).iloc[:, 0].astype(str)\n",
    "ci = pe_str + \" (\" + lb_str + \" to \" + ub_str +  \")\""
   ]
  },
  {
   "cell_type": "code",
   "execution_count": 133,
   "id": "3fa98cf4-869a-4e64-a03a-9caaf63209b5",
   "metadata": {},
   "outputs": [],
   "source": [
    "perf_df = pd.concat([perf_df, ci.to_frame()], axis = 1)\n",
    "perf_df.columns = [\"point_estimate\", \"lb\", \"ub\", \"ci\"]"
   ]
  },
  {
   "cell_type": "code",
   "execution_count": 134,
   "id": "f03c6e95-8611-426f-bac5-71651618444e",
   "metadata": {},
   "outputs": [
    {
     "data": {
      "text/html": [
       "<div>\n",
       "<style scoped>\n",
       "    .dataframe tbody tr th:only-of-type {\n",
       "        vertical-align: middle;\n",
       "    }\n",
       "\n",
       "    .dataframe tbody tr th {\n",
       "        vertical-align: top;\n",
       "    }\n",
       "\n",
       "    .dataframe thead th {\n",
       "        text-align: right;\n",
       "    }\n",
       "</style>\n",
       "<table border=\"1\" class=\"dataframe\">\n",
       "  <thead>\n",
       "    <tr style=\"text-align: right;\">\n",
       "      <th></th>\n",
       "      <th></th>\n",
       "      <th>point_estimate</th>\n",
       "      <th>lb</th>\n",
       "      <th>ub</th>\n",
       "      <th>ci</th>\n",
       "    </tr>\n",
       "  </thead>\n",
       "  <tbody>\n",
       "    <tr>\n",
       "      <th rowspan=\"3\" valign=\"top\">LogisticRegression</th>\n",
       "      <th>roc_auc</th>\n",
       "      <td>0.96</td>\n",
       "      <td>0.95</td>\n",
       "      <td>0.97</td>\n",
       "      <td>0.96 (0.95 to 0.97)</td>\n",
       "    </tr>\n",
       "    <tr>\n",
       "      <th>prec</th>\n",
       "      <td>0.88</td>\n",
       "      <td>0.89</td>\n",
       "      <td>0.91</td>\n",
       "      <td>0.88 (0.89 to 0.91)</td>\n",
       "    </tr>\n",
       "    <tr>\n",
       "      <th>rec</th>\n",
       "      <td>0.80</td>\n",
       "      <td>0.77</td>\n",
       "      <td>0.82</td>\n",
       "      <td>0.8 (0.77 to 0.82)</td>\n",
       "    </tr>\n",
       "    <tr>\n",
       "      <th rowspan=\"3\" valign=\"top\">RandomForestClassifier</th>\n",
       "      <th>roc_auc</th>\n",
       "      <td>0.94</td>\n",
       "      <td>0.92</td>\n",
       "      <td>0.96</td>\n",
       "      <td>0.94 (0.92 to 0.96)</td>\n",
       "    </tr>\n",
       "    <tr>\n",
       "      <th>prec</th>\n",
       "      <td>0.89</td>\n",
       "      <td>0.89</td>\n",
       "      <td>0.92</td>\n",
       "      <td>0.89 (0.89 to 0.92)</td>\n",
       "    </tr>\n",
       "    <tr>\n",
       "      <th>rec</th>\n",
       "      <td>0.79</td>\n",
       "      <td>0.77</td>\n",
       "      <td>0.81</td>\n",
       "      <td>0.79 (0.77 to 0.81)</td>\n",
       "    </tr>\n",
       "    <tr>\n",
       "      <th rowspan=\"8\" valign=\"top\">StackedGeneralizationClassifier</th>\n",
       "      <th>roc_auc</th>\n",
       "      <td>0.96</td>\n",
       "      <td>0.95</td>\n",
       "      <td>0.96</td>\n",
       "      <td>0.96 (0.95 to 0.96)</td>\n",
       "    </tr>\n",
       "    <tr>\n",
       "      <th>prec</th>\n",
       "      <td>0.89</td>\n",
       "      <td>0.90</td>\n",
       "      <td>0.92</td>\n",
       "      <td>0.89 (0.9 to 0.92)</td>\n",
       "    </tr>\n",
       "    <tr>\n",
       "      <th>rec</th>\n",
       "      <td>0.80</td>\n",
       "      <td>0.77</td>\n",
       "      <td>0.83</td>\n",
       "      <td>0.8 (0.77 to 0.83)</td>\n",
       "    </tr>\n",
       "    <tr>\n",
       "      <th>auc_model_model</th>\n",
       "      <td>0.04</td>\n",
       "      <td>0.02</td>\n",
       "      <td>0.04</td>\n",
       "      <td>0.04 (0.02 to 0.04)</td>\n",
       "    </tr>\n",
       "    <tr>\n",
       "      <th>auc_model_tc</th>\n",
       "      <td>0.05</td>\n",
       "      <td>0.04</td>\n",
       "      <td>0.05</td>\n",
       "      <td>0.05 (0.04 to 0.05)</td>\n",
       "    </tr>\n",
       "    <tr>\n",
       "      <th>nri</th>\n",
       "      <td>0.37</td>\n",
       "      <td>0.25</td>\n",
       "      <td>0.36</td>\n",
       "      <td>0.37 (0.25 to 0.36)</td>\n",
       "    </tr>\n",
       "    <tr>\n",
       "      <th>nri_plus</th>\n",
       "      <td>0.42</td>\n",
       "      <td>0.36</td>\n",
       "      <td>0.43</td>\n",
       "      <td>0.42 (0.36 to 0.43)</td>\n",
       "    </tr>\n",
       "    <tr>\n",
       "      <th>nri_minus</th>\n",
       "      <td>-0.06</td>\n",
       "      <td>-0.11</td>\n",
       "      <td>-0.07</td>\n",
       "      <td>-0.06 (-0.11 to -0.07)</td>\n",
       "    </tr>\n",
       "  </tbody>\n",
       "</table>\n",
       "</div>"
      ],
      "text/plain": [
       "                                                 point_estimate    lb    ub  \\\n",
       "LogisticRegression              roc_auc                    0.96  0.95  0.97   \n",
       "                                prec                       0.88  0.89  0.91   \n",
       "                                rec                        0.80  0.77  0.82   \n",
       "RandomForestClassifier          roc_auc                    0.94  0.92  0.96   \n",
       "                                prec                       0.89  0.89  0.92   \n",
       "                                rec                        0.79  0.77  0.81   \n",
       "StackedGeneralizationClassifier roc_auc                    0.96  0.95  0.96   \n",
       "                                prec                       0.89  0.90  0.92   \n",
       "                                rec                        0.80  0.77  0.83   \n",
       "                                auc_model_model            0.04  0.02  0.04   \n",
       "                                auc_model_tc               0.05  0.04  0.05   \n",
       "                                nri                        0.37  0.25  0.36   \n",
       "                                nri_plus                   0.42  0.36  0.43   \n",
       "                                nri_minus                 -0.06 -0.11 -0.07   \n",
       "\n",
       "                                                                     ci  \n",
       "LogisticRegression              roc_auc             0.96 (0.95 to 0.97)  \n",
       "                                prec                0.88 (0.89 to 0.91)  \n",
       "                                rec                  0.8 (0.77 to 0.82)  \n",
       "RandomForestClassifier          roc_auc             0.94 (0.92 to 0.96)  \n",
       "                                prec                0.89 (0.89 to 0.92)  \n",
       "                                rec                 0.79 (0.77 to 0.81)  \n",
       "StackedGeneralizationClassifier roc_auc             0.96 (0.95 to 0.96)  \n",
       "                                prec                 0.89 (0.9 to 0.92)  \n",
       "                                rec                  0.8 (0.77 to 0.83)  \n",
       "                                auc_model_model     0.04 (0.02 to 0.04)  \n",
       "                                auc_model_tc        0.05 (0.04 to 0.05)  \n",
       "                                nri                 0.37 (0.25 to 0.36)  \n",
       "                                nri_plus            0.42 (0.36 to 0.43)  \n",
       "                                nri_minus        -0.06 (-0.11 to -0.07)  "
      ]
     },
     "execution_count": 134,
     "metadata": {},
     "output_type": "execute_result"
    }
   ],
   "source": [
    "perf_df"
   ]
  }
 ],
 "metadata": {
  "kernelspec": {
   "display_name": "Python 3 (ipykernel)",
   "language": "python",
   "name": "python3"
  },
  "language_info": {
   "codemirror_mode": {
    "name": "ipython",
    "version": 3
   },
   "file_extension": ".py",
   "mimetype": "text/x-python",
   "name": "python",
   "nbconvert_exporter": "python",
   "pygments_lexer": "ipython3",
   "version": "3.10.0"
  }
 },
 "nbformat": 4,
 "nbformat_minor": 5
}
