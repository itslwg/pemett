{
 "cells": [
  {
   "cell_type": "markdown",
   "id": "0c9d9d89-4af7-4dc8-b1f3-c77dddad0c36",
   "metadata": {},
   "source": [
    "# Model training and prediction - `s30d`"
   ]
  },
  {
   "cell_type": "code",
   "execution_count": 8,
   "id": "cf1fd4f7-e9ed-4c86-bf83-879e086ffb12",
   "metadata": {},
   "outputs": [
    {
     "name": "stdout",
     "output_type": "stream",
     "text": [
      "The autoreload extension is already loaded. To reload it, use:\n",
      "  %reload_ext autoreload\n"
     ]
    }
   ],
   "source": [
    "%load_ext autoreload\n",
    "%autoreload 2"
   ]
  },
  {
   "cell_type": "code",
   "execution_count": 2,
   "id": "f08843e3-1ca8-42ec-a344-1c5f560441dd",
   "metadata": {},
   "outputs": [],
   "source": [
    "import os\n",
    "os.chdir(\"..\")"
   ]
  },
  {
   "cell_type": "code",
   "execution_count": 3,
   "id": "4918d091-6dc7-47e1-8419-8973ebbf246c",
   "metadata": {},
   "outputs": [
    {
     "data": {
      "text/plain": [
       "'/Users/ludvigwarnberggerdin/projects/ttris/pemett'"
      ]
     },
     "execution_count": 3,
     "metadata": {},
     "output_type": "execute_result"
    }
   ],
   "source": [
    "os.getcwd()"
   ]
  },
  {
   "cell_type": "code",
   "execution_count": 9,
   "id": "66d758ca-f517-4df4-8bc0-f1cbc91226ad",
   "metadata": {},
   "outputs": [],
   "source": [
    "import numpy as np\n",
    "import pandas as pd"
   ]
  },
  {
   "cell_type": "code",
   "execution_count": 10,
   "id": "cb6ed398-04d7-4bba-8693-e79e973e5487",
   "metadata": {},
   "outputs": [],
   "source": [
    "X_train = pd.read_csv(\"./data/processed/s30d/X_train.csv\", index_col = 0)\n",
    "y_train = pd.read_csv(\"./data/processed/s30d/y_train.csv\", index_col = 0).s30d\n",
    "X_test = pd.read_csv(\"./data/processed/s30d/X_test.csv\", index_col = 0)\n",
    "y_test = pd.read_csv(\"./data/processed/s30d/y_test.csv\", index_col = 0).s30d\n",
    "tc_test = pd.read_csv(\"./data/processed/s30d/tc_test.csv\", index_col = 0).tc"
   ]
  },
  {
   "cell_type": "code",
   "execution_count": 11,
   "id": "fb610948-9c80-4507-861c-feeb3318fbb1",
   "metadata": {},
   "outputs": [
    {
     "data": {
      "text/plain": [
       "0.0    94.197074\n",
       "1.0     5.802926\n",
       "Name: s30d, dtype: float64"
      ]
     },
     "execution_count": 11,
     "metadata": {},
     "output_type": "execute_result"
    }
   ],
   "source": [
    "y_train.value_counts() / len(y_train.index) * 100"
   ]
  },
  {
   "cell_type": "code",
   "execution_count": 12,
   "id": "fe14dc61-2fe7-4188-9b39-5c4abb2f149d",
   "metadata": {},
   "outputs": [],
   "source": [
    "cont_features = [\"age\", \"hr\", \"sbp\", \"dbp\", \"spo2\", \"rr\", \"delay\"]\n",
    "cat_features = list(X_train.loc[:, ~X_train.columns.isin(cont_features)].columns)"
   ]
  },
  {
   "cell_type": "markdown",
   "id": "ce6f9e4e-ff18-4afd-bd68-28701e564246",
   "metadata": {
    "tags": []
   },
   "source": [
    "## Run hyper parameter search"
   ]
  },
  {
   "cell_type": "code",
   "execution_count": 13,
   "id": "f7e57514-909f-4bdb-83e4-6f83e4e7e423",
   "metadata": {},
   "outputs": [],
   "source": [
    "import random\n",
    "from tqdm.notebook import tqdm\n",
    "from src.models.train_model import generate_all_combinations"
   ]
  },
  {
   "cell_type": "code",
   "execution_count": 14,
   "id": "5ee3654e-7a80-4e7d-be40-7dfec004e221",
   "metadata": {},
   "outputs": [],
   "source": [
    "import itertools as it\n",
    "all_breaks = [(0, ) + x + (np.inf,) for x in it.combinations(np.arange(0.01, 1, 0.01), r=3)]"
   ]
  },
  {
   "cell_type": "code",
   "execution_count": 61,
   "id": "483bf1b0-3db6-48b3-8c55-721198e10432",
   "metadata": {},
   "outputs": [],
   "source": [
    "from sklearn.linear_model import LogisticRegression\n",
    "from sklearn.ensemble import RandomForestClassifier\n",
    "from lightgbm import LGBMClassifier\n",
    "\n",
    "from sklearn.pipeline import Pipeline\n",
    "from sklearn.impute import SimpleImputer\n",
    "from sklearn.compose import ColumnTransformer\n",
    "from sklearn.preprocessing import StandardScaler, OneHotEncoder"
   ]
  },
  {
   "cell_type": "code",
   "execution_count": 62,
   "id": "8bff7851-5b1f-4d4c-b729-272b7c698886",
   "metadata": {},
   "outputs": [],
   "source": [
    "hyper_parameters = {\n",
    "    \"logisticregression__logisticregression__C\": [0.1, 0.2],\n",
    "    \"randomforestclassifier__randomforestclassifier__n_estimators\": [100, 200],\n",
    "    \"breaks\": all_breaks[:5]\n",
    "}"
   ]
  },
  {
   "cell_type": "code",
   "execution_count": 63,
   "id": "5828d968-0d8e-4c96-a603-3ba4954943e4",
   "metadata": {},
   "outputs": [],
   "source": [
    "numerical_pipeline = Pipeline(steps=[\n",
    "    (\"si\", SimpleImputer(strategy=\"median\", add_indicator=True)),\n",
    "    (\"ss\", StandardScaler())\n",
    "])\n",
    "categorical_pipeline = Pipeline(steps=[\n",
    "    (\"si\", SimpleImputer(strategy=\"most_frequent\", add_indicator=True)),\n",
    "    (\"ohe\", OneHotEncoder(handle_unknown=\"ignore\"))\n",
    "])\n",
    "transformers = [\n",
    "    (\"cont\", numerical_pipeline, cont_features), \n",
    "    (\"cat\", categorical_pipeline, cat_features)]\n",
    "preprocessor = ColumnTransformer(transformers=transformers)"
   ]
  },
  {
   "cell_type": "code",
   "execution_count": 91,
   "id": "27ae05c0-1ad4-4b86-8a15-b78d89c21982",
   "metadata": {},
   "outputs": [],
   "source": [
    "lgbm = Pipeline(steps=[(\"lightgbmclassifier\", LGBMClassifier())])\n",
    "lr = Pipeline(steps = [\n",
    "    (\"pp\", preprocessor),\n",
    "    (\"logisticregression\", LogisticRegression())\n",
    "])\n",
    "rf = Pipeline(steps = [\n",
    "    (\"pp\", preprocessor),\n",
    "    (\"randomforestclassifier\", RandomForestClassifier())\n",
    "])\n",
    "base_clfs = [\n",
    "    lgbm,\n",
    "    lr,\n",
    "    rf\n",
    "]"
   ]
  },
  {
   "cell_type": "code",
   "execution_count": 92,
   "id": "8e3662ba-f282-4633-af9a-9352ec551ed8",
   "metadata": {},
   "outputs": [],
   "source": [
    "all_hyper_parameters = generate_all_combinations(hyper_parameters)"
   ]
  },
  {
   "cell_type": "code",
   "execution_count": 93,
   "id": "aa908116-2987-465b-9901-d912f4b62b04",
   "metadata": {},
   "outputs": [],
   "source": [
    "from src.models.classifiers import StackedGeneralizationClassifier"
   ]
  },
  {
   "cell_type": "code",
   "execution_count": 94,
   "id": "2b4d7b52-29de-4c50-85da-923cb04ec2d5",
   "metadata": {},
   "outputs": [
    {
     "data": {
      "application/vnd.jupyter.widget-view+json": {
       "model_id": "9e261275b9274fb787889eae719a82c2",
       "version_major": 2,
       "version_minor": 0
      },
      "text/plain": [
       "  0%|          | 0/20 [00:00<?, ?it/s]"
      ]
     },
     "metadata": {},
     "output_type": "display_data"
    },
    {
     "name": "stdout",
     "output_type": "stream",
     "text": [
      "Outer loop, each fold:\n",
      "\tNumber of 0's: ~2930 (94.18%)\n",
      "\tNumber of 1's: ~181 (5.82%)\n",
      "Inner loop, each loop:\n",
      "\tNumber of 0's: ~1465 (94.18%)\n",
      "\tNumber of 1's: ~90 (5.82%)\n"
     ]
    },
    {
     "data": {
      "text/plain": [
       "<src.models.classifiers.StackedGeneralizationClassifier at 0x17b3ab4c0>"
      ]
     },
     "execution_count": 94,
     "metadata": {},
     "output_type": "execute_result"
    }
   ],
   "source": [
    "sgclf = StackedGeneralizationClassifier(\n",
    "    base_clfs=base_clfs, \n",
    "    meta_clf=LogisticRegression(),\n",
    "    use_probas=True, \n",
    "    verbose=False\n",
    ")\n",
    "sgclf.cv_outer_loop(\n",
    "    all_hyper_parameters=all_hyper_parameters,\n",
    "    X=X_train, \n",
    "    y=y_train, \n",
    "    refit=True\n",
    ")"
   ]
  },
  {
   "cell_type": "code",
   "execution_count": 95,
   "id": "d343d79f-67c7-4bce-bd61-4fe459f72ee5",
   "metadata": {},
   "outputs": [],
   "source": [
    "y_test_pred_con, y_test_pred_cut = sgclf.predict(X_test)"
   ]
  },
  {
   "cell_type": "code",
   "execution_count": 96,
   "id": "a557d1e8-425d-4c5f-8111-540887814348",
   "metadata": {},
   "outputs": [],
   "source": [
    "from sklearn.metrics import roc_auc_score"
   ]
  },
  {
   "cell_type": "code",
   "execution_count": 97,
   "id": "a3dcd300-91a0-4a71-83eb-41f77e69f2fa",
   "metadata": {},
   "outputs": [
    {
     "data": {
      "text/plain": [
       "'Hold-out AUC of ROC, continous model: 0.9553522688502218'"
      ]
     },
     "execution_count": 97,
     "metadata": {},
     "output_type": "execute_result"
    }
   ],
   "source": [
    "(\"Hold-out AUC of ROC, continous model: \" + \n",
    "str(roc_auc_score(y_score = y_test_pred_con, y_true = y_test)))"
   ]
  },
  {
   "cell_type": "code",
   "execution_count": 98,
   "id": "77737ff6-8701-48af-a744-2b546ee87fdb",
   "metadata": {},
   "outputs": [
    {
     "data": {
      "text/plain": [
       "'Hold-out AUC of ROC, cut model: 0.9157732002729444'"
      ]
     },
     "execution_count": 98,
     "metadata": {},
     "output_type": "execute_result"
    }
   ],
   "source": [
    "(\"Hold-out AUC of ROC, cut model: \" + \n",
    "str(roc_auc_score(y_score = y_test_pred_cut, y_true = y_test)))"
   ]
  },
  {
   "cell_type": "code",
   "execution_count": 99,
   "id": "79a2460e-8229-4473-982c-31a2b0ca3485",
   "metadata": {},
   "outputs": [],
   "source": [
    "from src.visualization.visualize import plot_roc, plot_precision_recall"
   ]
  },
  {
   "cell_type": "code",
   "execution_count": 100,
   "id": "da768916-174d-4b8a-8891-24ddd97cc756",
   "metadata": {},
   "outputs": [
    {
     "data": {
      "image/png": "[encoded data removed]",
      "text/plain": [
       "<Figure size 640x480 with 1 Axes>"
      ]
     },
     "metadata": {},
     "output_type": "display_data"
    },
    {
     "data": {
      "text/plain": [
       "<ggplot: (692297539)>"
      ]
     },
     "execution_count": 100,
     "metadata": {},
     "output_type": "execute_result"
    }
   ],
   "source": [
    "plot_roc(y_test, y_test_pred_con)"
   ]
  },
  {
   "cell_type": "code",
   "execution_count": 101,
   "id": "8d4776ce-3d83-4f80-b1a7-146bb22e0fd8",
   "metadata": {},
   "outputs": [
    {
     "data": {
      "image/png": "[encoded data removed]",
      "text/plain": [
       "<Figure size 640x480 with 1 Axes>"
      ]
     },
     "metadata": {},
     "output_type": "display_data"
    },
    {
     "data": {
      "text/plain": [
       "<ggplot: (396091510)>"
      ]
     },
     "execution_count": 101,
     "metadata": {},
     "output_type": "execute_result"
    }
   ],
   "source": [
    "plot_roc(y_test, y_test_pred_cut)"
   ]
  },
  {
   "cell_type": "code",
   "execution_count": 102,
   "id": "2a3b5e18-32ec-4d13-83d0-95e23755b18d",
   "metadata": {},
   "outputs": [
    {
     "data": {
      "image/png": "[encoded data removed]",
      "text/plain": [
       "<Figure size 640x480 with 1 Axes>"
      ]
     },
     "metadata": {},
     "output_type": "display_data"
    },
    {
     "data": {
      "text/plain": [
       "<ggplot: (395963128)>"
      ]
     },
     "execution_count": 102,
     "metadata": {},
     "output_type": "execute_result"
    }
   ],
   "source": [
    "plot_precision_recall(y_test, y_test_pred_con)"
   ]
  },
  {
   "cell_type": "markdown",
   "id": "b12df210-fc5c-4543-b5e3-a5aff8f7b113",
   "metadata": {},
   "source": [
    "Plot roc curves for each classifier"
   ]
  },
  {
   "cell_type": "code",
   "execution_count": 103,
   "id": "5c15303e-d4b2-4290-819a-d3ab2af1aed2",
   "metadata": {},
   "outputs": [],
   "source": [
    "from src.visualization.visualize import plot_roc_base_clfs"
   ]
  },
  {
   "cell_type": "code",
   "execution_count": 104,
   "id": "bbfd84a0-30b3-4119-843e-8be732405c96",
   "metadata": {},
   "outputs": [],
   "source": [
    "y_test_prob_clfs = sgclf.predict_meta_features(X_test, use_probas = True)\n",
    "y_test_pred_clfs = sgclf.predict_meta_features(X_test, use_probas = False)"
   ]
  },
  {
   "cell_type": "code",
   "execution_count": 105,
   "id": "ab2833be-06f2-4ca8-a243-3a57366230ac",
   "metadata": {},
   "outputs": [],
   "source": [
    "keys = [\n",
    "    clf.get_params()[\"steps\"][-1][1].__class__.__name__ \n",
    "    for clf in sgclf.base_clfs_\n",
    "]"
   ]
  },
  {
   "cell_type": "code",
   "execution_count": 107,
   "id": "9f5c280b-2e82-499a-837e-8b036c69388a",
   "metadata": {},
   "outputs": [],
   "source": [
    "from sklearn.metrics import (\n",
    "    precision_score, \n",
    "    recall_score, \n",
    "    roc_auc_score\n",
    ")"
   ]
  },
  {
   "cell_type": "code",
   "execution_count": 108,
   "id": "6ea786cc-afa7-42e7-8c76-80cac8de6be0",
   "metadata": {},
   "outputs": [],
   "source": [
    "y_pred_meta_clf = sgclf.predict(X_test, use_probas = False)"
   ]
  },
  {
   "cell_type": "code",
   "execution_count": 109,
   "id": "62339104-653f-4524-928d-c0f39df83a26",
   "metadata": {},
   "outputs": [],
   "source": [
    "y_test_pred_clfs = np.column_stack((y_test_pred_clfs, y_pred_meta_clf))\n",
    "y_test_prob_clfs = np.column_stack((y_test_prob_clfs, y_test_pred_con))"
   ]
  },
  {
   "cell_type": "code",
   "execution_count": 113,
   "id": "21b059db-841b-438e-b2e0-46d99eb255a4",
   "metadata": {},
   "outputs": [],
   "source": [
    "from src.models.metrics import calculate_nri"
   ]
  },
  {
   "cell_type": "code",
   "execution_count": 124,
   "id": "4e07e417-5b33-4edd-a083-111246fd478b",
   "metadata": {},
   "outputs": [
    {
     "data": {
      "text/plain": [
       "array([[0., 0., 0., 0.],\n",
       "       [0., 0., 0., 0.],\n",
       "       [0., 0., 0., 0.],\n",
       "       ...,\n",
       "       [0., 0., 0., 0.],\n",
       "       [0., 0., 0., 0.],\n",
       "       [0., 0., 0., 0.]])"
      ]
     },
     "execution_count": 124,
     "metadata": {},
     "output_type": "execute_result"
    }
   ],
   "source": [
    "y_test_pred_clfs"
   ]
  },
  {
   "cell_type": "code",
   "execution_count": 194,
   "id": "29f6954f-3052-4dba-bf91-a557c671a420",
   "metadata": {},
   "outputs": [],
   "source": [
    "def compute_performance(y_prob, y_pred, y_true):\n",
    "    roc_auc = roc_auc_score(\n",
    "        y_true=y_true, \n",
    "        y_score=y_prob\n",
    "    )\n",
    "    prec = precision_score(\n",
    "        y_true=y_true, \n",
    "        y_pred=y_pred, \n",
    "        average=\"macro\"\n",
    "    )\n",
    "    rec = recall_score(\n",
    "        y_true=y_true, \n",
    "        y_pred=y_pred, \n",
    "        average=\"macro\"\n",
    "    )\n",
    "    return dict(roc_auc = roc_auc, prec = prec, rec = rec)\n",
    "\n",
    "\n",
    "def compile_performance(y_probs: pd.DataFrame, y_preds: pd.DataFrame,\n",
    "                        y_true: np.array, tc: np.array, y_cut: np.array,\n",
    "                        keys: list):\n",
    "    # Compute prec, rec, auc for all models\n",
    "    ds = [\n",
    "        compute_performance(y_prob=prob, y_pred=pred, y_true=y_true) \n",
    "        for prob, pred in zip(y_probs.T, y_preds.T)\n",
    "    ]\n",
    "    perf_df = pd.DataFrame(ds, index = keys)\n",
    "    \n",
    "    # Compute nri for meta classifier\n",
    "    nri_metrics = [\"nri\", \"nri_plus\", \"nri_minus\"]\n",
    "    nri = calculate_nri(\n",
    "        y_true=y_true, \n",
    "        y_old=tc, \n",
    "        y_new=y_cut\n",
    "    )\n",
    "    nri_df = pd.DataFrame(\n",
    "        np.zeros(perf_df.shape),\n",
    "        columns=nri_metrics    \n",
    "    ).replace({0: None})\n",
    "    nri_df.loc[len(perf_df.index) - 1, :] = np.array(nri[nri_metrics])\n",
    "    nri_df.index = perf_df.index\n",
    "\n",
    "    perf_df = pd.concat([perf_df, nri_df], axis = 1)\n",
    "\n",
    "    return perf_df"
   ]
  },
  {
   "cell_type": "code",
   "execution_count": 195,
   "id": "f3f216e8-baf6-49ac-bd65-d8074dce7c2d",
   "metadata": {},
   "outputs": [
    {
     "name": "stderr",
     "output_type": "stream",
     "text": [
      "R[write to console]: \n",
      "NRI estimation:\n",
      "\n",
      "R[write to console]: Point estimates:\n",
      "\n"
     ]
    },
    {
     "name": "stdout",
     "output_type": "stream",
     "text": [
      "                 Estimate\n",
      "NRI            0.31190720\n",
      "NRI+           0.36666667\n",
      "NRI-          -0.05475947\n",
      "Pr(Up|Case)    0.42500000\n",
      "Pr(Down|Case)  0.05833333\n",
      "Pr(Down|Ctrl)  0.06243603\n",
      "Pr(Up|Ctrl)    0.11719550\n"
     ]
    },
    {
     "data": {
      "text/html": [
       "<div>\n",
       "<style scoped>\n",
       "    .dataframe tbody tr th:only-of-type {\n",
       "        vertical-align: middle;\n",
       "    }\n",
       "\n",
       "    .dataframe tbody tr th {\n",
       "        vertical-align: top;\n",
       "    }\n",
       "\n",
       "    .dataframe thead th {\n",
       "        text-align: right;\n",
       "    }\n",
       "</style>\n",
       "<table border=\"1\" class=\"dataframe\">\n",
       "  <thead>\n",
       "    <tr style=\"text-align: right;\">\n",
       "      <th></th>\n",
       "      <th>roc_auc</th>\n",
       "      <th>prec</th>\n",
       "      <th>rec</th>\n",
       "      <th>nri</th>\n",
       "      <th>nri_plus</th>\n",
       "      <th>nri_minus</th>\n",
       "    </tr>\n",
       "  </thead>\n",
       "  <tbody>\n",
       "    <tr>\n",
       "      <th>LGBMClassifier</th>\n",
       "      <td>0.947586</td>\n",
       "      <td>0.880664</td>\n",
       "      <td>0.786805</td>\n",
       "      <td>None</td>\n",
       "      <td>None</td>\n",
       "      <td>None</td>\n",
       "    </tr>\n",
       "    <tr>\n",
       "      <th>LogisticRegression</th>\n",
       "      <td>0.956158</td>\n",
       "      <td>0.876429</td>\n",
       "      <td>0.798793</td>\n",
       "      <td>None</td>\n",
       "      <td>None</td>\n",
       "      <td>None</td>\n",
       "    </tr>\n",
       "    <tr>\n",
       "      <th>RandomForestClassifier</th>\n",
       "      <td>0.939620</td>\n",
       "      <td>0.882001</td>\n",
       "      <td>0.803216</td>\n",
       "      <td>None</td>\n",
       "      <td>None</td>\n",
       "      <td>None</td>\n",
       "    </tr>\n",
       "    <tr>\n",
       "      <th>StackedGeneralizationClassifier</th>\n",
       "      <td>0.955352</td>\n",
       "      <td>0.900741</td>\n",
       "      <td>0.808406</td>\n",
       "      <td>0.311907</td>\n",
       "      <td>0.366667</td>\n",
       "      <td>-0.054759</td>\n",
       "    </tr>\n",
       "  </tbody>\n",
       "</table>\n",
       "</div>"
      ],
      "text/plain": [
       "                                  roc_auc      prec       rec       nri  \\\n",
       "LGBMClassifier                   0.947586  0.880664  0.786805      None   \n",
       "LogisticRegression               0.956158  0.876429  0.798793      None   \n",
       "RandomForestClassifier           0.939620  0.882001  0.803216      None   \n",
       "StackedGeneralizationClassifier  0.955352  0.900741  0.808406  0.311907   \n",
       "\n",
       "                                 nri_plus nri_minus  \n",
       "LGBMClassifier                       None      None  \n",
       "LogisticRegression                   None      None  \n",
       "RandomForestClassifier               None      None  \n",
       "StackedGeneralizationClassifier  0.366667 -0.054759  "
      ]
     },
     "execution_count": 195,
     "metadata": {},
     "output_type": "execute_result"
    }
   ],
   "source": [
    "compile_performance(\n",
    "    y_preds=y_test_pred_clfs, \n",
    "    y_probs=y_test_prob_clfs, \n",
    "    y_true=y_test, \n",
    "    tc=tc_test,\n",
    "    y_cut=y_test_pred_cut,\n",
    "    keys=keys + [sgclf.__class__.__name__]\n",
    ")"
   ]
  },
  {
   "cell_type": "code",
   "execution_count": 112,
   "id": "9d7036d7-f6cf-4fda-98ed-2e890505a9a9",
   "metadata": {},
   "outputs": [
    {
     "data": {
      "image/png": "[encoded data removed]",
      "text/plain": [
       "<Figure size 640x480 with 1 Axes>"
      ]
     },
     "metadata": {},
     "output_type": "display_data"
    },
    {
     "data": {
      "text/plain": [
       "<ggplot: (396112299)>"
      ]
     },
     "execution_count": 112,
     "metadata": {},
     "output_type": "execute_result"
    }
   ],
   "source": [
    "plot_roc_base_clfs(y_test_prob_clfs, y_test, keys)"
   ]
  },
  {
   "cell_type": "code",
   "execution_count": 39,
   "id": "fb9d5171-933e-45a8-98ea-2830a5872c8d",
   "metadata": {},
   "outputs": [],
   "source": [
    "tc_test = pd.read_csv(\"./data/processed/s30d/tc_test.csv\", index_col = 0).tc"
   ]
  },
  {
   "cell_type": "code",
   "execution_count": 41,
   "id": "4b889e03-07f6-4ae2-9dfc-a238997b293c",
   "metadata": {},
   "outputs": [
    {
     "name": "stderr",
     "output_type": "stream",
     "text": [
      "R[write to console]: \n",
      "NRI estimation:\n",
      "\n",
      "R[write to console]: Point estimates:\n",
      "\n"
     ]
    },
    {
     "name": "stdout",
     "output_type": "stream",
     "text": [
      "                 Estimate\n",
      "NRI            0.34976970\n",
      "NRI+           0.42500000\n",
      "NRI-          -0.07523030\n",
      "Pr(Up|Case)    0.47500000\n",
      "Pr(Down|Case)  0.05000000\n",
      "Pr(Down|Ctrl)  0.05834186\n",
      "Pr(Up|Ctrl)    0.13357216\n"
     ]
    }
   ],
   "source": [
    "nri = calculate_nri(\n",
    "    y_true=y_test.to_numpy(), \n",
    "    y_old=tc_test.to_numpy(), \n",
    "    y_new=y_test_pred_cut\n",
    ") "
   ]
  }
 ],
 "metadata": {
  "kernelspec": {
   "display_name": "Python 3 (ipykernel)",
   "language": "python",
   "name": "python3"
  },
  "language_info": {
   "codemirror_mode": {
    "name": "ipython",
    "version": 3
   },
   "file_extension": ".py",
   "mimetype": "text/x-python",
   "name": "python",
   "nbconvert_exporter": "python",
   "pygments_lexer": "ipython3",
   "version": "3.10.0"
  }
 },
 "nbformat": 4,
 "nbformat_minor": 5
}
