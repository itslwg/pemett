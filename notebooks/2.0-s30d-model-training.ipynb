{
 "cells": [
  {
   "cell_type": "markdown",
   "id": "0c9d9d89-4af7-4dc8-b1f3-c77dddad0c36",
   "metadata": {},
   "source": [
    "# Model training and prediction - `s30d`"
   ]
  },
  {
   "cell_type": "code",
   "execution_count": 1,
   "id": "cf1fd4f7-e9ed-4c86-bf83-879e086ffb12",
   "metadata": {},
   "outputs": [],
   "source": [
    "%load_ext autoreload\n",
    "%autoreload 2"
   ]
  },
  {
   "cell_type": "code",
   "execution_count": 2,
   "id": "f08843e3-1ca8-42ec-a344-1c5f560441dd",
   "metadata": {},
   "outputs": [],
   "source": [
    "import os\n",
    "os.chdir(\"..\")"
   ]
  },
  {
   "cell_type": "code",
   "execution_count": 3,
   "id": "4918d091-6dc7-47e1-8419-8973ebbf246c",
   "metadata": {},
   "outputs": [
    {
     "data": {
      "text/plain": [
       "'/Users/ludvigwarnberggerdin/projects/ttris/pemett'"
      ]
     },
     "execution_count": 3,
     "metadata": {},
     "output_type": "execute_result"
    }
   ],
   "source": [
    "os.getcwd()"
   ]
  },
  {
   "cell_type": "code",
   "execution_count": 4,
   "id": "66d758ca-f517-4df4-8bc0-f1cbc91226ad",
   "metadata": {},
   "outputs": [],
   "source": [
    "import numpy as np\n",
    "import pandas as pd"
   ]
  },
  {
   "cell_type": "code",
   "execution_count": 85,
   "id": "cb6ed398-04d7-4bba-8693-e79e973e5487",
   "metadata": {},
   "outputs": [],
   "source": [
    "X_train = pd.read_csv(\"./data/processed/s30d/X_train.csv\", index_col = 0)\n",
    "y_train = pd.read_csv(\"./data/processed/s30d/y_train.csv\", index_col = 0).s30d\n",
    "X_test = pd.read_csv(\"./data/processed/s30d/X_test.csv\", index_col = 0)\n",
    "y_test = pd.read_csv(\"./data/processed/s30d/y_test.csv\", index_col = 0).s30d\n",
    "tc_train = pd.read_csv(\"./data/processed/s30d/tc_train.csv\", index_col = 0).tc\n",
    "tc_test = pd.read_csv(\"./data/processed/s30d/tc_test.csv\", index_col = 0).tc"
   ]
  },
  {
   "cell_type": "code",
   "execution_count": 6,
   "id": "fb610948-9c80-4507-861c-feeb3318fbb1",
   "metadata": {},
   "outputs": [
    {
     "data": {
      "text/plain": [
       "0.0    94.197074\n",
       "1.0     5.802926\n",
       "Name: s30d, dtype: float64"
      ]
     },
     "execution_count": 6,
     "metadata": {},
     "output_type": "execute_result"
    }
   ],
   "source": [
    "y_train.value_counts() / len(y_train.index) * 100"
   ]
  },
  {
   "cell_type": "code",
   "execution_count": 7,
   "id": "fe14dc61-2fe7-4188-9b39-5c4abb2f149d",
   "metadata": {},
   "outputs": [],
   "source": [
    "cont_features = [\"age\", \"hr\", \"sbp\", \"dbp\", \"spo2\", \"rr\", \"delay\"]\n",
    "cat_features = list(X_train.loc[:, ~X_train.columns.isin(cont_features)].columns)"
   ]
  },
  {
   "cell_type": "markdown",
   "id": "ce6f9e4e-ff18-4afd-bd68-28701e564246",
   "metadata": {
    "tags": []
   },
   "source": [
    "## Run hyper parameter search"
   ]
  },
  {
   "cell_type": "code",
   "execution_count": 8,
   "id": "f7e57514-909f-4bdb-83e4-6f83e4e7e423",
   "metadata": {},
   "outputs": [],
   "source": [
    "import random\n",
    "from tqdm.notebook import tqdm\n",
    "from src.models.train_model import generate_all_combinations"
   ]
  },
  {
   "cell_type": "code",
   "execution_count": 9,
   "id": "5ee3654e-7a80-4e7d-be40-7dfec004e221",
   "metadata": {},
   "outputs": [],
   "source": [
    "import itertools as it\n",
    "all_breaks = [(0, ) + x + (np.inf,) for x in it.combinations(np.arange(0.01, 1, 0.01), r=3)]"
   ]
  },
  {
   "cell_type": "code",
   "execution_count": 10,
   "id": "483bf1b0-3db6-48b3-8c55-721198e10432",
   "metadata": {},
   "outputs": [],
   "source": [
    "from sklearn.linear_model import LogisticRegression\n",
    "from sklearn.ensemble import RandomForestClassifier\n",
    "from lightgbm import LGBMClassifier\n",
    "\n",
    "from sklearn.pipeline import Pipeline\n",
    "from sklearn.impute import SimpleImputer\n",
    "from sklearn.compose import ColumnTransformer\n",
    "from sklearn.preprocessing import StandardScaler, OneHotEncoder"
   ]
  },
  {
   "cell_type": "code",
   "execution_count": 11,
   "id": "8bff7851-5b1f-4d4c-b729-272b7c698886",
   "metadata": {},
   "outputs": [],
   "source": [
    "hyper_parameters = {\n",
    "    \"logisticregression__logisticregression__C\": [0.1, 0.2],\n",
    "    \"randomforestclassifier__randomforestclassifier__n_estimators\": [100, 200],\n",
    "    \"breaks\": all_breaks[:1]\n",
    "}"
   ]
  },
  {
   "cell_type": "code",
   "execution_count": 12,
   "id": "5828d968-0d8e-4c96-a603-3ba4954943e4",
   "metadata": {},
   "outputs": [],
   "source": [
    "numerical_pipeline = Pipeline(steps=[\n",
    "    (\"si\", SimpleImputer(strategy=\"median\", add_indicator=True)),\n",
    "    (\"ss\", StandardScaler())\n",
    "])\n",
    "categorical_pipeline = Pipeline(steps=[\n",
    "    (\"si\", SimpleImputer(strategy=\"most_frequent\", add_indicator=True)),\n",
    "    (\"ohe\", OneHotEncoder(handle_unknown=\"ignore\"))\n",
    "])\n",
    "transformers = [\n",
    "    (\"cont\", numerical_pipeline, cont_features), \n",
    "    (\"cat\", categorical_pipeline, cat_features)]\n",
    "preprocessor = ColumnTransformer(transformers=transformers)"
   ]
  },
  {
   "cell_type": "code",
   "execution_count": 13,
   "id": "27ae05c0-1ad4-4b86-8a15-b78d89c21982",
   "metadata": {},
   "outputs": [],
   "source": [
    "# lgbm = Pipeline(steps=[(\"lightgbmclassifier\", LGBMClassifier())])\n",
    "lr = Pipeline(steps = [\n",
    "    (\"pp\", preprocessor),\n",
    "    (\"logisticregression\", LogisticRegression())\n",
    "])\n",
    "rf = Pipeline(steps = [\n",
    "    (\"pp\", preprocessor),\n",
    "    (\"randomforestclassifier\", RandomForestClassifier())\n",
    "])\n",
    "base_clfs = [\n",
    "    # lgbm,\n",
    "    lr,\n",
    "    rf\n",
    "]"
   ]
  },
  {
   "cell_type": "code",
   "execution_count": 14,
   "id": "8e3662ba-f282-4633-af9a-9352ec551ed8",
   "metadata": {},
   "outputs": [],
   "source": [
    "all_hyper_parameters = generate_all_combinations(hyper_parameters)"
   ]
  },
  {
   "cell_type": "code",
   "execution_count": 15,
   "id": "aa908116-2987-465b-9901-d912f4b62b04",
   "metadata": {},
   "outputs": [],
   "source": [
    "from src.models.classifiers import StackedGeneralizationClassifier"
   ]
  },
  {
   "cell_type": "code",
   "execution_count": 16,
   "id": "2b4d7b52-29de-4c50-85da-923cb04ec2d5",
   "metadata": {},
   "outputs": [
    {
     "data": {
      "application/vnd.jupyter.widget-view+json": {
       "model_id": "931f85f57f9d4ca791354d50d289b1a6",
       "version_major": 2,
       "version_minor": 0
      },
      "text/plain": [
       "  0%|          | 0/4 [00:00<?, ?it/s]"
      ]
     },
     "metadata": {},
     "output_type": "display_data"
    },
    {
     "name": "stdout",
     "output_type": "stream",
     "text": [
      "Outer loop, each fold:\n",
      "\tNumber of 0's: ~2930 (94.18%)\n",
      "\tNumber of 1's: ~181 (5.82%)\n",
      "Inner loop, each loop:\n",
      "\tNumber of 0's: ~1465 (94.18%)\n",
      "\tNumber of 1's: ~90 (5.82%)\n"
     ]
    },
    {
     "data": {
      "text/plain": [
       "<src.models.classifiers.StackedGeneralizationClassifier at 0x14c64ec50>"
      ]
     },
     "execution_count": 16,
     "metadata": {},
     "output_type": "execute_result"
    }
   ],
   "source": [
    "sgclf = StackedGeneralizationClassifier(\n",
    "    base_clfs=base_clfs, \n",
    "    meta_clf=LogisticRegression(),\n",
    "    use_probas=True, \n",
    "    verbose=False\n",
    ")\n",
    "sgclf.cv_outer_loop(\n",
    "    all_hyper_parameters=all_hyper_parameters,\n",
    "    X=X_train, \n",
    "    y=y_train, \n",
    "    refit=True\n",
    ")"
   ]
  },
  {
   "cell_type": "code",
   "execution_count": 17,
   "id": "d343d79f-67c7-4bce-bd61-4fe459f72ee5",
   "metadata": {},
   "outputs": [],
   "source": [
    "y_test_pred_con, y_test_pred_cut = sgclf.predict(X_test)"
   ]
  },
  {
   "cell_type": "code",
   "execution_count": 18,
   "id": "a557d1e8-425d-4c5f-8111-540887814348",
   "metadata": {},
   "outputs": [],
   "source": [
    "from sklearn.metrics import roc_auc_score"
   ]
  },
  {
   "cell_type": "code",
   "execution_count": 19,
   "id": "a3dcd300-91a0-4a71-83eb-41f77e69f2fa",
   "metadata": {},
   "outputs": [
    {
     "data": {
      "text/plain": [
       "'Hold-out AUC of ROC, continous model: 0.9561028659160696'"
      ]
     },
     "execution_count": 19,
     "metadata": {},
     "output_type": "execute_result"
    }
   ],
   "source": [
    "auc_test_con = roc_auc_score(y_score = y_test_pred_con, y_true = y_test)\n",
    "(\"Hold-out AUC of ROC, continous model: \" + \n",
    "str(auc_test_con))"
   ]
  },
  {
   "cell_type": "code",
   "execution_count": 20,
   "id": "77737ff6-8701-48af-a744-2b546ee87fdb",
   "metadata": {},
   "outputs": [
    {
     "data": {
      "text/plain": [
       "'Hold-out AUC of ROC, cut model: 0.9121545547594677'"
      ]
     },
     "execution_count": 20,
     "metadata": {},
     "output_type": "execute_result"
    }
   ],
   "source": [
    "auc_test_cut = roc_auc_score(y_score = y_test_pred_cut, y_true = y_test)\n",
    "(\"Hold-out AUC of ROC, cut model: \" + \n",
    "str(auc_test_cut))"
   ]
  },
  {
   "cell_type": "code",
   "execution_count": 21,
   "id": "79a2460e-8229-4473-982c-31a2b0ca3485",
   "metadata": {},
   "outputs": [],
   "source": [
    "from src.visualization.visualize import plot_roc, plot_precision_recall"
   ]
  },
  {
   "cell_type": "code",
   "execution_count": 22,
   "id": "da768916-174d-4b8a-8891-24ddd97cc756",
   "metadata": {},
   "outputs": [
    {
     "data": {
      "image/png": "[encoded data removed]",
      "text/plain": [
       "<Figure size 640x480 with 1 Axes>"
      ]
     },
     "metadata": {},
     "output_type": "display_data"
    },
    {
     "data": {
      "text/plain": [
       "<ggplot: (352146423)>"
      ]
     },
     "execution_count": 22,
     "metadata": {},
     "output_type": "execute_result"
    }
   ],
   "source": [
    "plot_roc(y_test, y_test_pred_con)"
   ]
  },
  {
   "cell_type": "code",
   "execution_count": 23,
   "id": "8d4776ce-3d83-4f80-b1a7-146bb22e0fd8",
   "metadata": {},
   "outputs": [
    {
     "data": {
      "image/png": "[encoded data removed]",
      "text/plain": [
       "<Figure size 640x480 with 1 Axes>"
      ]
     },
     "metadata": {},
     "output_type": "display_data"
    },
    {
     "data": {
      "text/plain": [
       "<ggplot: (369125181)>"
      ]
     },
     "execution_count": 23,
     "metadata": {},
     "output_type": "execute_result"
    }
   ],
   "source": [
    "plot_roc(y_test, y_test_pred_cut)"
   ]
  },
  {
   "cell_type": "code",
   "execution_count": 24,
   "id": "2a3b5e18-32ec-4d13-83d0-95e23755b18d",
   "metadata": {},
   "outputs": [
    {
     "data": {
      "image/png": "[encoded data removed]",
      "text/plain": [
       "<Figure size 640x480 with 1 Axes>"
      ]
     },
     "metadata": {},
     "output_type": "display_data"
    },
    {
     "data": {
      "text/plain": [
       "<ggplot: (369170069)>"
      ]
     },
     "execution_count": 24,
     "metadata": {},
     "output_type": "execute_result"
    }
   ],
   "source": [
    "plot_precision_recall(y_test, y_test_pred_con)"
   ]
  },
  {
   "cell_type": "markdown",
   "id": "b12df210-fc5c-4543-b5e3-a5aff8f7b113",
   "metadata": {},
   "source": [
    "Plot roc curves for each classifier"
   ]
  },
  {
   "cell_type": "code",
   "execution_count": 25,
   "id": "5c15303e-d4b2-4290-819a-d3ab2af1aed2",
   "metadata": {},
   "outputs": [],
   "source": [
    "from src.visualization.visualize import plot_roc_base_clfs"
   ]
  },
  {
   "cell_type": "code",
   "execution_count": 26,
   "id": "bbfd84a0-30b3-4119-843e-8be732405c96",
   "metadata": {},
   "outputs": [],
   "source": [
    "y_test_prob_clfs = sgclf.predict_meta_features(X_test, use_probas = True)\n",
    "y_test_pred_clfs = sgclf.predict_meta_features(X_test, use_probas = False)"
   ]
  },
  {
   "cell_type": "code",
   "execution_count": 27,
   "id": "ab2833be-06f2-4ca8-a243-3a57366230ac",
   "metadata": {},
   "outputs": [],
   "source": [
    "keys = [\n",
    "    clf.get_params()[\"steps\"][-1][1].__class__.__name__ \n",
    "    for clf in sgclf.base_clfs_\n",
    "]"
   ]
  },
  {
   "cell_type": "code",
   "execution_count": 28,
   "id": "9f5c280b-2e82-499a-837e-8b036c69388a",
   "metadata": {},
   "outputs": [],
   "source": [
    "from sklearn.metrics import (\n",
    "    precision_score, \n",
    "    recall_score, \n",
    "    roc_auc_score\n",
    ")"
   ]
  },
  {
   "cell_type": "code",
   "execution_count": 29,
   "id": "6ea786cc-afa7-42e7-8c76-80cac8de6be0",
   "metadata": {},
   "outputs": [],
   "source": [
    "y_pred_meta_clf = sgclf.predict(X_test, use_probas = False)"
   ]
  },
  {
   "cell_type": "code",
   "execution_count": 30,
   "id": "62339104-653f-4524-928d-c0f39df83a26",
   "metadata": {},
   "outputs": [],
   "source": [
    "y_test_pred_clfs = np.column_stack((y_test_pred_clfs, y_pred_meta_clf))\n",
    "y_test_prob_clfs = np.column_stack((y_test_prob_clfs, y_test_pred_con))"
   ]
  },
  {
   "cell_type": "code",
   "execution_count": 31,
   "id": "21b059db-841b-438e-b2e0-46d99eb255a4",
   "metadata": {},
   "outputs": [
    {
     "name": "stderr",
     "output_type": "stream",
     "text": [
      "During startup - Warning messages:\n",
      "1: Setting LC_COLLATE failed, using \"C\" \n",
      "2: Setting LC_TIME failed, using \"C\" \n",
      "3: Setting LC_MESSAGES failed, using \"C\" \n",
      "4: Setting LC_MONETARY failed, using \"C\" \n"
     ]
    }
   ],
   "source": [
    "from src.models.metrics import calculate_nri"
   ]
  },
  {
   "cell_type": "code",
   "execution_count": 34,
   "id": "9d7036d7-f6cf-4fda-98ed-2e890505a9a9",
   "metadata": {},
   "outputs": [
    {
     "data": {
      "image/png": "[encoded data removed]",
      "text/plain": [
       "<Figure size 640x480 with 1 Axes>"
      ]
     },
     "metadata": {},
     "output_type": "display_data"
    },
    {
     "data": {
      "text/plain": [
       "<ggplot: (382894363)>"
      ]
     },
     "execution_count": 34,
     "metadata": {},
     "output_type": "execute_result"
    }
   ],
   "source": [
    "plot_roc_base_clfs(y_test_prob_clfs, y_test, keys)"
   ]
  },
  {
   "cell_type": "code",
   "execution_count": 35,
   "id": "8c6a1b32-4730-4c5a-ab08-5fb0ca59a4a8",
   "metadata": {},
   "outputs": [],
   "source": [
    "from sklearn.utils import resample\n",
    "from joblib import Parallel, delayed"
   ]
  },
  {
   "cell_type": "code",
   "execution_count": 81,
   "id": "ab8a3092-50a7-473a-8873-bf9f3ece144d",
   "metadata": {},
   "outputs": [],
   "source": [
    "def compute_performance(y_prob, y_pred, y_true, return_type: object = dict):\n",
    "    roc_auc = roc_auc_score(\n",
    "        y_true=y_true, \n",
    "        y_score=y_prob\n",
    "    )\n",
    "    prec = precision_score(\n",
    "        y_true=y_true, \n",
    "        y_pred=y_pred, \n",
    "        average=\"macro\"\n",
    "    )\n",
    "    rec = recall_score(\n",
    "        y_true=y_true, \n",
    "        y_pred=y_pred, \n",
    "        average=\"macro\"\n",
    "    )\n",
    "    r = (\n",
    "        dict(roc_auc = roc_auc, prec = prec, rec = rec) if return_type == dict\n",
    "        else pd.Series([roc_auc, prec, rec], index =[\"roc_auc\", \"prec\", \"rec\"])\n",
    "    )\n",
    "    return r\n",
    "\n",
    "def compute_metrics(X_train: pd.DataFrame, y_train: pd.Series, \n",
    "                    X_test: pd.DataFrame, y_test: pd.Series,\n",
    "                    tc: pd.Series, keys: list):\n",
    "    \"\"\"Computes relevant performance metrics.\n",
    "    \n",
    "    ROC, Precision, Recall, and NRI for the meta classifier.\n",
    "    \"\"\"\n",
    "    # Fit classifier\n",
    "    sgclf = StackedGeneralizationClassifier(\n",
    "        base_clfs=base_clfs, \n",
    "        meta_clf=LogisticRegression(),\n",
    "        use_probas=True, \n",
    "        verbose=False\n",
    "    )\n",
    "    sgclf.cv_outer_loop(\n",
    "        all_hyper_parameters=all_hyper_parameters,\n",
    "        X=X_train, \n",
    "        y=y_train,\n",
    "        refit=True\n",
    "    )\n",
    "    # Predictions by the meta classifier\n",
    "    y_test_prob_con, y_test_prob_cut = sgclf.predict(X_test)\n",
    "    y_test_pred_meta_clf = sgclf.predict(X_test, use_probas = False)\n",
    "    \n",
    "    # Predictions for each base classifier\n",
    "    y_test_prob_clfs = sgclf.predict_meta_features(X_test, use_probas = True)\n",
    "    y_test_pred_clfs = sgclf.predict_meta_features(X_test, use_probas = False) \n",
    "\n",
    "    # Merge the two\n",
    "    y_preds = np.column_stack((y_test_pred_clfs, y_test_pred_meta_clf))\n",
    "    y_probs = np.column_stack((y_test_prob_clfs, y_test_prob_con))\n",
    "    \n",
    "    ds = {key: compute_performance(y_prob=prob, y_pred=pred, y_true=y_test)\n",
    "         for prob, pred, key in zip(y_probs.T, y_preds.T, keys)\n",
    "    }\n",
    "    ## Compute nri for the meta classifier\n",
    "    nri_metrics = [\"nri\", \"nri_plus\", \"nri_minus\"]\n",
    "    nri = calculate_nri(\n",
    "        y_true=y_test, \n",
    "        y_old=tc,\n",
    "        y_new=y_test_prob_cut\n",
    "    )\n",
    "    ds[keys[-1]] = {**ds[keys[-1]], **{m: nri[m] for m in nri_metrics}}\n",
    "    \n",
    "    return ds\n",
    "\n",
    "\n",
    "def boot_compute_metrics(X: pd.DataFrame, y: pd.Series, \n",
    "                         training_size: int, keys: list):\n",
    "    \"\"\"Helper to refactor compute_metrics.\"\"\"\n",
    "    # Prepare training and test sets\n",
    "    X_train = resample(X, n_samples=training_size)\n",
    "    y_train = y.loc[X_train.index]\n",
    "    X_test = X.loc[~X.index.isin(X_train.index), :]\n",
    "    y_test = y.loc[X_test.index]\n",
    "\n",
    "    return compute_metrics(\n",
    "        X_train=X_train,\n",
    "        y_train=y_train, \n",
    "        X_test=X_test, \n",
    "        y_test=y_test, \n",
    "        keys=keys\n",
    "    )\n",
    "\n",
    "\n",
    "def bootstrap(X: pd.DataFrame, y: pd.Series, tc, keys: list, N: int = 5,\n",
    "              train_size: float = 0.8, n_jobs: int = 2):\n",
    "    \"\"\"Bootstraps statistics\n",
    "    \n",
    "    Parallelized computation of bootstrap performance estimates.\n",
    "    \n",
    "    Args:\n",
    "        X: Features.\n",
    "        y: Targets.\n",
    "        N: Number of bootstrap samples.\n",
    "        train_size: Proportion of samples in the training sample.\n",
    "        n_jobs: Number of parallel processes.\n",
    "        keys: Classifier keys.\n",
    "        \n",
    "    Returns:\n",
    "        List of estimates from each bootstrap sample.\n",
    "    \"\"\"\n",
    "    # Numbef of samples in training samples\n",
    "    training_size = int(len(X.index) * train_size)\n",
    "    return Parallel(n_jobs=n_jobs)(delayed(boot_compute_metrics)(X, y, tc, training_size, keys) for i in tqdm(range(N)))\n",
    "\n",
    "\n",
    "def compute_bootstrap_ci(point_estimate, stats):\n",
    "    \"\"\"Computes confidence interval.\n",
    "    \n",
    "    Uses the empirical bootstrap.\n",
    "    Source:\n",
    "        https://ocw.mit.edu/courses/mathematics/18-05-introduction-to-probability-and-statistics-spring-2014/readings/MIT18_05S14_Reading24.pdf\n",
    "        \n",
    "    Args:\n",
    "        point_estimate: Point estimate from our sample.\n",
    "        stats: Estimates from each bootstrap sample.\n",
    "        \n",
    "    Returns:\n",
    "        Tuple of lower and upper bound of confidence interval.\n",
    "    \"\"\"\n",
    "    bs_statistics = np.sort(stats)\n",
    "    delta_star = bs_statistics - point_estimate\n",
    "    d1 = np.quantile(delta_star, 0.1)\n",
    "    d2 = np.quantile(delta_star, 0.9)\n",
    "    ub = point_estimate - d1\n",
    "    lb = point_estimate - d2\n",
    "    \n",
    "    return lb, ub"
   ]
  },
  {
   "cell_type": "code",
   "execution_count": 82,
   "id": "9f1cfd47-4dea-4ba1-bcf3-b189df679d45",
   "metadata": {},
   "outputs": [],
   "source": [
    "def compile_performance(y_probs: pd.DataFrame, y_preds: pd.DataFrame,\n",
    "                        y_true: np.array, tc: np.array, y_cut: np.array,\n",
    "                        keys: list):\n",
    "    # Compute prec, rec, auc for all models\n",
    "    ds = [\n",
    "        compute_performance(y_prob=prob, y_pred=pred, y_true=y_true) \n",
    "        for prob, pred in zip(y_probs.T, y_preds.T)\n",
    "    ]\n",
    "    perf_df = pd.DataFrame(ds, index = keys)\n",
    "    \n",
    "    # Compute nri for meta classifier\n",
    "    nri_metrics = [\"nri\", \"nri_plus\", \"nri_minus\"]\n",
    "    nri = calculate_nri(\n",
    "        y_true=y_true, \n",
    "        y_old=tc, \n",
    "        y_new=y_cut\n",
    "    )\n",
    "    nri_df = pd.DataFrame(\n",
    "        np.zeros(perf_df.shape),\n",
    "        columns=nri_metrics    \n",
    "    ).replace({0: None})\n",
    "    nri_df.loc[len(perf_df.index) - 1, :] = np.array(nri[nri_metrics])\n",
    "    nri_df.index = perf_df.index\n",
    "\n",
    "    perf_df = pd.concat([perf_df, nri_df], axis = 1)\n",
    "\n",
    "    return perf_df"
   ]
  },
  {
   "cell_type": "code",
   "execution_count": 86,
   "id": "34fd12e6-6fe2-4186-bdfd-d75f6781e69e",
   "metadata": {},
   "outputs": [
    {
     "ename": "TypeError",
     "evalue": "'list' object cannot be interpreted as an integer",
     "output_type": "error",
     "traceback": [
      "\u001b[0;31m---------------------------------------------------------------------------\u001b[0m",
      "\u001b[0;31mTypeError\u001b[0m                                 Traceback (most recent call last)",
      "\u001b[0;32m/var/folders/4r/pj221_cx4fsc736mmyv_9lnr0000gn/T/ipykernel_4384/654717585.py\u001b[0m in \u001b[0;36m<module>\u001b[0;34m\u001b[0m\n\u001b[0;32m----> 1\u001b[0;31m \u001b[0mstats\u001b[0m \u001b[0;34m=\u001b[0m \u001b[0mbootstrap\u001b[0m\u001b[0;34m(\u001b[0m\u001b[0mX_train\u001b[0m\u001b[0;34m,\u001b[0m \u001b[0my_train\u001b[0m\u001b[0;34m,\u001b[0m \u001b[0mtc_train\u001b[0m\u001b[0;34m,\u001b[0m \u001b[0mkeys\u001b[0m \u001b[0;34m+\u001b[0m \u001b[0;34m[\u001b[0m\u001b[0msgclf\u001b[0m\u001b[0;34m.\u001b[0m\u001b[0m__class__\u001b[0m\u001b[0;34m.\u001b[0m\u001b[0m__name__\u001b[0m\u001b[0;34m]\u001b[0m\u001b[0;34m)\u001b[0m\u001b[0;34m\u001b[0m\u001b[0;34m\u001b[0m\u001b[0m\n\u001b[0m",
      "\u001b[0;32m/var/folders/4r/pj221_cx4fsc736mmyv_9lnr0000gn/T/ipykernel_4384/2299818591.py\u001b[0m in \u001b[0;36mbootstrap\u001b[0;34m(X, y, keys, N, train_size, n_jobs)\u001b[0m\n\u001b[1;32m    104\u001b[0m     \u001b[0;31m# Numbef of samples in training samples\u001b[0m\u001b[0;34m\u001b[0m\u001b[0;34m\u001b[0m\u001b[0m\n\u001b[1;32m    105\u001b[0m     \u001b[0mtraining_size\u001b[0m \u001b[0;34m=\u001b[0m \u001b[0mint\u001b[0m\u001b[0;34m(\u001b[0m\u001b[0mlen\u001b[0m\u001b[0;34m(\u001b[0m\u001b[0mX\u001b[0m\u001b[0;34m.\u001b[0m\u001b[0mindex\u001b[0m\u001b[0;34m)\u001b[0m \u001b[0;34m*\u001b[0m \u001b[0mtrain_size\u001b[0m\u001b[0;34m)\u001b[0m\u001b[0;34m\u001b[0m\u001b[0;34m\u001b[0m\u001b[0m\n\u001b[0;32m--> 106\u001b[0;31m     \u001b[0;32mreturn\u001b[0m \u001b[0mParallel\u001b[0m\u001b[0;34m(\u001b[0m\u001b[0mn_jobs\u001b[0m\u001b[0;34m=\u001b[0m\u001b[0mn_jobs\u001b[0m\u001b[0;34m)\u001b[0m\u001b[0;34m(\u001b[0m\u001b[0mdelayed\u001b[0m\u001b[0;34m(\u001b[0m\u001b[0mboot_compute_metrics\u001b[0m\u001b[0;34m)\u001b[0m\u001b[0;34m(\u001b[0m\u001b[0mX\u001b[0m\u001b[0;34m,\u001b[0m \u001b[0my\u001b[0m\u001b[0;34m,\u001b[0m \u001b[0mtraining_size\u001b[0m\u001b[0;34m,\u001b[0m \u001b[0mkeys\u001b[0m\u001b[0;34m)\u001b[0m \u001b[0;32mfor\u001b[0m \u001b[0mi\u001b[0m \u001b[0;32min\u001b[0m \u001b[0mtqdm\u001b[0m\u001b[0;34m(\u001b[0m\u001b[0mrange\u001b[0m\u001b[0;34m(\u001b[0m\u001b[0mN\u001b[0m\u001b[0;34m)\u001b[0m\u001b[0;34m)\u001b[0m\u001b[0;34m)\u001b[0m\u001b[0;34m\u001b[0m\u001b[0;34m\u001b[0m\u001b[0m\n\u001b[0m\u001b[1;32m    107\u001b[0m \u001b[0;34m\u001b[0m\u001b[0m\n\u001b[1;32m    108\u001b[0m \u001b[0;34m\u001b[0m\u001b[0m\n",
      "\u001b[0;31mTypeError\u001b[0m: 'list' object cannot be interpreted as an integer"
     ]
    }
   ],
   "source": [
    "stats = bootstrap(X_train, y_train, tc_train, keys + [sgclf.__class__.__name__])"
   ]
  },
  {
   "cell_type": "code",
   "execution_count": 66,
   "id": "6aa3bd5f-68ae-429e-8ae4-23c62e9d4a2f",
   "metadata": {},
   "outputs": [
    {
     "data": {
      "text/plain": [
       "[{'LogisticRegression': {'roc_auc': 0.9643291029940362,\n",
       "   'prec': 0.895252484296159,\n",
       "   'rec': 0.808303128576879},\n",
       "  'RandomForestClassifier': {'roc_auc': 0.9535357135685456,\n",
       "   'prec': 0.8846306202718903,\n",
       "   'rec': 0.7754083917347738},\n",
       "  'StackedGeneralizationClassifier': {'roc_auc': 0.9642864314544468,\n",
       "   'prec': 0.9041245476101336,\n",
       "   'rec': 0.7763622261491194}},\n",
       " {'LogisticRegression': {'roc_auc': 0.9612312344148272,\n",
       "   'prec': 0.8995547703637552,\n",
       "   'rec': 0.7845869842777007},\n",
       "  'RandomForestClassifier': {'roc_auc': 0.9335604946693524,\n",
       "   'prec': 0.8767163599706975,\n",
       "   'rec': 0.777325042751195},\n",
       "  'StackedGeneralizationClassifier': {'roc_auc': 0.9578664503371698,\n",
       "   'prec': 0.8919566213228705,\n",
       "   'rec': 0.7721292169271685}},\n",
       " {'LogisticRegression': {'roc_auc': 0.956794425087108,\n",
       "   'prec': 0.8752287092481703,\n",
       "   'rec': 0.772486643437863},\n",
       "  'RandomForestClassifier': {'roc_auc': 0.9523042973286876,\n",
       "   'prec': 0.87858631009972,\n",
       "   'rec': 0.7726771196283392},\n",
       "  'StackedGeneralizationClassifier': {'roc_auc': 0.961760743321719,\n",
       "   'prec': 0.8878344381872203,\n",
       "   'rec': 0.7492392566782811}},\n",
       " {'LogisticRegression': {'roc_auc': 0.9529687255821223,\n",
       "   'prec': 0.8614357017028773,\n",
       "   'rec': 0.800596284575715},\n",
       "  'RandomForestClassifier': {'roc_auc': 0.9341327746522894,\n",
       "   'prec': 0.871935405788582,\n",
       "   'rec': 0.7889025629004531},\n",
       "  'StackedGeneralizationClassifier': {'roc_auc': 0.9470840170339117,\n",
       "   'prec': 0.8784035849231369,\n",
       "   'rec': 0.789288365369589}},\n",
       " {'LogisticRegression': {'roc_auc': 0.9677432827509397,\n",
       "   'prec': 0.8882813514719252,\n",
       "   'rec': 0.8190739709499281},\n",
       "  'RandomForestClassifier': {'roc_auc': 0.965701424660077,\n",
       "   'prec': 0.8673844736984668,\n",
       "   'rec': 0.8147036985474965},\n",
       "  'StackedGeneralizationClassifier': {'roc_auc': 0.9714743143533343,\n",
       "   'prec': 0.8785358709936075,\n",
       "   'rec': 0.8154693953315699}}]"
      ]
     },
     "execution_count": 66,
     "metadata": {},
     "output_type": "execute_result"
    }
   ],
   "source": [
    "stats"
   ]
  },
  {
   "cell_type": "code",
   "execution_count": 71,
   "id": "bc019ee5-be10-42ea-8dfe-7ae7a17f403d",
   "metadata": {},
   "outputs": [],
   "source": [
    "# Set bootstrap estimates as data frame\n",
    "stats_df = pd.concat([pd.DataFrame.from_dict(d, orient=\"index\").stack().to_frame() for d in stats], axis = 1)\n",
    "stats_df.values.sort()\n",
    "# Set point estimates as data frame\n",
    "point_estimates = pd.DataFrame.from_dict({\n",
    "    k: compute_performance(y_prob=prob, y_pred=pred, y_true=y_test) \n",
    "    for prob, pred, k in zip(y_test_prob_clfs.T, y_test_pred_clfs.T, keys + [sgclf.__class__.__name__])\n",
    "}, orient = \"index\").stack().to_frame()\n",
    "# Compute quantiles for each metric\n",
    "d1 = (stats_df - point_estimates).apply(np.quantile, q = 0.1, axis = 1)\n",
    "d2 = (stats_df - point_estimates).apply(np.quantile, q = 0.9, axis = 1)\n",
    "# Compute upper bounds and lower bounds\n",
    "ub = point_estimates - d1.to_frame()\n",
    "lb = point_estimates - d2.to_frame()"
   ]
  },
  {
   "cell_type": "code",
   "execution_count": 76,
   "id": "837f161d-f7b1-4c02-b294-5bc9fc9aa497",
   "metadata": {},
   "outputs": [
    {
     "data": {
      "text/html": [
       "<div>\n",
       "<style scoped>\n",
       "    .dataframe tbody tr th:only-of-type {\n",
       "        vertical-align: middle;\n",
       "    }\n",
       "\n",
       "    .dataframe tbody tr th {\n",
       "        vertical-align: top;\n",
       "    }\n",
       "\n",
       "    .dataframe thead th {\n",
       "        text-align: right;\n",
       "    }\n",
       "</style>\n",
       "<table border=\"1\" class=\"dataframe\">\n",
       "  <thead>\n",
       "    <tr style=\"text-align: right;\">\n",
       "      <th></th>\n",
       "      <th></th>\n",
       "      <th>0</th>\n",
       "    </tr>\n",
       "  </thead>\n",
       "  <tbody>\n",
       "    <tr>\n",
       "      <th rowspan=\"3\" valign=\"top\">LogisticRegression</th>\n",
       "      <th>roc_auc</th>\n",
       "      <td>0.957818</td>\n",
       "    </tr>\n",
       "    <tr>\n",
       "      <th>prec</th>\n",
       "      <td>0.885905</td>\n",
       "    </tr>\n",
       "    <tr>\n",
       "      <th>rec</th>\n",
       "      <td>0.820259</td>\n",
       "    </tr>\n",
       "    <tr>\n",
       "      <th rowspan=\"3\" valign=\"top\">RandomForestClassifier</th>\n",
       "      <th>roc_auc</th>\n",
       "      <td>0.951310</td>\n",
       "    </tr>\n",
       "    <tr>\n",
       "      <th>prec</th>\n",
       "      <td>0.880383</td>\n",
       "    </tr>\n",
       "    <tr>\n",
       "      <th>rec</th>\n",
       "      <td>0.790995</td>\n",
       "    </tr>\n",
       "    <tr>\n",
       "      <th rowspan=\"3\" valign=\"top\">StackedGeneralizationClassifier</th>\n",
       "      <th>roc_auc</th>\n",
       "      <td>0.960809</td>\n",
       "    </tr>\n",
       "    <tr>\n",
       "      <th>prec</th>\n",
       "      <td>0.920580</td>\n",
       "    </tr>\n",
       "    <tr>\n",
       "      <th>rec</th>\n",
       "      <td>0.850083</td>\n",
       "    </tr>\n",
       "  </tbody>\n",
       "</table>\n",
       "</div>"
      ],
      "text/plain": [
       "                                                0\n",
       "LogisticRegression              roc_auc  0.957818\n",
       "                                prec     0.885905\n",
       "                                rec      0.820259\n",
       "RandomForestClassifier          roc_auc  0.951310\n",
       "                                prec     0.880383\n",
       "                                rec      0.790995\n",
       "StackedGeneralizationClassifier roc_auc  0.960809\n",
       "                                prec     0.920580\n",
       "                                rec      0.850083"
      ]
     },
     "execution_count": 76,
     "metadata": {},
     "output_type": "execute_result"
    }
   ],
   "source": [
    "ub"
   ]
  },
  {
   "cell_type": "code",
   "execution_count": null,
   "id": "d493e79f-ce89-4cac-a5cf-05574079aa7b",
   "metadata": {},
   "outputs": [
    {
     "name": "stdout",
     "output_type": "stream",
     "text": [
      "  0%|          | 0/4 [00:00<?, ?it/s]\n",
      "Outer loop, each fold:\n",
      "\tNumber of 0's: ~2355 (94.65%)\n",
      "\tNumber of 1's: ~133 (5.35%)\n",
      "Inner loop, each loop:\n",
      "\tNumber of 0's: ~1178 (94.65%)\n",
      "\tNumber of 1's: ~66 (5.35%)\n",
      "  0%|          | 0/4 [00:00<?, ?it/s]\n",
      "Outer loop, each fold:\n",
      "\tNumber of 0's: ~2341 (94.09%)\n",
      "\tNumber of 1's: ~147 (5.91%)\n",
      "Inner loop, each loop:\n",
      "\tNumber of 0's: ~1170 (94.09%)\n",
      "\tNumber of 1's: ~74 (5.91%)\n",
      "  0%|          | 0/4 [00:00<?, ?it/s]\n",
      "Outer loop, each fold:\n",
      "\tNumber of 0's: ~2341 (94.09%)\n",
      "\tNumber of 1's: ~147 (5.91%)\n",
      "Inner loop, each loop:\n",
      "\tNumber of 0's: ~1170 (94.09%)\n",
      "\tNumber of 1's: ~74 (5.91%)\n",
      "  0%|          | 0/4 [00:00<?, ?it/s]\n",
      "Outer loop, each fold:\n",
      "\tNumber of 0's: ~2354 (94.61%)\n",
      "\tNumber of 1's: ~134 (5.39%)\n",
      "Inner loop, each loop:\n",
      "\tNumber of 0's: ~1177 (94.61%)\n",
      "\tNumber of 1's: ~67 (5.39%)\n",
      "  0%|          | 0/4 [00:00<?, ?it/s]\n",
      "Outer loop, each fold:\n",
      "\tNumber of 0's: ~2346 (94.29%)\n",
      "\tNumber of 1's: ~142 (5.71%)\n",
      "Inner loop, each loop:\n",
      "\tNumber of 0's: ~1173 (94.29%)\n",
      "\tNumber of 1's: ~71 (5.71%)\n"
     ]
    }
   ],
   "source": [
    "compile_performance(\n",
    "    y_preds=y_test_pred_clfs, \n",
    "    y_probs=y_test_prob_clfs, \n",
    "    y_true=y_test, \n",
    "    tc=tc_test,\n",
    "    y_cut=y_test_pred_cut,\n",
    "    keys=keys + [sgclf.__class__.__name__]\n",
    ")"
   ]
  }
 ],
 "metadata": {
  "kernelspec": {
   "display_name": "Python 3 (ipykernel)",
   "language": "python",
   "name": "python3"
  },
  "language_info": {
   "codemirror_mode": {
    "name": "ipython",
    "version": 3
   },
   "file_extension": ".py",
   "mimetype": "text/x-python",
   "name": "python",
   "nbconvert_exporter": "python",
   "pygments_lexer": "ipython3",
   "version": "3.10.0"
  }
 },
 "nbformat": 4,
 "nbformat_minor": 5
}
