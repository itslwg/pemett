{
 "cells": [
  {
   "cell_type": "markdown",
   "id": "0c9d9d89-4af7-4dc8-b1f3-c77dddad0c36",
   "metadata": {},
   "source": [
    "# Model training and prediction - `composite`"
   ]
  },
  {
   "cell_type": "code",
   "execution_count": 1,
   "id": "cf1fd4f7-e9ed-4c86-bf83-879e086ffb12",
   "metadata": {},
   "outputs": [],
   "source": [
    "%load_ext autoreload\n",
    "%autoreload 2"
   ]
  },
  {
   "cell_type": "code",
   "execution_count": 2,
   "id": "f08843e3-1ca8-42ec-a344-1c5f560441dd",
   "metadata": {},
   "outputs": [],
   "source": [
    "import os\n",
    "os.chdir(\"..\")"
   ]
  },
  {
   "cell_type": "code",
   "execution_count": 3,
   "id": "4918d091-6dc7-47e1-8419-8973ebbf246c",
   "metadata": {},
   "outputs": [
    {
     "data": {
      "text/plain": [
       "'/Users/ludvigwarnberggerdin/projects/ttris/pemett'"
      ]
     },
     "execution_count": 3,
     "metadata": {},
     "output_type": "execute_result"
    }
   ],
   "source": [
    "os.getcwd()"
   ]
  },
  {
   "cell_type": "code",
   "execution_count": 4,
   "id": "66d758ca-f517-4df4-8bc0-f1cbc91226ad",
   "metadata": {},
   "outputs": [],
   "source": [
    "import pandas as pd"
   ]
  },
  {
   "cell_type": "code",
   "execution_count": 5,
   "id": "cb6ed398-04d7-4bba-8693-e79e973e5487",
   "metadata": {},
   "outputs": [],
   "source": [
    "X_train = pd.read_csv(\"./data/processed/composite/X_train.csv\", index_col = 0)\n",
    "y_train = pd.read_csv(\"./data/processed/composite/y_train.csv\", index_col = 0).composite\n",
    "X_test = pd.read_csv(\"./data/processed/composite/X_test.csv\", index_col = 0)\n",
    "y_test = pd.read_csv(\"./data/processed/composite/y_test.csv\", index_col = 0).composite\n",
    "tc_test = pd.read_csv(\"./data/processed/s30d/tc_test.csv\", index_col = 0).tc"
   ]
  },
  {
   "cell_type": "code",
   "execution_count": 6,
   "id": "fb610948-9c80-4507-861c-feeb3318fbb1",
   "metadata": {},
   "outputs": [
    {
     "data": {
      "text/plain": [
       "0    98.167497\n",
       "1     1.832503\n",
       "Name: composite, dtype: float64"
      ]
     },
     "execution_count": 6,
     "metadata": {},
     "output_type": "execute_result"
    }
   ],
   "source": [
    "y_train.value_counts() / len(y_train.index) * 100"
   ]
  },
  {
   "cell_type": "code",
   "execution_count": 7,
   "id": "fe14dc61-2fe7-4188-9b39-5c4abb2f149d",
   "metadata": {},
   "outputs": [],
   "source": [
    "cont_features = [\"age\", \"hr\", \"sbp\", \"dbp\", \"spo2\", \"rr\", \"delay\"]\n",
    "cat_features = list(X_train.loc[:, ~X_train.columns.isin(cont_features)].columns)"
   ]
  },
  {
   "cell_type": "markdown",
   "id": "f3e94cd0-2a50-4681-b2a2-4966c046e208",
   "metadata": {
    "tags": []
   },
   "source": [
    "## Run hyper parameter search"
   ]
  },
  {
   "cell_type": "code",
   "execution_count": 8,
   "id": "a56734a4-2caf-4c60-993e-69e2ffbeccc7",
   "metadata": {},
   "outputs": [],
   "source": [
    "import random\n",
    "import numpy as np\n",
    "from tqdm.notebook import tqdm\n",
    "from src.models.train_model import generate_all_combinations"
   ]
  },
  {
   "cell_type": "code",
   "execution_count": 9,
   "id": "7518a320-09fc-4069-b07f-91b8f463ee2e",
   "metadata": {},
   "outputs": [],
   "source": [
    "import itertools as it\n",
    "all_breaks = [(0, ) + x + (np.inf,) for x in it.combinations(np.arange(0.01, 1, 0.01), r=3)]"
   ]
  },
  {
   "cell_type": "code",
   "execution_count": 10,
   "id": "5cc252c9-1de1-4fbc-83db-b274a28c29e7",
   "metadata": {},
   "outputs": [],
   "source": [
    "from sklearn.linear_model import LogisticRegression\n",
    "from sklearn.ensemble import RandomForestClassifier\n",
    "\n",
    "from sklearn.pipeline import Pipeline\n",
    "from sklearn.impute import SimpleImputer\n",
    "from sklearn.compose import ColumnTransformer\n",
    "from sklearn.preprocessing import StandardScaler, OneHotEncoder"
   ]
  },
  {
   "cell_type": "code",
   "execution_count": 11,
   "id": "178a9eed-dddf-4b16-abb9-d58959521821",
   "metadata": {},
   "outputs": [],
   "source": [
    "hyper_parameters = {\n",
    "    \"logisticregression__logisticregression__C\": [0.1, 0.2],\n",
    "    \"randomforestclassifier__randomforestclassifier__n_estimators\": [100, 200],\n",
    "    \"breaks\": all_breaks[:1]\n",
    "}"
   ]
  },
  {
   "cell_type": "code",
   "execution_count": 12,
   "id": "9b656cab-f02b-4151-9fd2-549490762f95",
   "metadata": {},
   "outputs": [],
   "source": [
    "numerical_pipeline = Pipeline(steps=[\n",
    "    (\"si\", SimpleImputer(strategy=\"median\", add_indicator=True)),\n",
    "    (\"ss\", StandardScaler())\n",
    "])\n",
    "categorical_pipeline = Pipeline(steps=[\n",
    "    (\"si\", SimpleImputer(strategy=\"most_frequent\", add_indicator=True)),\n",
    "    (\"ohe\", OneHotEncoder(handle_unknown=\"ignore\"))\n",
    "])\n",
    "transformers = [\n",
    "    (\"cont\", numerical_pipeline, cont_features), \n",
    "    (\"cat\", categorical_pipeline, cat_features)]\n",
    "preprocessor = ColumnTransformer(transformers=transformers)"
   ]
  },
  {
   "cell_type": "code",
   "execution_count": 13,
   "id": "190d88a6-6aaa-4192-bc73-ff5fa18e7fdb",
   "metadata": {},
   "outputs": [],
   "source": [
    "lr = Pipeline(steps = [\n",
    "    (\"pp\", preprocessor),\n",
    "    (\"logisticregression\", LogisticRegression())\n",
    "])\n",
    "rf = Pipeline(steps = [\n",
    "    (\"pp\", preprocessor),\n",
    "    (\"randomforestclassifier\", RandomForestClassifier())\n",
    "])\n",
    "base_clfs = [\n",
    "    lr,\n",
    "    rf\n",
    "]"
   ]
  },
  {
   "cell_type": "code",
   "execution_count": 14,
   "id": "8ba2ceae-3a72-4d84-8db8-a9911fa0b91a",
   "metadata": {},
   "outputs": [],
   "source": [
    "all_hyper_parameters = generate_all_combinations(hyper_parameters)"
   ]
  },
  {
   "cell_type": "code",
   "execution_count": 15,
   "id": "83dc421c-e014-4415-bafb-5b0dc82d6a12",
   "metadata": {},
   "outputs": [],
   "source": [
    "from src.models.classifiers import StackedGeneralizationClassifier"
   ]
  },
  {
   "cell_type": "code",
   "execution_count": 16,
   "id": "6c60c7ce-d7fb-47ac-a013-5b332fecaa57",
   "metadata": {},
   "outputs": [
    {
     "data": {
      "application/vnd.jupyter.widget-view+json": {
       "model_id": "a6681c06f2e6471090a3c10c04fbbce7",
       "version_major": 2,
       "version_minor": 0
      },
      "text/plain": [
       "  0%|          | 0/4 [00:00<?, ?it/s]"
      ]
     },
     "metadata": {},
     "output_type": "display_data"
    },
    {
     "name": "stdout",
     "output_type": "stream",
     "text": [
      "Outer loop, each fold:\n",
      "\tNumber of 0's: ~3054 (98.17%)\n",
      "\tNumber of 1's: ~57 (1.83%)\n",
      "Inner loop, each loop:\n",
      "\tNumber of 0's: ~1527 (98.17%)\n",
      "\tNumber of 1's: ~28 (1.83%)\n"
     ]
    },
    {
     "data": {
      "text/plain": [
       "<src.models.classifiers.StackedGeneralizationClassifier at 0x107d483a0>"
      ]
     },
     "execution_count": 16,
     "metadata": {},
     "output_type": "execute_result"
    }
   ],
   "source": [
    "sgclf = StackedGeneralizationClassifier(\n",
    "    base_clfs=base_clfs, \n",
    "    meta_clf=LogisticRegression(),\n",
    "    use_probas=True, \n",
    "    verbose=False\n",
    ")\n",
    "sgclf.cv_outer_loop(\n",
    "    all_hyper_parameters=all_hyper_parameters,\n",
    "    X=X_train, \n",
    "    y=y_train, \n",
    "    refit=True\n",
    ")"
   ]
  },
  {
   "cell_type": "code",
   "execution_count": 17,
   "id": "a5041c56-c634-4eb1-bd0c-55e4e804a1bf",
   "metadata": {},
   "outputs": [],
   "source": [
    "y_test_pred_con, y_test_pred_cut = sgclf.predict(X_test)"
   ]
  },
  {
   "cell_type": "code",
   "execution_count": 18,
   "id": "2c75d94c-0a45-4172-928b-939a646d2dea",
   "metadata": {},
   "outputs": [],
   "source": [
    "from sklearn.metrics import roc_auc_score"
   ]
  },
  {
   "cell_type": "code",
   "execution_count": 19,
   "id": "3114da15-f8dc-4887-99ee-e715fff19354",
   "metadata": {},
   "outputs": [
    {
     "data": {
      "text/plain": [
       "'Hold-out AUC of ROC, continous model: 0.6585668493433978'"
      ]
     },
     "execution_count": 19,
     "metadata": {},
     "output_type": "execute_result"
    }
   ],
   "source": [
    "(\"Hold-out AUC of ROC, continous model: \" + \n",
    "str(roc_auc_score(y_score = y_test_pred_con, y_true = y_test)))"
   ]
  },
  {
   "cell_type": "code",
   "execution_count": 20,
   "id": "c1a569e0-f1f8-4f0d-bbf1-e06cbbf3a258",
   "metadata": {},
   "outputs": [
    {
     "data": {
      "text/plain": [
       "'Hold-out AUC of ROC, cut model: 0.5'"
      ]
     },
     "execution_count": 20,
     "metadata": {},
     "output_type": "execute_result"
    }
   ],
   "source": [
    "(\"Hold-out AUC of ROC, cut model: \" + \n",
    "str(roc_auc_score(y_score = y_test_pred_cut, y_true = y_test)))"
   ]
  },
  {
   "cell_type": "code",
   "execution_count": 21,
   "id": "d94d3288-a68f-4eee-b5a9-550945f4084b",
   "metadata": {},
   "outputs": [],
   "source": [
    "from src.visualization.visualize import plot_roc, plot_precision_recall"
   ]
  },
  {
   "cell_type": "code",
   "execution_count": 22,
   "id": "36e05e79-3b89-4826-9d69-dc0d42856f38",
   "metadata": {},
   "outputs": [
    {
     "data": {
      "image/png": "[encoded data removed]",
      "text/plain": [
       "<Figure size 640x480 with 1 Axes>"
      ]
     },
     "metadata": {},
     "output_type": "display_data"
    },
    {
     "data": {
      "text/plain": [
       "<ggplot: (371887522)>"
      ]
     },
     "execution_count": 22,
     "metadata": {},
     "output_type": "execute_result"
    }
   ],
   "source": [
    "plot_roc(y_test, y_test_pred_con)"
   ]
  },
  {
   "cell_type": "code",
   "execution_count": 23,
   "id": "dbd5b6a4-0296-45d6-aa44-38551ed69ba0",
   "metadata": {},
   "outputs": [
    {
     "data": {
      "image/png": "[encoded data removed]",
      "text/plain": [
       "<Figure size 640x480 with 1 Axes>"
      ]
     },
     "metadata": {},
     "output_type": "display_data"
    },
    {
     "data": {
      "text/plain": [
       "<ggplot: (326071732)>"
      ]
     },
     "execution_count": 23,
     "metadata": {},
     "output_type": "execute_result"
    }
   ],
   "source": [
    "plot_roc(y_test, y_test_pred_cut)"
   ]
  },
  {
   "cell_type": "code",
   "execution_count": 24,
   "id": "1e4bb8a2-e6fc-4cbe-96f6-dfd8f7527171",
   "metadata": {},
   "outputs": [
    {
     "data": {
      "image/png": "[encoded data removed]",
      "text/plain": [
       "<Figure size 640x480 with 1 Axes>"
      ]
     },
     "metadata": {},
     "output_type": "display_data"
    },
    {
     "data": {
      "text/plain": [
       "<ggplot: (372023651)>"
      ]
     },
     "execution_count": 24,
     "metadata": {},
     "output_type": "execute_result"
    }
   ],
   "source": [
    "plot_precision_recall(y_test, y_test_pred_con)"
   ]
  },
  {
   "cell_type": "markdown",
   "id": "e7cdd4ae-5837-441a-be7d-0d18036b2067",
   "metadata": {},
   "source": [
    "Plot roc curves for each classifier"
   ]
  },
  {
   "cell_type": "code",
   "execution_count": 25,
   "id": "c37da0f1-3e40-495d-afd8-625dc2f86932",
   "metadata": {},
   "outputs": [],
   "source": [
    "from src.visualization.visualize import plot_roc_base_clfs"
   ]
  },
  {
   "cell_type": "code",
   "execution_count": 26,
   "id": "c3b20c2d-64e7-4378-baba-2389bdad9c95",
   "metadata": {},
   "outputs": [],
   "source": [
    "y_test_prob_clfs = sgclf.predict_meta_features(X_test, use_probas = True)\n",
    "y_test_pred_clfs = sgclf.predict_meta_features(X_test, use_probas = False)"
   ]
  },
  {
   "cell_type": "code",
   "execution_count": 27,
   "id": "f0aa85bd-15ea-4b2d-8f5a-e1c873eed6a3",
   "metadata": {},
   "outputs": [],
   "source": [
    "from sklearn.metrics import (\n",
    "    precision_score, \n",
    "    recall_score, \n",
    "    roc_auc_score\n",
    ")"
   ]
  },
  {
   "cell_type": "code",
   "execution_count": 28,
   "id": "89922c4f-fb58-4453-872a-fcf4f473f197",
   "metadata": {},
   "outputs": [],
   "source": [
    "y_pred_meta_clf = sgclf.predict(X_test, use_probas = False)"
   ]
  },
  {
   "cell_type": "code",
   "execution_count": 29,
   "id": "0cd8df4a-3f2b-4feb-85ba-9f11e3af6660",
   "metadata": {},
   "outputs": [],
   "source": [
    "y_test_pred_clfs = np.column_stack((y_test_pred_clfs, y_pred_meta_clf))\n",
    "y_test_prob_clfs = np.column_stack((y_test_prob_clfs, y_test_pred_con))"
   ]
  },
  {
   "cell_type": "code",
   "execution_count": 30,
   "id": "b1a8b9b9-26f9-42fc-b7de-3f9f1a6a5112",
   "metadata": {},
   "outputs": [],
   "source": [
    "def compute_performance(y_prob, y_pred, y_true):\n",
    "    roc_auc = roc_auc_score(\n",
    "        y_true=y_true, \n",
    "        y_score=y_prob\n",
    "    )\n",
    "    prec = precision_score(\n",
    "        y_true=y_true, \n",
    "        y_pred=y_pred, \n",
    "        average=\"macro\"\n",
    "    )\n",
    "    rec = recall_score(\n",
    "        y_true=y_true, \n",
    "        y_pred=y_pred, \n",
    "        average=\"macro\"\n",
    "    )\n",
    "    return dict(roc_auc = roc_auc, prec = prec, rec = rec)\n",
    "\n",
    "def compile_performance(y_probs: pd.DataFrame, y_preds: pd.DataFrame,\n",
    "                        y_true: np.array, tc: np.array, keys: list):\n",
    "    ds = [\n",
    "        compute_performance(y_prob=prob, y_pred=pred, y_true=y_true) \n",
    "        for prob, pred in zip(y_probs.T, y_preds.T)\n",
    "    ]\n",
    "    nri_metrics = [\"nri\", \"nri_plus\", \"nri_minus\"]\n",
    "\n",
    "    \n",
    "    return pd.DataFrame(ds, index = keys)"
   ]
  },
  {
   "cell_type": "code",
   "execution_count": 31,
   "id": "79ea6295-e23e-41e1-a10c-54d9e0cee5f4",
   "metadata": {},
   "outputs": [],
   "source": [
    "keys = [\n",
    "    clf.get_params()[\"steps\"][-1][1].__class__.__name__ \n",
    "    for clf in sgclf.base_clfs_\n",
    "]"
   ]
  },
  {
   "cell_type": "code",
   "execution_count": 32,
   "id": "5f2433c9-6051-465b-99ae-bb7fab75817c",
   "metadata": {},
   "outputs": [
    {
     "name": "stderr",
     "output_type": "stream",
     "text": [
      "/Users/ludvigwarnberggerdin/miniforge3/envs/pemett/lib/python3.10/site-packages/sklearn/metrics/_classification.py:1308: UndefinedMetricWarning: Precision is ill-defined and being set to 0.0 in labels with no predicted samples. Use `zero_division` parameter to control this behavior.\n",
      "/Users/ludvigwarnberggerdin/miniforge3/envs/pemett/lib/python3.10/site-packages/sklearn/metrics/_classification.py:1308: UndefinedMetricWarning: Precision is ill-defined and being set to 0.0 in labels with no predicted samples. Use `zero_division` parameter to control this behavior.\n",
      "/Users/ludvigwarnberggerdin/miniforge3/envs/pemett/lib/python3.10/site-packages/sklearn/metrics/_classification.py:1308: UndefinedMetricWarning: Precision is ill-defined and being set to 0.0 in labels with no predicted samples. Use `zero_division` parameter to control this behavior.\n"
     ]
    },
    {
     "data": {
      "text/html": [
       "<div>\n",
       "<style scoped>\n",
       "    .dataframe tbody tr th:only-of-type {\n",
       "        vertical-align: middle;\n",
       "    }\n",
       "\n",
       "    .dataframe tbody tr th {\n",
       "        vertical-align: top;\n",
       "    }\n",
       "\n",
       "    .dataframe thead th {\n",
       "        text-align: right;\n",
       "    }\n",
       "</style>\n",
       "<table border=\"1\" class=\"dataframe\">\n",
       "  <thead>\n",
       "    <tr style=\"text-align: right;\">\n",
       "      <th></th>\n",
       "      <th>roc_auc</th>\n",
       "      <th>prec</th>\n",
       "      <th>rec</th>\n",
       "    </tr>\n",
       "  </thead>\n",
       "  <tbody>\n",
       "    <tr>\n",
       "      <th>LogisticRegression</th>\n",
       "      <td>0.652750</td>\n",
       "      <td>0.490839</td>\n",
       "      <td>0.5</td>\n",
       "    </tr>\n",
       "    <tr>\n",
       "      <th>RandomForestClassifier</th>\n",
       "      <td>0.631139</td>\n",
       "      <td>0.490839</td>\n",
       "      <td>0.5</td>\n",
       "    </tr>\n",
       "    <tr>\n",
       "      <th>StackedGeneralizationClassifier</th>\n",
       "      <td>0.658567</td>\n",
       "      <td>0.490839</td>\n",
       "      <td>0.5</td>\n",
       "    </tr>\n",
       "  </tbody>\n",
       "</table>\n",
       "</div>"
      ],
      "text/plain": [
       "                                  roc_auc      prec  rec\n",
       "LogisticRegression               0.652750  0.490839  0.5\n",
       "RandomForestClassifier           0.631139  0.490839  0.5\n",
       "StackedGeneralizationClassifier  0.658567  0.490839  0.5"
      ]
     },
     "execution_count": 32,
     "metadata": {},
     "output_type": "execute_result"
    }
   ],
   "source": [
    "compile_performance(\n",
    "    y_preds=y_test_pred_clfs, \n",
    "    y_probs=y_test_prob_clfs, \n",
    "    y_true=y_test, \n",
    "    tc=tc_test,\n",
    "    keys=keys + [sgclf.__class__.__name__]\n",
    ")"
   ]
  },
  {
   "cell_type": "code",
   "execution_count": 33,
   "id": "002958be-ebf3-41a8-a50f-74fe8570c202",
   "metadata": {},
   "outputs": [
    {
     "data": {
      "image/png": "[encoded data removed]",
      "text/plain": [
       "<Figure size 640x480 with 1 Axes>"
      ]
     },
     "metadata": {},
     "output_type": "display_data"
    },
    {
     "data": {
      "text/plain": [
       "<ggplot: (371942542)>"
      ]
     },
     "execution_count": 33,
     "metadata": {},
     "output_type": "execute_result"
    }
   ],
   "source": [
    "plot_roc_base_clfs(y_test_prob_clfs, y_test, keys)"
   ]
  },
  {
   "cell_type": "code",
   "execution_count": 34,
   "id": "56ad7dc9-adae-486e-aa7d-63ac7b8bd890",
   "metadata": {},
   "outputs": [
    {
     "name": "stderr",
     "output_type": "stream",
     "text": [
      "During startup - Warning messages:\n",
      "1: Setting LC_COLLATE failed, using \"C\" \n",
      "2: Setting LC_TIME failed, using \"C\" \n",
      "3: Setting LC_MESSAGES failed, using \"C\" \n",
      "4: Setting LC_MONETARY failed, using \"C\" \n"
     ]
    }
   ],
   "source": [
    "from src.models.metrics import calculate_nri"
   ]
  },
  {
   "cell_type": "code",
   "execution_count": 35,
   "id": "2cb57214-631e-4866-a7e6-5603a159034b",
   "metadata": {},
   "outputs": [
    {
     "name": "stderr",
     "output_type": "stream",
     "text": [
      "R[write to console]: \n",
      "NRI estimation:\n",
      "\n",
      "R[write to console]: Point estimates:\n",
      "\n"
     ]
    },
    {
     "name": "stdout",
     "output_type": "stream",
     "text": [
      "                 Estimate\n",
      "NRI           -0.06240306\n",
      "NRI+          -0.18421053\n",
      "NRI-           0.12180747\n",
      "Pr(Up|Case)    0.00000000\n",
      "Pr(Down|Case)  0.18421053\n",
      "Pr(Down|Ctrl)  0.12180747\n",
      "Pr(Up|Ctrl)    0.00000000\n"
     ]
    }
   ],
   "source": [
    "nri = calculate_nri(\n",
    "    y_true=y_test.to_numpy(), \n",
    "    y_old=tc_test.to_numpy(), \n",
    "    y_new=y_test_pred_cut\n",
    ") "
   ]
  },
  {
   "cell_type": "code",
   "execution_count": 36,
   "id": "d6f04370-508a-472b-a83a-89b042577353",
   "metadata": {},
   "outputs": [
    {
     "data": {
      "text/plain": [
       "nri            -0.062403\n",
       "nri_plus       -0.184211\n",
       "nri_minus       0.121807\n",
       "pr_up_dead      0.000000\n",
       "pr_down_dead    0.184211\n",
       "pr_down_surv    0.121807\n",
       "pr_up_surv      0.000000\n",
       "dtype: float64"
      ]
     },
     "execution_count": 36,
     "metadata": {},
     "output_type": "execute_result"
    }
   ],
   "source": [
    "nri"
   ]
  }
 ],
 "metadata": {
  "kernelspec": {
   "display_name": "Python 3 (ipykernel)",
   "language": "python",
   "name": "python3"
  },
  "language_info": {
   "codemirror_mode": {
    "name": "ipython",
    "version": 3
   },
   "file_extension": ".py",
   "mimetype": "text/x-python",
   "name": "python",
   "nbconvert_exporter": "python",
   "pygments_lexer": "ipython3",
   "version": "3.10.0"
  }
 },
 "nbformat": 4,
 "nbformat_minor": 5
}
