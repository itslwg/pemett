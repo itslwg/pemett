{
 "cells": [
  {
   "cell_type": "markdown",
   "id": "d33b8fce-986b-4755-8b36-9c63ef067e65",
   "metadata": {
    "tags": []
   },
   "source": [
    "# Model training and prediction - `composite`"
   ]
  },
  {
   "cell_type": "code",
   "execution_count": 1,
   "id": "bda7b20f-d14c-482b-9c82-3be9f1c29c04",
   "metadata": {},
   "outputs": [],
   "source": [
    "%load_ext autoreload\n",
    "%autoreload 2"
   ]
  },
  {
   "cell_type": "code",
   "execution_count": 2,
   "id": "394e5980-24fc-4567-b301-aeea6d8da901",
   "metadata": {},
   "outputs": [],
   "source": [
    "import os\n",
    "os.chdir(\"..\")"
   ]
  },
  {
   "cell_type": "code",
   "execution_count": 3,
   "id": "6798fd4e-3492-4ce5-af78-35f68ad1bae4",
   "metadata": {},
   "outputs": [
    {
     "data": {
      "text/plain": [
       "'/Users/ludvigwarnberggerdin/projects/ttris/pemett'"
      ]
     },
     "execution_count": 3,
     "metadata": {},
     "output_type": "execute_result"
    }
   ],
   "source": [
    "os.getcwd()"
   ]
  },
  {
   "cell_type": "code",
   "execution_count": 4,
   "id": "588f52f6-7b94-4b1c-962e-ad905c02daa2",
   "metadata": {},
   "outputs": [],
   "source": [
    "import numpy as np\n",
    "import pandas as pd"
   ]
  },
  {
   "cell_type": "code",
   "execution_count": 24,
   "id": "e06d3e6d-9f2b-44ee-be35-76c986a93eaf",
   "metadata": {},
   "outputs": [],
   "source": [
    "X_train = pd.read_csv(\"./data/processed/composite/X_train.csv\", index_col = 0)\n",
    "y_train = pd.read_csv(\"./data/processed/composite/y_train.csv\", index_col = 0).composite\n",
    "X_test = pd.read_csv(\"./data/processed/composite/X_test.csv\", index_col = 0)\n",
    "y_test = pd.read_csv(\"./data/processed/composite/y_test.csv\", index_col = 0).composite\n",
    "tc_train = pd.read_csv(\"./data/processed/composite/tc_train.csv\", index_col = 0).tc\n",
    "tc_test = pd.read_csv(\"./data/processed/composite/tc_test.csv\", index_col = 0).tc"
   ]
  },
  {
   "cell_type": "code",
   "execution_count": 25,
   "id": "02172b54-21d1-4b1e-b886-054421d61f4e",
   "metadata": {},
   "outputs": [
    {
     "data": {
      "text/plain": [
       "0    97.914987\n",
       "1     2.085013\n",
       "Name: composite, dtype: float64"
      ]
     },
     "execution_count": 25,
     "metadata": {},
     "output_type": "execute_result"
    }
   ],
   "source": [
    "y_train.value_counts() / len(y_train.index) * 100"
   ]
  },
  {
   "cell_type": "code",
   "execution_count": 26,
   "id": "9c41a82e-b469-48ad-a95e-71a2ce85abec",
   "metadata": {},
   "outputs": [],
   "source": [
    "cont_features = [\"age\", \"hr\", \"sbp\", \"dbp\", \"spo2\", \"rr\", \"delay\"]\n",
    "cat_features = list(X_train.loc[:, ~X_train.columns.isin(cont_features)].columns)"
   ]
  },
  {
   "cell_type": "markdown",
   "id": "00374d1c-c321-4958-8215-b57e68837974",
   "metadata": {
    "tags": []
   },
   "source": [
    "## Run hyper parameter search"
   ]
  },
  {
   "cell_type": "code",
   "execution_count": 27,
   "id": "2fbee33a-f622-4863-a5a0-46b7b497f8fb",
   "metadata": {},
   "outputs": [],
   "source": [
    "import random\n",
    "from tqdm.notebook import tqdm\n",
    "from src.models.train_model import generate_all_combinations"
   ]
  },
  {
   "cell_type": "code",
   "execution_count": 28,
   "id": "6410c4ea-e42e-43e3-9787-54aae6dcafbb",
   "metadata": {},
   "outputs": [],
   "source": [
    "import itertools as it\n",
    "all_breaks = [(0, ) + x + (np.inf,) for x in it.combinations(np.arange(0.01, 1, 0.05), r=3)]"
   ]
  },
  {
   "cell_type": "code",
   "execution_count": 29,
   "id": "1901d8ea-4ccb-48c6-9847-443f67989d90",
   "metadata": {},
   "outputs": [],
   "source": [
    "from sklearn.linear_model import LogisticRegression\n",
    "from sklearn.ensemble import RandomForestClassifier\n",
    "from lightgbm import LGBMClassifier\n",
    "\n",
    "from sklearn.pipeline import Pipeline\n",
    "from sklearn.impute import SimpleImputer\n",
    "from sklearn.compose import ColumnTransformer\n",
    "from sklearn.preprocessing import StandardScaler, OneHotEncoder"
   ]
  },
  {
   "cell_type": "markdown",
   "id": "f9f0c53b-be9d-46e9-88a3-1c2882864e98",
   "metadata": {},
   "source": [
    "Filter out warnings produced by R"
   ]
  },
  {
   "cell_type": "code",
   "execution_count": 30,
   "id": "3bf7e2e1-3cbf-4a4d-80d8-2825866a1524",
   "metadata": {},
   "outputs": [],
   "source": [
    "import warnings\n",
    "from rpy2.rinterface import RRuntimeWarning\n",
    "warnings.filterwarnings(\"ignore\", category=RRuntimeWarning)"
   ]
  },
  {
   "cell_type": "code",
   "execution_count": 71,
   "id": "3e273fe2-1796-4336-ae73-ba6a40dc6f89",
   "metadata": {},
   "outputs": [],
   "source": [
    "hyper_parameters = {\n",
    "    \"logisticregression__logisticregression__C\": [0.1, 0.2],\n",
    "    \"randomforestclassifier__randomforestclassifier__n_estimators\": [100, 200],\n",
    "    \"breaks\": all_breaks[200:205]\n",
    "}"
   ]
  },
  {
   "cell_type": "code",
   "execution_count": 72,
   "id": "ddbdebae-e222-4480-9a84-957295bf9a09",
   "metadata": {},
   "outputs": [],
   "source": [
    "numerical_pipeline = Pipeline(steps=[\n",
    "    (\"si\", SimpleImputer(strategy=\"median\", add_indicator=True)),\n",
    "    (\"ss\", StandardScaler())\n",
    "])\n",
    "categorical_pipeline = Pipeline(steps=[\n",
    "    (\"si\", SimpleImputer(strategy=\"most_frequent\", add_indicator=True)),\n",
    "    (\"ohe\", OneHotEncoder(handle_unknown=\"ignore\"))\n",
    "])\n",
    "transformers = [\n",
    "    (\"cont\", numerical_pipeline, cont_features), \n",
    "    (\"cat\", categorical_pipeline, cat_features)]\n",
    "preprocessor = ColumnTransformer(transformers=transformers)"
   ]
  },
  {
   "cell_type": "code",
   "execution_count": 73,
   "id": "4b6a337e-5dc2-4e83-bf3f-a8e2eb6ff14f",
   "metadata": {},
   "outputs": [],
   "source": [
    "lgbm = Pipeline(steps=[(\"lightgbmclassifier\", LGBMClassifier())])\n",
    "lr = Pipeline(steps = [\n",
    "    (\"pp\", preprocessor),\n",
    "    (\"logisticregression\", LogisticRegression())\n",
    "])\n",
    "rf = Pipeline(steps = [\n",
    "    (\"pp\", preprocessor),\n",
    "    (\"randomforestclassifier\", RandomForestClassifier())\n",
    "])\n",
    "base_clfs = [\n",
    "    lgbm,\n",
    "    # lr,\n",
    "    rf\n",
    "]"
   ]
  },
  {
   "cell_type": "code",
   "execution_count": 74,
   "id": "c8473278-f736-4557-b96d-066657f129b8",
   "metadata": {},
   "outputs": [],
   "source": [
    "all_hyper_parameters = generate_all_combinations(hyper_parameters)"
   ]
  },
  {
   "cell_type": "code",
   "execution_count": 75,
   "id": "6b198f08-ff3f-402e-861a-c0b8d8b297b8",
   "metadata": {},
   "outputs": [],
   "source": [
    "from src.models.classifiers import StackedGeneralizationClassifier"
   ]
  },
  {
   "cell_type": "code",
   "execution_count": 76,
   "id": "dfc16572-63db-4d6b-b5a0-361471beb798",
   "metadata": {},
   "outputs": [
    {
     "data": {
      "application/vnd.jupyter.widget-view+json": {
       "model_id": "facd04afecbd49a28774d37e91d562ad",
       "version_major": 2,
       "version_minor": 0
      },
      "text/plain": [
       "  0%|          | 0/20 [00:00<?, ?it/s]"
      ]
     },
     "metadata": {},
     "output_type": "display_data"
    },
    {
     "data": {
      "text/plain": [
       "<src.models.classifiers.StackedGeneralizationClassifier at 0x11f124e80>"
      ]
     },
     "execution_count": 76,
     "metadata": {},
     "output_type": "execute_result"
    }
   ],
   "source": [
    "sgclf = StackedGeneralizationClassifier(\n",
    "    base_clfs=base_clfs, \n",
    "    meta_clf=LogisticRegression(),\n",
    "    use_probas=True, \n",
    "    verbose=False\n",
    ")\n",
    "sgclf.cv_outer_loop(\n",
    "    all_hyper_parameters=all_hyper_parameters,\n",
    "    X=X_train, \n",
    "    y=y_train, \n",
    "    refit=True\n",
    ")"
   ]
  },
  {
   "cell_type": "code",
   "execution_count": 77,
   "id": "8abbc7bf-8e91-46bf-8012-3be2fd75be61",
   "metadata": {},
   "outputs": [],
   "source": [
    "y_test_prob_con, y_test_prob_cut = sgclf.predict(X_test)"
   ]
  },
  {
   "cell_type": "code",
   "execution_count": 78,
   "id": "f83390a2-b72b-404c-a326-6b61693c93ec",
   "metadata": {},
   "outputs": [],
   "source": [
    "from sklearn.metrics import roc_auc_score"
   ]
  },
  {
   "cell_type": "code",
   "execution_count": 79,
   "id": "066b76e9-d5f6-4f66-b38f-0265e7ec832c",
   "metadata": {},
   "outputs": [
    {
     "data": {
      "text/plain": [
       "'Hold-out AUC of ROC, continous model: 0.6997471183251001'"
      ]
     },
     "execution_count": 79,
     "metadata": {},
     "output_type": "execute_result"
    }
   ],
   "source": [
    "auc_test_con = roc_auc_score(y_score = y_test_prob_con, y_true = y_test)\n",
    "(\"Hold-out AUC of ROC, continous model: \" + \n",
    "str(auc_test_con))"
   ]
  },
  {
   "cell_type": "code",
   "execution_count": 80,
   "id": "268ef944-fc55-45e7-a12b-74ecda3619e5",
   "metadata": {},
   "outputs": [
    {
     "data": {
      "text/plain": [
       "'Hold-out AUC of ROC, cut model: 0.5'"
      ]
     },
     "execution_count": 80,
     "metadata": {},
     "output_type": "execute_result"
    }
   ],
   "source": [
    "auc_test_cut = roc_auc_score(y_score = y_test_prob_cut, y_true = y_test)\n",
    "(\"Hold-out AUC of ROC, cut model: \" + \n",
    "str(auc_test_cut))"
   ]
  },
  {
   "cell_type": "code",
   "execution_count": 81,
   "id": "25a92316-9355-4e68-9655-1466cc76c65e",
   "metadata": {},
   "outputs": [],
   "source": [
    "from src.visualization.visualize import (\n",
    "    plot_roc, \n",
    "    plot_precision_recall,\n",
    "    plot_triage_comparison\n",
    ")"
   ]
  },
  {
   "cell_type": "code",
   "execution_count": 82,
   "id": "5acc54ee-803b-42a0-a82c-53b6320ee6b1",
   "metadata": {},
   "outputs": [
    {
     "data": {
      "text/plain": [
       "array([0., 0., 0., ..., 0., 0., 0.])"
      ]
     },
     "execution_count": 82,
     "metadata": {},
     "output_type": "execute_result"
    }
   ],
   "source": [
    "y_test_prob_cut"
   ]
  },
  {
   "cell_type": "code",
   "execution_count": 83,
   "id": "38fd290a-d63c-4d64-8001-20f318fa1a70",
   "metadata": {},
   "outputs": [
    {
     "name": "stderr",
     "output_type": "stream",
     "text": [
      "/Users/ludvigwarnberggerdin/miniforge3/envs/pemett/lib/python3.10/site-packages/plotnine/geoms/geom_rect.py:62: MatplotlibDeprecationWarning: Passing *transOffset* without *offsets* has no effect. This behavior is deprecated since 3.5 and in 3.6, *transOffset* will begin having an effect regardless of *offsets*. In the meantime, if you wish to set *transOffset*, call collection.set_offset_transform(transOffset) explicitly.\n",
      "/Users/ludvigwarnberggerdin/miniforge3/envs/pemett/lib/python3.10/site-packages/plotnine/geoms/geom_rect.py:62: MatplotlibDeprecationWarning: Passing *transOffset* without *offsets* has no effect. This behavior is deprecated since 3.5 and in 3.6, *transOffset* will begin having an effect regardless of *offsets*. In the meantime, if you wish to set *transOffset*, call collection.set_offset_transform(transOffset) explicitly.\n",
      "/Users/ludvigwarnberggerdin/miniforge3/envs/pemett/lib/python3.10/site-packages/plotnine/layer.py:401: PlotnineWarning: geom_text : Removed 5 rows containing missing values.\n",
      "/Users/ludvigwarnberggerdin/miniforge3/envs/pemett/lib/python3.10/site-packages/plotnine/guides/guide_legend.py:308: DeprecationWarning: `np.float` is a deprecated alias for the builtin `float`. To silence this warning, use `float` by itself. Doing this will not modify any behavior and is safe. If you specifically wanted the numpy scalar type, use `np.float64` here.\n",
      "Deprecated in NumPy 1.20; for more details and guidance: https://numpy.org/devdocs/release/1.20.0-notes.html#deprecations\n",
      "/Users/ludvigwarnberggerdin/miniforge3/envs/pemett/lib/python3.10/site-packages/plotnine/guides/guide_legend.py:308: DeprecationWarning: `np.float` is a deprecated alias for the builtin `float`. To silence this warning, use `float` by itself. Doing this will not modify any behavior and is safe. If you specifically wanted the numpy scalar type, use `np.float64` here.\n",
      "Deprecated in NumPy 1.20; for more details and guidance: https://numpy.org/devdocs/release/1.20.0-notes.html#deprecations\n"
     ]
    },
    {
     "data": {
      "image/png": "[encoded data removed]",
      "text/plain": [
       "<Figure size 640x480 with 2 Axes>"
      ]
     },
     "metadata": {},
     "output_type": "display_data"
    },
    {
     "data": {
      "text/plain": [
       "<ggplot: (683719218)>"
      ]
     },
     "execution_count": 83,
     "metadata": {},
     "output_type": "execute_result"
    }
   ],
   "source": [
    "plot_triage_comparison(y_test.astype(float), y_test_prob_cut.astype(float), tc_test)"
   ]
  },
  {
   "cell_type": "code",
   "execution_count": 84,
   "id": "5d177ece-8919-4d0b-b0a1-36afd1ae0c1b",
   "metadata": {},
   "outputs": [
    {
     "data": {
      "image/png": "[encoded data removed]",
      "text/plain": [
       "<Figure size 640x480 with 1 Axes>"
      ]
     },
     "metadata": {},
     "output_type": "display_data"
    },
    {
     "data": {
      "text/plain": [
       "<ggplot: (276578115)>"
      ]
     },
     "execution_count": 84,
     "metadata": {},
     "output_type": "execute_result"
    }
   ],
   "source": [
    "plot_roc(y_test, y_test_prob_con)"
   ]
  },
  {
   "cell_type": "code",
   "execution_count": 85,
   "id": "917ea986-6c7c-49a1-b0ba-0e40a17cffd7",
   "metadata": {},
   "outputs": [
    {
     "data": {
      "image/png": "[encoded data removed]",
      "text/plain": [
       "<Figure size 640x480 with 1 Axes>"
      ]
     },
     "metadata": {},
     "output_type": "display_data"
    },
    {
     "data": {
      "text/plain": [
       "<ggplot: (683860575)>"
      ]
     },
     "execution_count": 85,
     "metadata": {},
     "output_type": "execute_result"
    }
   ],
   "source": [
    "plot_roc(y_test, y_test_prob_cut)"
   ]
  },
  {
   "cell_type": "code",
   "execution_count": 86,
   "id": "b1b80cd0-5131-414a-9f0e-930c8616d4a3",
   "metadata": {},
   "outputs": [
    {
     "data": {
      "image/png": "[encoded data removed]",
      "text/plain": [
       "<Figure size 640x480 with 1 Axes>"
      ]
     },
     "metadata": {},
     "output_type": "display_data"
    },
    {
     "data": {
      "text/plain": [
       "<ggplot: (683869206)>"
      ]
     },
     "execution_count": 86,
     "metadata": {},
     "output_type": "execute_result"
    }
   ],
   "source": [
    "plot_precision_recall(y_test, y_test_prob_con)"
   ]
  },
  {
   "cell_type": "markdown",
   "id": "b5b37a55-7547-4afa-89c8-918cb8dba51f",
   "metadata": {},
   "source": [
    "Plot roc curves for each classifier"
   ]
  },
  {
   "cell_type": "code",
   "execution_count": 87,
   "id": "8460c979-2f7b-41e3-817b-a75db361b547",
   "metadata": {},
   "outputs": [],
   "source": [
    "from src.visualization.visualize import plot_roc_base_clfs"
   ]
  },
  {
   "cell_type": "code",
   "execution_count": 88,
   "id": "8e847de6-cf30-414d-af47-e20522abc1af",
   "metadata": {},
   "outputs": [],
   "source": [
    "y_test_prob_clfs = sgclf.predict_meta_features(X_test, use_probas = True)\n",
    "y_test_pred_clfs = sgclf.predict_meta_features(X_test, use_probas = False)"
   ]
  },
  {
   "cell_type": "code",
   "execution_count": 89,
   "id": "3503b251-3fc7-467a-86a7-5b9331f58349",
   "metadata": {},
   "outputs": [],
   "source": [
    "keys = [\n",
    "    clf.get_params()[\"steps\"][-1][1].__class__.__name__ \n",
    "    for clf in sgclf.base_clfs_\n",
    "]"
   ]
  },
  {
   "cell_type": "code",
   "execution_count": 90,
   "id": "29a102f8-ea29-4026-8bfd-5f6cb1a50cd4",
   "metadata": {},
   "outputs": [],
   "source": [
    "from sklearn.metrics import (\n",
    "    precision_score, \n",
    "    recall_score, \n",
    "    roc_auc_score\n",
    ")"
   ]
  },
  {
   "cell_type": "code",
   "execution_count": 91,
   "id": "75988ee3-45b0-483c-a92a-a8f18f9098c6",
   "metadata": {},
   "outputs": [],
   "source": [
    "y_pred_meta_clf = sgclf.predict(X_test, use_probas = False)"
   ]
  },
  {
   "cell_type": "code",
   "execution_count": 92,
   "id": "fcc5f866-bb6b-4c99-b57a-bf2fe558a175",
   "metadata": {},
   "outputs": [],
   "source": [
    "y_test_pred_clfs = np.column_stack((y_test_pred_clfs, y_pred_meta_clf))\n",
    "y_test_prob_clfs = np.column_stack((y_test_prob_clfs, y_test_prob_con))"
   ]
  },
  {
   "cell_type": "code",
   "execution_count": 93,
   "id": "9557f2de-2502-4327-b6df-2c24e100ea24",
   "metadata": {},
   "outputs": [
    {
     "name": "stderr",
     "output_type": "stream",
     "text": [
      "/Users/ludvigwarnberggerdin/miniforge3/envs/pemett/lib/python3.10/site-packages/plotnine/guides/guide_legend.py:308: DeprecationWarning: `np.float` is a deprecated alias for the builtin `float`. To silence this warning, use `float` by itself. Doing this will not modify any behavior and is safe. If you specifically wanted the numpy scalar type, use `np.float64` here.\n",
      "Deprecated in NumPy 1.20; for more details and guidance: https://numpy.org/devdocs/release/1.20.0-notes.html#deprecations\n",
      "/Users/ludvigwarnberggerdin/miniforge3/envs/pemett/lib/python3.10/site-packages/plotnine/guides/guide_legend.py:308: DeprecationWarning: `np.float` is a deprecated alias for the builtin `float`. To silence this warning, use `float` by itself. Doing this will not modify any behavior and is safe. If you specifically wanted the numpy scalar type, use `np.float64` here.\n",
      "Deprecated in NumPy 1.20; for more details and guidance: https://numpy.org/devdocs/release/1.20.0-notes.html#deprecations\n"
     ]
    },
    {
     "data": {
      "image/png": "[encoded data removed]",
      "text/plain": [
       "<Figure size 640x480 with 1 Axes>"
      ]
     },
     "metadata": {},
     "output_type": "display_data"
    },
    {
     "data": {
      "text/plain": [
       "<ggplot: (683967425)>"
      ]
     },
     "execution_count": 93,
     "metadata": {},
     "output_type": "execute_result"
    }
   ],
   "source": [
    "plot_roc_base_clfs(y_test_prob_clfs, y_test, keys)"
   ]
  },
  {
   "cell_type": "code",
   "execution_count": 94,
   "id": "51943cf7-0acc-45a3-b0f3-9a598a7c99aa",
   "metadata": {},
   "outputs": [
    {
     "name": "stderr",
     "output_type": "stream",
     "text": [
      "During startup - Warning messages:\n",
      "1: Setting LC_COLLATE failed, using \"C\" \n",
      "2: Setting LC_TIME failed, using \"C\" \n",
      "3: Setting LC_MESSAGES failed, using \"C\" \n",
      "4: Setting LC_MONETARY failed, using \"C\" \n"
     ]
    }
   ],
   "source": [
    "from src.models.metrics import bootstrap, compute_performance"
   ]
  },
  {
   "cell_type": "code",
   "execution_count": 95,
   "id": "52dfaa38-39e7-483d-880d-f2a5eb3144a8",
   "metadata": {},
   "outputs": [
    {
     "name": "stderr",
     "output_type": "stream",
     "text": [
      "  0%|                                                                          | 0/5 [00:00<?, ?it/s]During startup - Warning messages:\n",
      "1: Setting LC_COLLATE failed, using \"C\" \n",
      "2: Setting LC_TIME failed, using \"C\" \n",
      "3: Setting LC_MESSAGES failed, using \"C\" \n",
      "4: Setting LC_MONETARY failed, using \"C\" \n",
      "During startup - Warning messages:\n",
      "1: Setting LC_COLLATE failed, using \"C\" \n",
      "2: Setting LC_TIME failed, using \"C\" \n",
      "3: Setting LC_MESSAGES failed, using \"C\" \n",
      "4: Setting LC_MONETARY failed, using \"C\" \n",
      "/Users/ludvigwarnberggerdin/miniforge3/envs/pemett/lib/python3.10/site-packages/sklearn/metrics/_classification.py:1308: UndefinedMetricWarning: Precision is ill-defined and being set to 0.0 in labels with no predicted samples. Use `zero_division` parameter to control this behavior.\n",
      "  _warn_prf(average, modifier, msg_start, len(result))\n",
      "/Users/ludvigwarnberggerdin/miniforge3/envs/pemett/lib/python3.10/site-packages/sklearn/metrics/_classification.py:1308: UndefinedMetricWarning: Precision is ill-defined and being set to 0.0 in labels with no predicted samples. Use `zero_division` parameter to control this behavior.\n",
      "  _warn_prf(average, modifier, msg_start, len(result))\n",
      "R[write to console]: \n",
      "NRI estimation:\n",
      "\n",
      "R[write to console]: Point estimates:\n",
      "\n",
      "100%|██████████████████████████████████████████████████████████████████| 5/5 [00:26<00:00,  5.20s/it]\n",
      "R[write to console]: \n",
      "NRI estimation:\n",
      "\n",
      "R[write to console]: Point estimates:\n",
      "\n"
     ]
    },
    {
     "name": "stdout",
     "output_type": "stream",
     "text": [
      "  0%|          | 0/20 [00:00<?, ?it/s]\n",
      "                  Estimate\n",
      "NRI           -0.114663740\n",
      "NRI+          -0.238095238\n",
      "NRI-           0.123431498\n",
      "Pr(Up|Case)    0.000000000\n",
      "Pr(Down|Case)  0.238095238\n",
      "Pr(Down|Ctrl)  0.125480154\n",
      "Pr(Up|Ctrl)    0.002048656\n",
      "  0%|          | 0/20 [00:00<?, ?it/s]\n",
      "                   Estimate\n",
      "NRI           -0.1327389146\n",
      "NRI+          -0.2531645570\n",
      "NRI-           0.1204256424\n",
      "Pr(Up|Case)    0.0000000000\n",
      "Pr(Down|Case)  0.2531645570\n",
      "Pr(Down|Ctrl)  0.1212042564\n",
      "Pr(Up|Ctrl)    0.0007786141\n"
     ]
    },
    {
     "name": "stderr",
     "output_type": "stream",
     "text": [
      "/Users/ludvigwarnberggerdin/miniforge3/envs/pemett/lib/python3.10/site-packages/sklearn/metrics/_classification.py:1308: UndefinedMetricWarning: Precision is ill-defined and being set to 0.0 in labels with no predicted samples. Use `zero_division` parameter to control this behavior.\n",
      "  _warn_prf(average, modifier, msg_start, len(result))\n",
      "/Users/ludvigwarnberggerdin/miniforge3/envs/pemett/lib/python3.10/site-packages/sklearn/metrics/_classification.py:1308: UndefinedMetricWarning: Precision is ill-defined and being set to 0.0 in labels with no predicted samples. Use `zero_division` parameter to control this behavior.\n",
      "  _warn_prf(average, modifier, msg_start, len(result))\n",
      "/Users/ludvigwarnberggerdin/miniforge3/envs/pemett/lib/python3.10/site-packages/sklearn/metrics/_classification.py:1308: UndefinedMetricWarning: Precision is ill-defined and being set to 0.0 in labels with no predicted samples. Use `zero_division` parameter to control this behavior.\n",
      "  _warn_prf(average, modifier, msg_start, len(result))\n",
      "/Users/ludvigwarnberggerdin/miniforge3/envs/pemett/lib/python3.10/site-packages/sklearn/metrics/_classification.py:1308: UndefinedMetricWarning: Precision is ill-defined and being set to 0.0 in labels with no predicted samples. Use `zero_division` parameter to control this behavior.\n",
      "  _warn_prf(average, modifier, msg_start, len(result))\n",
      "R[write to console]: \n",
      "NRI estimation:\n",
      "\n",
      "R[write to console]: Point estimates:\n",
      "\n",
      "R[write to console]: \n",
      "NRI estimation:\n",
      "\n",
      "R[write to console]: Point estimates:\n",
      "\n"
     ]
    },
    {
     "name": "stdout",
     "output_type": "stream",
     "text": [
      "  0%|          | 0/20 [00:00<?, ?it/s]\n",
      "                Estimate\n",
      "NRI           -0.1395203\n",
      "NRI+          -0.2564103\n",
      "NRI-           0.1168899\n",
      "Pr(Up|Case)    0.0000000\n",
      "Pr(Down|Case)  0.2564103\n",
      "Pr(Down|Ctrl)  0.1168899\n",
      "Pr(Up|Ctrl)    0.0000000\n",
      "  0%|          | 0/20 [00:00<?, ?it/s]\n",
      "                   Estimate\n",
      "NRI           -0.0888483294\n",
      "NRI+          -0.2125000000\n",
      "NRI-           0.1236516706\n",
      "Pr(Up|Case)    0.0125000000\n",
      "Pr(Down|Case)  0.2250000000\n",
      "Pr(Down|Ctrl)  0.1241778479\n",
      "Pr(Up|Ctrl)    0.0005261773\n",
      "  0%|          | 0/20 [00:00<?, ?it/s]\n",
      "                  Estimate\n",
      "NRI           -0.208244141\n",
      "NRI+          -0.328947368\n",
      "NRI-           0.120703227\n",
      "Pr(Up|Case)    0.000000000\n",
      "Pr(Down|Case)  0.328947368\n",
      "Pr(Down|Ctrl)  0.121490422\n",
      "Pr(Up|Ctrl)    0.000787195\n"
     ]
    },
    {
     "name": "stderr",
     "output_type": "stream",
     "text": [
      "/Users/ludvigwarnberggerdin/miniforge3/envs/pemett/lib/python3.10/site-packages/sklearn/metrics/_classification.py:1308: UndefinedMetricWarning: Precision is ill-defined and being set to 0.0 in labels with no predicted samples. Use `zero_division` parameter to control this behavior.\n",
      "  _warn_prf(average, modifier, msg_start, len(result))\n",
      "R[write to console]: \n",
      "NRI estimation:\n",
      "\n",
      "R[write to console]: Point estimates:\n",
      "\n"
     ]
    }
   ],
   "source": [
    "stats = bootstrap(\n",
    "    X=X_train,\n",
    "    y=y_train, \n",
    "    tc=tc_train,\n",
    "    keys=keys + [sgclf.__class__.__name__],\n",
    "    base_clfs=base_clfs,\n",
    "    meta_clf=LogisticRegression(),\n",
    "    all_hyper_parameters=all_hyper_parameters\n",
    ")"
   ]
  },
  {
   "cell_type": "code",
   "execution_count": 96,
   "id": "c55a6fc5-5ffe-4e5c-abf5-00cbbd936af6",
   "metadata": {},
   "outputs": [
    {
     "name": "stderr",
     "output_type": "stream",
     "text": [
      "/Users/ludvigwarnberggerdin/miniforge3/envs/pemett/lib/python3.10/site-packages/sklearn/metrics/_classification.py:1308: UndefinedMetricWarning: Precision is ill-defined and being set to 0.0 in labels with no predicted samples. Use `zero_division` parameter to control this behavior.\n",
      "R[write to console]: \n",
      "NRI estimation:\n",
      "\n",
      "R[write to console]: Point estimates:\n",
      "\n"
     ]
    },
    {
     "name": "stdout",
     "output_type": "stream",
     "text": [
      "                 Estimate\n",
      "NRI           -0.09704775\n",
      "NRI+          -0.21666667\n",
      "NRI-           0.11961891\n",
      "Pr(Up|Case)    0.00000000\n",
      "Pr(Down|Case)  0.21666667\n",
      "Pr(Down|Ctrl)  0.11961891\n",
      "Pr(Up|Ctrl)    0.00000000\n"
     ]
    }
   ],
   "source": [
    "# Set bootstrap estimates as data frame\n",
    "stats_df = pd.concat([pd.DataFrame.from_dict(d, orient=\"index\").stack().to_frame() for d in stats], axis = 1)\n",
    "stats_df.values.sort()\n",
    "# Set list for simplifying compiling point estimates\n",
    "y_test_prob_cuts = [None] * len(keys) + [y_test_prob_cut]\n",
    "# Set point estimates as data frame\n",
    "point_estimates = pd.DataFrame.from_dict({\n",
    "    k: compute_performance(\n",
    "        y_prob=prob, \n",
    "        y_pred=pred, \n",
    "        y_true=y_test, \n",
    "        y_pred_cut=cut, \n",
    "        tc=tc_test\n",
    "    )\n",
    "    for prob, pred, cut, k in zip(\n",
    "        y_test_prob_clfs.T, \n",
    "        y_test_pred_clfs.T,\n",
    "        y_test_prob_cuts,\n",
    "        keys + [sgclf.__class__.__name__]\n",
    "    )\n",
    "}, orient = \"index\").stack().to_frame()\n",
    "# Compute quantiles for each metric\n",
    "d1 = (stats_df - point_estimates).apply(np.quantile, q = 0.1, axis = 1)\n",
    "d2 = (stats_df - point_estimates).apply(np.quantile, q = 0.9, axis = 1)\n",
    "# Compute upper bounds and lower bounds\n",
    "ub = round(point_estimates - d1.to_frame(), 2)\n",
    "lb = round(point_estimates - d2.to_frame(), 2)\n",
    "# Compile performamance\n",
    "perf_df = pd.concat([round(point_estimates, 2), lb, ub, ], axis = 1)"
   ]
  },
  {
   "cell_type": "code",
   "execution_count": 97,
   "id": "626173ec-57cf-4f9d-9716-fedcdff601c7",
   "metadata": {},
   "outputs": [
    {
     "data": {
      "text/html": [
       "<div>\n",
       "<style scoped>\n",
       "    .dataframe tbody tr th:only-of-type {\n",
       "        vertical-align: middle;\n",
       "    }\n",
       "\n",
       "    .dataframe tbody tr th {\n",
       "        vertical-align: top;\n",
       "    }\n",
       "\n",
       "    .dataframe thead th {\n",
       "        text-align: right;\n",
       "    }\n",
       "</style>\n",
       "<table border=\"1\" class=\"dataframe\">\n",
       "  <thead>\n",
       "    <tr style=\"text-align: right;\">\n",
       "      <th></th>\n",
       "      <th></th>\n",
       "      <th>0</th>\n",
       "    </tr>\n",
       "  </thead>\n",
       "  <tbody>\n",
       "    <tr>\n",
       "      <th rowspan=\"3\" valign=\"top\">LGBMClassifier</th>\n",
       "      <th>roc_auc_con</th>\n",
       "      <td>0.708457</td>\n",
       "    </tr>\n",
       "    <tr>\n",
       "      <th>prec</th>\n",
       "      <td>0.656463</td>\n",
       "    </tr>\n",
       "    <tr>\n",
       "      <th>rec</th>\n",
       "      <td>0.507980</td>\n",
       "    </tr>\n",
       "    <tr>\n",
       "      <th rowspan=\"3\" valign=\"top\">RandomForestClassifier</th>\n",
       "      <th>roc_auc_con</th>\n",
       "      <td>0.722010</td>\n",
       "    </tr>\n",
       "    <tr>\n",
       "      <th>prec</th>\n",
       "      <td>0.989803</td>\n",
       "    </tr>\n",
       "    <tr>\n",
       "      <th>rec</th>\n",
       "      <td>0.508333</td>\n",
       "    </tr>\n",
       "    <tr>\n",
       "      <th rowspan=\"9\" valign=\"top\">StackedGeneralizationClassifier</th>\n",
       "      <th>roc_auc_con</th>\n",
       "      <td>0.699747</td>\n",
       "    </tr>\n",
       "    <tr>\n",
       "      <th>prec</th>\n",
       "      <td>0.489634</td>\n",
       "    </tr>\n",
       "    <tr>\n",
       "      <th>rec</th>\n",
       "      <td>0.500000</td>\n",
       "    </tr>\n",
       "    <tr>\n",
       "      <th>roc_auc_cut</th>\n",
       "      <td>0.500000</td>\n",
       "    </tr>\n",
       "    <tr>\n",
       "      <th>roc_auc_model_model</th>\n",
       "      <td>0.199747</td>\n",
       "    </tr>\n",
       "    <tr>\n",
       "      <th>roc_auc_model_tc</th>\n",
       "      <td>-0.010733</td>\n",
       "    </tr>\n",
       "    <tr>\n",
       "      <th>nri</th>\n",
       "      <td>-0.097048</td>\n",
       "    </tr>\n",
       "    <tr>\n",
       "      <th>nri_plus</th>\n",
       "      <td>-0.216667</td>\n",
       "    </tr>\n",
       "    <tr>\n",
       "      <th>nri_minus</th>\n",
       "      <td>0.119619</td>\n",
       "    </tr>\n",
       "  </tbody>\n",
       "</table>\n",
       "</div>"
      ],
      "text/plain": [
       "                                                            0\n",
       "LGBMClassifier                  roc_auc_con          0.708457\n",
       "                                prec                 0.656463\n",
       "                                rec                  0.507980\n",
       "RandomForestClassifier          roc_auc_con          0.722010\n",
       "                                prec                 0.989803\n",
       "                                rec                  0.508333\n",
       "StackedGeneralizationClassifier roc_auc_con          0.699747\n",
       "                                prec                 0.489634\n",
       "                                rec                  0.500000\n",
       "                                roc_auc_cut          0.500000\n",
       "                                roc_auc_model_model  0.199747\n",
       "                                roc_auc_model_tc    -0.010733\n",
       "                                nri                 -0.097048\n",
       "                                nri_plus            -0.216667\n",
       "                                nri_minus            0.119619"
      ]
     },
     "execution_count": 97,
     "metadata": {},
     "output_type": "execute_result"
    }
   ],
   "source": [
    "point_estimates"
   ]
  },
  {
   "cell_type": "code",
   "execution_count": 98,
   "id": "284e330a-2285-4a9f-85a3-94d2e5029335",
   "metadata": {},
   "outputs": [],
   "source": [
    "lb_str = lb.iloc[:, 0].astype(str) \n",
    "ub_str = ub.iloc[:, 0].astype(str)\n",
    "pe_str = round(point_estimates, 2).iloc[:, 0].astype(str)\n",
    "ci = pe_str + \" (\" + lb_str + \" to \" + ub_str +  \")\""
   ]
  },
  {
   "cell_type": "code",
   "execution_count": 99,
   "id": "c451cd3c-4c48-46fb-b2ed-2a583bafa976",
   "metadata": {},
   "outputs": [],
   "source": [
    "perf_df = pd.concat([perf_df, ci.to_frame()], axis = 1)\n",
    "perf_df.columns = [\"point_estimate\", \"lb\", \"ub\", \"ci\"]"
   ]
  },
  {
   "cell_type": "code",
   "execution_count": 100,
   "id": "322964ad-18b6-44e5-9c02-ab37b847e7ab",
   "metadata": {},
   "outputs": [
    {
     "data": {
      "text/html": [
       "<div>\n",
       "<style scoped>\n",
       "    .dataframe tbody tr th:only-of-type {\n",
       "        vertical-align: middle;\n",
       "    }\n",
       "\n",
       "    .dataframe tbody tr th {\n",
       "        vertical-align: top;\n",
       "    }\n",
       "\n",
       "    .dataframe thead th {\n",
       "        text-align: right;\n",
       "    }\n",
       "</style>\n",
       "<table border=\"1\" class=\"dataframe\">\n",
       "  <thead>\n",
       "    <tr style=\"text-align: right;\">\n",
       "      <th></th>\n",
       "      <th></th>\n",
       "      <th>point_estimate</th>\n",
       "      <th>lb</th>\n",
       "      <th>ub</th>\n",
       "      <th>ci</th>\n",
       "    </tr>\n",
       "  </thead>\n",
       "  <tbody>\n",
       "    <tr>\n",
       "      <th rowspan=\"3\" valign=\"top\">LGBMClassifier</th>\n",
       "      <th>roc_auc_con</th>\n",
       "      <td>0.71</td>\n",
       "      <td>0.73</td>\n",
       "      <td>0.77</td>\n",
       "      <td>0.71 (0.73 to 0.77)</td>\n",
       "    </tr>\n",
       "    <tr>\n",
       "      <th>prec</th>\n",
       "      <td>0.66</td>\n",
       "      <td>0.74</td>\n",
       "      <td>0.82</td>\n",
       "      <td>0.66 (0.74 to 0.82)</td>\n",
       "    </tr>\n",
       "    <tr>\n",
       "      <th>rec</th>\n",
       "      <td>0.51</td>\n",
       "      <td>0.51</td>\n",
       "      <td>0.52</td>\n",
       "      <td>0.51 (0.51 to 0.52)</td>\n",
       "    </tr>\n",
       "    <tr>\n",
       "      <th rowspan=\"3\" valign=\"top\">RandomForestClassifier</th>\n",
       "      <th>roc_auc_con</th>\n",
       "      <td>0.72</td>\n",
       "      <td>0.72</td>\n",
       "      <td>0.79</td>\n",
       "      <td>0.72 (0.72 to 0.79)</td>\n",
       "    </tr>\n",
       "    <tr>\n",
       "      <th>prec</th>\n",
       "      <td>0.99</td>\n",
       "      <td>1.49</td>\n",
       "      <td>1.49</td>\n",
       "      <td>0.99 (1.49 to 1.49)</td>\n",
       "    </tr>\n",
       "    <tr>\n",
       "      <th>rec</th>\n",
       "      <td>0.51</td>\n",
       "      <td>0.52</td>\n",
       "      <td>0.52</td>\n",
       "      <td>0.51 (0.52 to 0.52)</td>\n",
       "    </tr>\n",
       "    <tr>\n",
       "      <th rowspan=\"9\" valign=\"top\">StackedGeneralizationClassifier</th>\n",
       "      <th>roc_auc_con</th>\n",
       "      <td>0.70</td>\n",
       "      <td>0.66</td>\n",
       "      <td>0.71</td>\n",
       "      <td>0.7 (0.66 to 0.71)</td>\n",
       "    </tr>\n",
       "    <tr>\n",
       "      <th>prec</th>\n",
       "      <td>0.49</td>\n",
       "      <td>0.49</td>\n",
       "      <td>0.49</td>\n",
       "      <td>0.49 (0.49 to 0.49)</td>\n",
       "    </tr>\n",
       "    <tr>\n",
       "      <th>rec</th>\n",
       "      <td>0.50</td>\n",
       "      <td>0.50</td>\n",
       "      <td>0.50</td>\n",
       "      <td>0.5 (0.5 to 0.5)</td>\n",
       "    </tr>\n",
       "    <tr>\n",
       "      <th>roc_auc_cut</th>\n",
       "      <td>0.50</td>\n",
       "      <td>0.49</td>\n",
       "      <td>0.50</td>\n",
       "      <td>0.5 (0.49 to 0.5)</td>\n",
       "    </tr>\n",
       "    <tr>\n",
       "      <th>roc_auc_model_model</th>\n",
       "      <td>0.20</td>\n",
       "      <td>0.17</td>\n",
       "      <td>0.22</td>\n",
       "      <td>0.2 (0.17 to 0.22)</td>\n",
       "    </tr>\n",
       "    <tr>\n",
       "      <th>roc_auc_model_tc</th>\n",
       "      <td>-0.01</td>\n",
       "      <td>-0.09</td>\n",
       "      <td>-0.02</td>\n",
       "      <td>-0.01 (-0.09 to -0.02)</td>\n",
       "    </tr>\n",
       "    <tr>\n",
       "      <th>nri</th>\n",
       "      <td>-0.10</td>\n",
       "      <td>-0.09</td>\n",
       "      <td>-0.01</td>\n",
       "      <td>-0.1 (-0.09 to -0.01)</td>\n",
       "    </tr>\n",
       "    <tr>\n",
       "      <th>nri_plus</th>\n",
       "      <td>-0.22</td>\n",
       "      <td>-0.21</td>\n",
       "      <td>-0.13</td>\n",
       "      <td>-0.22 (-0.21 to -0.13)</td>\n",
       "    </tr>\n",
       "    <tr>\n",
       "      <th>nri_minus</th>\n",
       "      <td>0.12</td>\n",
       "      <td>0.12</td>\n",
       "      <td>0.12</td>\n",
       "      <td>0.12 (0.12 to 0.12)</td>\n",
       "    </tr>\n",
       "  </tbody>\n",
       "</table>\n",
       "</div>"
      ],
      "text/plain": [
       "                                                     point_estimate    lb  \\\n",
       "LGBMClassifier                  roc_auc_con                    0.71  0.73   \n",
       "                                prec                           0.66  0.74   \n",
       "                                rec                            0.51  0.51   \n",
       "RandomForestClassifier          roc_auc_con                    0.72  0.72   \n",
       "                                prec                           0.99  1.49   \n",
       "                                rec                            0.51  0.52   \n",
       "StackedGeneralizationClassifier roc_auc_con                    0.70  0.66   \n",
       "                                prec                           0.49  0.49   \n",
       "                                rec                            0.50  0.50   \n",
       "                                roc_auc_cut                    0.50  0.49   \n",
       "                                roc_auc_model_model            0.20  0.17   \n",
       "                                roc_auc_model_tc              -0.01 -0.09   \n",
       "                                nri                           -0.10 -0.09   \n",
       "                                nri_plus                      -0.22 -0.21   \n",
       "                                nri_minus                      0.12  0.12   \n",
       "\n",
       "                                                       ub  \\\n",
       "LGBMClassifier                  roc_auc_con          0.77   \n",
       "                                prec                 0.82   \n",
       "                                rec                  0.52   \n",
       "RandomForestClassifier          roc_auc_con          0.79   \n",
       "                                prec                 1.49   \n",
       "                                rec                  0.52   \n",
       "StackedGeneralizationClassifier roc_auc_con          0.71   \n",
       "                                prec                 0.49   \n",
       "                                rec                  0.50   \n",
       "                                roc_auc_cut          0.50   \n",
       "                                roc_auc_model_model  0.22   \n",
       "                                roc_auc_model_tc    -0.02   \n",
       "                                nri                 -0.01   \n",
       "                                nri_plus            -0.13   \n",
       "                                nri_minus            0.12   \n",
       "\n",
       "                                                                         ci  \n",
       "LGBMClassifier                  roc_auc_con             0.71 (0.73 to 0.77)  \n",
       "                                prec                    0.66 (0.74 to 0.82)  \n",
       "                                rec                     0.51 (0.51 to 0.52)  \n",
       "RandomForestClassifier          roc_auc_con             0.72 (0.72 to 0.79)  \n",
       "                                prec                    0.99 (1.49 to 1.49)  \n",
       "                                rec                     0.51 (0.52 to 0.52)  \n",
       "StackedGeneralizationClassifier roc_auc_con              0.7 (0.66 to 0.71)  \n",
       "                                prec                    0.49 (0.49 to 0.49)  \n",
       "                                rec                        0.5 (0.5 to 0.5)  \n",
       "                                roc_auc_cut               0.5 (0.49 to 0.5)  \n",
       "                                roc_auc_model_model      0.2 (0.17 to 0.22)  \n",
       "                                roc_auc_model_tc     -0.01 (-0.09 to -0.02)  \n",
       "                                nri                   -0.1 (-0.09 to -0.01)  \n",
       "                                nri_plus             -0.22 (-0.21 to -0.13)  \n",
       "                                nri_minus               0.12 (0.12 to 0.12)  "
      ]
     },
     "execution_count": 100,
     "metadata": {},
     "output_type": "execute_result"
    }
   ],
   "source": [
    "perf_df"
   ]
  }
 ],
 "metadata": {
  "kernelspec": {
   "display_name": "Python 3 (ipykernel)",
   "language": "python",
   "name": "python3"
  },
  "language_info": {
   "codemirror_mode": {
    "name": "ipython",
    "version": 3
   },
   "file_extension": ".py",
   "mimetype": "text/x-python",
   "name": "python",
   "nbconvert_exporter": "python",
   "pygments_lexer": "ipython3",
   "version": "3.10.0"
  }
 },
 "nbformat": 4,
 "nbformat_minor": 5
}
