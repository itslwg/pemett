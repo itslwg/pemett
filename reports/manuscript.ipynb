{
 "cells": [
  {
   "cell_type": "code",
   "execution_count": 1,
   "id": "834154cf-f05e-410e-b8f0-b7837f745733",
   "metadata": {},
   "outputs": [],
   "source": [
    "import os\n",
    "os.chdir(\"..\")"
   ]
  },
  {
   "cell_type": "markdown",
   "id": "cc59085c-430a-419b-a901-f3ef7df84434",
   "metadata": {},
   "source": [
    "# EMETT: Ensemble Model for Emergency department Trauma Triage"
   ]
  },
  {
   "cell_type": "markdown",
   "id": "4374ee6f-65a4-41ae-9d61-43d0226dd6a7",
   "metadata": {
    "tags": []
   },
   "source": [
    "## Introduction\n",
    "\n",
    "Trauma is a major threat to population health globally [@Brohi2017; @GBD2017]. Every year about 4.6 million people die because of trauma - more than the deaths from HIV/AIDS, malaria and tuberculosis combined. This situation calls for not only more interventions, but also strengthened research on effective trauma care delivery.\n",
    "\n",
    "Trauma care is highly time sensitive and delays to treatment have been associated with increased mortality across settings [@Yeboah2014; @OReilly2013; @Roy2017a]. Early identification and management of potentially life threatening injuries are crucial. Trauma triage - the process of prioritizing patients to match level of care with clinical acuity - is a key component of trauma care [@EAST2010; @NICE2016].\n",
    "\n",
    "In health systems with formalised criteria for emergency department trauma triage, all patients are assigned a priority coupled with a target time to treat. These priorities are may be coded with numbers [@ESI2012] or colors [@SATG2012], for example red, orange, yellow and green, with red being assigned to the most urgent patients and green to the least urgent.\n",
    "\n",
    "In health systems without formalized criteria, for example in many low resource settings, clinician gestalt is used informally triage trauma patients in the emergency department [@Baker2013]. Where prehospital care is lacking patients often arrive to the emergency department without warning [@Choi2017]. Identifying ways to quickly triage patients would therefore be valuable such settings.\n",
    "\n",
    "The approach to triage trauma patients arriving to the emergency department has received little attention from the research community. Framed as a classification problem this challenge can be addressed using a statistical learner. Logistic or proportional hazards models are common classification learners whereas more modern alternatives include random forests or neural networks.\n",
    "\n",
    "The uptake and use of such learners in trauma research has been slow [@Liu2017]. One recent study used a random forest learner to assign priority to patients in a general emergency department population, and found a slight performance improvement using this learner compared with the standard criteria [@Levin2018].\n",
    "\n",
    "Given the paucity of research leveraging machine learning to triage trauma patients in the emergency department, we aimed to compare the performance of an ensemble machine learning model to that of clinician gestalt based on patients' presentation. Our hypothesis was that the performance of the this ensemble model would be non-inferior to that of clinician gestalt."
   ]
  },
  {
   "cell_type": "markdown",
   "id": "871405a8-c87a-423e-8e94-ec66b81b0705",
   "metadata": {},
   "source": [
    "## Materials and Methods"
   ]
  },
  {
   "cell_type": "markdown",
   "id": "39bdc6f5-5dcf-4f83-8260-0d4e4a30ba5d",
   "metadata": {},
   "source": [
    "### Study Design\n",
    "\n",
    "We used data from the ongoing Trauma Triage Study (TTRIS) in India, a Towards Improved Trauma Care Outcomes (TITCO) study. This study is a prospective cohort study in three public hospitals in urban India."
   ]
  },
  {
   "cell_type": "markdown",
   "id": "e0f81bbb-53c2-42e1-ad13-89cc3afd9a6e",
   "metadata": {},
   "source": [
    "### Study Setting\n",
    "\n",
    "Data analysed for this study came from patients enrolled between 28 July 2016 and 21 November 2017 at the three hospitals Khershedji Behramji Bhabha hospital (KBBH) in Mumbai, Lok Nayak Hospital of\n",
    "Maulana Azad Medical College (MAMC) in Delhi, and the Institute of Post-Graduate Medical Education and Research and Seth Sukhlal Karnani Memorial Hospital (SSKM) in Kolkata. The time frame was decided to ensure that all included patients had completed six months follow up. \n",
    "\n",
    "KBBH is a community hospital with 436 inpatient beds. There are departments of surgery, orthopaedics, anaesthesia, and both adult and paediatric intensive care units. It has a general ED where all\n",
    "patients are seen.  Most patients present directly and are not transferred from another health centre. Plain X-rays and ultrasonography are available around the clock but computed tomography (CT) is only available in-house during day-time. During evenings and nights patients in need of a CT are referred elsewhere. \n",
    "\n",
    "MAMC and SSKM are both university and tertiary referral hospitals. This means that all specialities and imaging facilities relevant to trauma care, except emergency medicine, are available in-house around the clock. MAMC has approximately 2200 inpatient beds and SSKM has around 1775 inpatient beds. Both MAMC and SSKM have general emergency departments. Because both MAMC and SSKM are tertiary referral hospitals a large proportion of patients arriving at their EDs are transferred from other health facilities, with almost no transfer protocols in place.\n",
    "\n",
    "Prehospital care is rudimentary in all three cities, with no organised emergency medical services. Ambulances are predominately used for inter-hospital transfers and most patients who arrive directly from the scene of the incident are brought by the police or in private vehicles. \n",
    "\n",
    "Patients arriving to the emergency department are at all centres first seen by a casualty medical officer on a largely first come first served basis. There is no formalised system for prioritising emergency department patients at any of the centres.\n",
    "\n",
    "The research was approved by the ethical review board at each participating hospital. The names of the boards and the approval numbers were Ethics and Scientific Committee (KBBH, HO/4982/KBB), the Institutional Ethics Committee (MAMC, F.1/IEC/MAMC/53/2/2016/No97), and the IPGME&R Research Oversight Committee (SSKM,"
   ]
  },
  {
   "cell_type": "markdown",
   "id": "59a7c81a-9d25-4808-b96d-280eaedc769a",
   "metadata": {},
   "source": [
    "### Data Collection\n",
    "\n",
    "Data were collected by one dedicated project officer at each site. The project officers all had a masters degree in life sciences. They worked five shifts per week, and each shift was about eight hours long, so that mornings, evenings and nights were covered according to a rotating schedule. In each shift, project officers spent approximately six hours collecting data in the emergency department and the remaining two following up patients. The collected data were then transferred to a digital database. The rationale for this setup was to ensure collection of high-quality data from a representative sample of trauma patients arriving to the emergency departements at participating centres, while keeping to the projects budget constraints."
   ]
  },
  {
   "cell_type": "markdown",
   "id": "95a36312-2c91-4159-b33c-d8967b68fa59",
   "metadata": {},
   "source": [
    "### Participants "
   ]
  },
  {
   "cell_type": "markdown",
   "id": "d1544c30-7eea-4928-a4ab-bb7c54705bae",
   "metadata": {},
   "source": [
    "#### Eligibility criteria\n",
    "\n",
    "Any person aged $\\geq$ 18 years or older and who presented alive to the emergency department of participating sites with history of trauma was included. The age cutoff was chosen to align with Indian laws on research ethics and informed consent. We defined history of trauma as having any of the external causes of morbidity and mortality listed in block V01-Y36, chapter XX of the International Classification of Disease version 10 (ICD-10) code book as primary complaint. Drownings, inhalation and ingestion of objects causing obstruction of respiratory tract, contact with venomous snakes and lizards, accidental poisoning by and exposure to drugs, and overexertion were excluded because they are not considered trauma at the participating centres."
   ]
  },
  {
   "cell_type": "markdown",
   "id": "9d7f3cbe-78b3-427f-b86a-ff9e4ce8c17f",
   "metadata": {},
   "source": [
    "#### Source and methods of selection of participants and follow up\n",
    "\n",
    "The project officers enrolled the first ten consecutive patients who presented to the emergency department during each shift. The number of patients to enrol was set to ten to make follow up feasible. Written informed consent from the patient or a patient representative was obtained either in the emergency department or in the ward if the patient was admitted. A follow-up was completed by the project officer 30 days and 6 months after participant arrived at participating hospital. The follow-up was completed in person or on phone, depending on whether the patient was still hospitalised or if the patient had been discharged. Phone numbers of one or more contact persons (e.g. relatives), were collected on enrolment and contacted if the participant did not reply on follow up. Only if neither the participant nor the contact person answered any of three repeated phone calls was the outcome recorded as missing and the patient was considered lost to follow up."
   ]
  },
  {
   "cell_type": "markdown",
   "id": "50b79b6d-6cd8-49b9-98b9-1add044268ec",
   "metadata": {},
   "source": [
    "### Variables, Data Sources and Measurement "
   ]
  },
  {
   "cell_type": "markdown",
   "id": "a80590a4-2a83-4734-ad7a-c27cb5297d0f",
   "metadata": {},
   "source": [
    "#### Patient characteristics and ensemble model variables \n",
    "\n",
    "The ensemble model were trained on two target variables.  The first target was all-cause 30 day mortality, defined as death from any cause within 30 days of arrival to a participating centre. These data were extracted from patient records if the patient was still in hospital 30 days after arrival, or collected by calling the patient or the patient representative if the patient was not in hospital. The second target was a composite outcome of early mortality, ICU admission, major urgent surgery and severe injury. Early mortality was defined as death within 24 hours of arrival to  the participating hospitals. ICU admission was defined as admission to the ICU within 48 hours of arrival. While most ICU admissions occur within hours of hospital arrival, we extended the time frame to compensate for bed availability and transfer delays.  Major urgent surgery was defined as a major surgery performed within  24 hours of arrival to the participating hospitals. Surgical excerpts  were reworked into standardized nomenclature using the Nordic Medico-Statistical Committee (NOMESCO) Classification of surgical Procedures, and the Systematized Nomenclature in Medicine Clinical Terms (SNOMED CT). In the lack of a general definition of major surgery, a team of experienced surgeons and researches decided on what surgeries  to consider as major. Severe injury was defined as an Injury Severity Score (ISS) over 15. This cutoff-value for severe injury is traditionally sued in trauma research since it is said to indicate a 10 % mortality). **TAKEN FROM CELINAS PAPER**\n",
    "\n",
    "The features included patient age in years, sex, mechanism of injury, type of injury, mode of transport, transfer status, time from injury to arrival in hours. The project officers collected data on these features by asking the patient, a patient representative, or by extracting the data from the patient's file. Sex was coded as male or female. Mechanism of injury was coded by the project officers using ICD-10 after completing the World Health Organization's (WHO) electronic ICD-10-training tool [@WHOICD]. The levels of mechanism of injury was collapsed for analysis into transport accident (codes V00-V99), falls (W00-W19), burns (X00-X19), intentional self harm (X60-X84), assault (X85-X99 and Y00-Y09), and other mechanism (W20-99, X20-59 and Y10-36). Type of injury was coded as blunt, penetrating, or both blunt and penetrating. Mode of transport was coded as ambulance, police, private vehicle, or arrived walking. Transfer status was a binary feature indicating if the patient was transferred from another health facility or not. \n",
    "\n",
    "The features also included vital signs measured on arrival to the ED at participating centres. The project officers recorded all vital signs using hand held equipment, i.e. these were not extracted from patient records, after receiving two days of training and yearly refreshers.  Only if the hand held equipment failed to record a value did the project officers extract data from other attached monitoring equipment, if available. Systolic and diastolic blood pressure (SBP and DBP) were measured using an automatic blood pressure monitor. Heart rate (HR) and peripheral capillary oxygen saturation (SpO~2~) were measured using a portable non-invasive fingertip pulse oximeter. Respiratory rate (RR) was measured manually by counting the number of breaths during one minute. Level of consciousness was measured using both the Glasgow coma scale (GCS) and the Alert, Voice, Pain, and Unresponsive scale (AVPU).  In assigning GCS the project officers used the official Glasgow Coma Scale Assessment Aid [@GCSAID]. AVPU simply indicates whether the patient is alert, responds to voice stimuli, painful stimuli, or does not respond at all. \n",
    "\n",
    "These represent standard variables commonly collected in many health systems. They are also included in several well known clinical prediction models designed to predict trauma mortality [@Rehn2011]."
   ]
  },
  {
   "cell_type": "markdown",
   "id": "b93d126c-5bd9-4420-8604-4c9eab6d0e9f",
   "metadata": {},
   "source": [
    "### Clinicians' priority levels\n",
    "For the purpose of this study, clinicians were instructed by the project officers to assign a priority to each patient. The priority levels were color coded. Red was assigned to the most serious patients that should be treated first. Green was assigned to the least serious patients that should be treated last. Orange and yellow were intermediate levels, where orange patients were less serious than red but more serious than yellow and green whereas yellow patients were less serious than red and orange patients but more serious than green patients. The clinicians were allowed to use all information available at the time when they assigned the priority level, which was as soon as they had first seen the patient. The priorities were not used to guide further patient care and no interventions were implemented as part of the study for patients assigned to the more urgent priority levels."
   ]
  },
  {
   "cell_type": "markdown",
   "id": "a808cb90-31c1-47a6-b4a2-2bb7277860a6",
   "metadata": {},
   "source": [
    "### Bias\n",
    "Project officers underwent two days of training in study procedures and were then supervised locally. We conducted continuous data quality assurance by having weekly online data review meetings during which data discrepancies were identified, discussed and resolved. We conducted quarterly on site quality control sessions during which data collection was conducted both by the centre's own project officer and a quality control officer. Data entry errors were prevented by having extensive logical checks in the digital data collection instrument."
   ]
  },
  {
   "cell_type": "markdown",
   "id": "56ea1a70-a275-4a2e-8128-572aa1bbe2a1",
   "metadata": {},
   "source": [
    "### Statistical Methods\n",
    "All data was de-identified before it was analysed for this study. Details of the de-identification procedures are available as supporting information. We used Python and R for all analysis [@R; @python]. In particular, we utilised packages [@TableOnePython] for generating sample characteristics table. We first made a non-random temporal split of the complete data set into a training and test set. The split was made so that 75% of the complete cohort was assigned to the training set and the remaining 25% to the test set, ensuring that the relative contribution of each centre was maintained in both sets. We then calculated descriptive statistics of all variables, using medians and inter quartile ranges (IQR) for continuous variables and counts and percentages for qualitative variables. All quantitative features (age, SBP, DBP, HR, SpO~2~, and RR) were treated as continuous and the levels of all qualitative variables (sex, mechanism of injury, type of injury, mode of transport, transfer status, and GCS components) were treated as bins (dummy variables)."
   ]
  },
  {
   "cell_type": "markdown",
   "id": "16c8b8f6-1337-47c5-9cab-6474bbf2ae6e",
   "metadata": {},
   "source": [
    "#### Development of the Ensemble Model\n",
    "The study sample was split into three parts, henceforth referred to as the training, validation, and test sets. We then developed our ensemble model in the training and validation setsusing the SuperLearner R package [@SuperLearner]. SuperLearner is an ensemblemachine learning algorithm, meaning that it combines predictions several learners to come up with an \"optimal\" learner. Table\\@ref(tab:superlearner-library) shows our library of learners. Allwere implemented using the default hyperparameters. Short descriptionsof the individual learners are available as supportinginformation. \n",
    "\n",
    "The ensemble model was trained using ten fold cross validation. This procedure is implemented by default in the SuperLearner package and entails splitting the development data in ten mutually exclusive parts of approximately the same size. All learners included in the library are then fitted using the combined data of nine of these parts and evaluated in the tenth. This procedure is then repeated ten times, i.e. each part is used once as the evaluation data, and is intended to limit overfitting and reduce optimism.\n",
    "\n",
    "The ensemble model predictions was then used to assign levels of priority  to patients. This was done by binning the ensemble model prediction into four bins using cutoffs identified using a grid search to optimize the area under the receiver operation characteristics curve (AUROCC) across all possible combinations of unique cutoffs, where each cutoff could take any value from 0.01 to 0.99 in 0.01 unit increments. These bins corresponded to the green, yellow, orange, and red priority levels assigned by the clinicians. The cutoffs were identified in the validation set in order  to prevent information leakage and limit bias. The performance of both the continuous ensemble model prediction and the ensemble model priority levels was then evaluated by estimating their AUROCC. We also visualised the performance by plotting ROC curves."
   ]
  },
  {
   "cell_type": "markdown",
   "id": "8e50f0e3-aebf-462e-847a-5134eba4e9cd",
   "metadata": {},
   "source": [
    "| Algorithm                 | Package      |\n",
    "|---------------------------|--------------|\n",
    "| Gradient Boosting Machine | LightGBM     |\n",
    "| Random Forest Classifier  | scikit-learn |\n",
    "| Multi-layer Perceptron    | pytorch      |"
   ]
  },
  {
   "cell_type": "markdown",
   "id": "3fcb5c90-9077-4f65-ac08-c677bf9dc0af",
   "metadata": {},
   "source": [
    "#### Comparing the ensemble model and Clinicians\n",
    "\n",
    "We then used the ensemble model to predict the outcomes of the patients in the test set and used the cutoff values from the validation set to assign a level of priority to each patient in this set. The performance of the continuous ensemble prediction, the ensemble model priority levels, and the clinicians' priority levels, was then evaluated by estimating and comparing their AUROCC. \n",
    "\n",
    "The levels of priority assigned by the ensemble model and clinicians respectively were then compared by estimating the net reclassification, in events (patient with the outcome, i.e. who died within 30-days from arrival) and non-events (patient without the outcome) respectively. The net reclassification in events was defined as the difference between the proportion of events assigned a higher priority by the ensemble model than the clinicians and the proportion of events assigned a lower priority by the SuperLearner than the clinicians. Conversely, the net reclassification in non-events was defined as the difference between the proportion of non-events assigned to a lower priority by the ensemble model than the clinicians and the proportion of non-events assigned a higher priority by the SuperLearner than the clinicians. \n",
    "\n",
    "We used an empirical bootstrap with 1000 draws of the same size as the original set to estimate 95% confidence interval (CI) around differences. We concluded that the SuperLearner was non-inferior to clinicians if the 95% CI of the net reclassification in events did not exceed a pre-specified level of -0.05, indicating that clinicians correctly classified 5 in 100 events more than the ensemble model."
   ]
  },
  {
   "cell_type": "markdown",
   "id": "0a745e94-d5d2-43ad-97c0-35a386d29ed3",
   "metadata": {},
   "source": [
    "#### Handling of Missing Data\n",
    "Observations with missing data on all cause 30-day mortality or priority level assigned by clinicians were excluded. Missing data in features was treated as informative. For each feature with missing data we created a non-missingness indicator, a variable that took the value of 0 if the feature value was missing and 1 otherwise. Missing feature values were then replaced with the median of observed data for quantitative features and the most common level for qualitative features. We included the non-missingness indicators as features in the ensemble model.\n"
   ]
  },
  {
   "cell_type": "markdown",
   "id": "0d3f115e-17f2-4d22-b68a-092e5fb9c517",
   "metadata": {},
   "source": [
    "## Results"
   ]
  },
  {
   "cell_type": "code",
   "execution_count": 4,
   "id": "0d1a4cf1-e462-433e-9781-c9c9c8ed3e1e",
   "metadata": {},
   "outputs": [],
   "source": [
    "import pandas as pd\n",
    "data_dir = \"./data/\"\n",
    "excl = pd.read_csv(data_dir + \"interim/excl.csv\", index_col = 0).iloc[:, 0]"
   ]
  },
  {
   "cell_type": "code",
   "execution_count": 5,
   "id": "fb3c855d-0d59-4a39-bb8b-7ea00de332d6",
   "metadata": {},
   "outputs": [
    {
     "data": {
      "text/plain": [
       "original          12412\n",
       "n_removed_ic        533\n",
       "n_ic              11879\n",
       "n_removed_age         7\n",
       "n_age             11872\n",
       "n_removed_tc        297\n",
       "n_tc              11575\n",
       "n_removed_s30d     3280\n",
       "n_final            8295\n",
       "Name: 0, dtype: int64"
      ]
     },
     "execution_count": 5,
     "metadata": {},
     "output_type": "execute_result"
    }
   ],
   "source": [
    "excl"
   ]
  },
  {
   "cell_type": "code",
   "execution_count": 6,
   "id": "9ab430f5-0274-47e7-8e58-8e9b7a7c316b",
   "metadata": {},
   "outputs": [
    {
     "data": {
      "text/plain": [
       "124"
      ]
     },
     "execution_count": 6,
     "metadata": {},
     "output_type": "execute_result"
    }
   ],
   "source": [
    "round(excl.original * 0.01)"
   ]
  },
  {
   "cell_type": "markdown",
   "id": "7ca788b3-41bf-45ca-8972-4831992f6900",
   "metadata": {},
   "source": [
    "During the study period, we approached a total of xxx patients for enrolment.\n",
    "A random sample of 124 observations were removed during data de-identification. Consent was declined by 533 patients. Out of the 11879 patients who provided informed consent,\n",
    "7 were not adults, and 297 had missing information on\n",
    "triage cateogory, leaving 11575 patients.\n",
    "For 30-day mortality, 3280 patients had missing outcome data, whereas for the composite outcome `r results$composite.descriptive.statistics$n.not.complete.outcome` had missing data. \n",
    "Thus, the final samples included 8295 and\n",
    "`r results$composite.descriptive.statistics$n.complete.outcome` patients for the 30-day mortality and composite outcomes, respectively."
   ]
  },
  {
   "cell_type": "code",
   "execution_count": 55,
   "id": "30404fc8-4074-43e6-af0e-07257b60bd07",
   "metadata": {},
   "outputs": [],
   "source": [
    "import pandas as pd\n",
    "\n",
    "from src.visualization.visualize import create_sample_characteristics_table\n",
    "\n",
    "data_dir = data_dir = \"./data/\"\n",
    "data_dictionary = pd.read_csv(\n",
    "    data_dir + \"raw/data_dictionary.csv\",\n",
    "    delimiter = \",\"\n",
    ")\n",
    "cat_features = ['moi', 'sex', 'mot', 'tran', 'egcs', 'mgcs', 'vgcs', 'avpu']\n",
    "cont_features = ['age', 'hr', 'sbp', 'dbp', 'spo2', 'rr', 'delay']"
   ]
  },
  {
   "cell_type": "code",
   "execution_count": null,
   "id": "0aa382e2-1f93-4516-b516-b6b540087e78",
   "metadata": {},
   "outputs": [],
   "source": [
    "# Read relevant files\n",
    "df = pd.read_csv(data_dir + \"interim/table_sample_s30d.csv\")\n",
    "data_dictionary = pd.read_csv(\n",
    "    data_dir + \"raw/data_dictionary.csv\",\n",
    "    delimiter = \",\"\n",
    ")\n",
    "create_sample_characteristics_table(\n",
    "    df=df,\n",
    "    data_dictionary=data_dictionary,\n",
    "    categorical=cat_features + [\"s30d\", \"tc\"],\n",
    "    nonnormal=cont_features, \n",
    "    groupby=\"partition\"\n",
    ")"
   ]
  },
  {
   "cell_type": "code",
   "execution_count": 77,
   "id": "2977e7a6-47ea-4eca-aaa7-ac86d64bbd7e",
   "metadata": {},
   "outputs": [
    {
     "name": "stderr",
     "output_type": "stream",
     "text": [
      "/Users/ludvigwarnberggerdin/miniforge3/envs/pemett/lib/python3.10/site-packages/tableone/tableone.py:991: FutureWarning: Using the level keyword in DataFrame and Series aggregations is deprecated and will be removed in a future version. Use groupby instead. df.sum(level=1) should use df.groupby(level=1).sum().\n"
     ]
    }
   ],
   "source": [
    "# Read relevant files\n",
    "df = pd.read_csv(data_dir + \"interim/table_sample_composite.csv\")\n",
    "data_dictionary = pd.read_csv(\n",
    "    data_dir + \"raw/data_dictionary.csv\",\n",
    "    delimiter = \",\"\n",
    ")\n",
    "t1 = create_sample_characteristics_table(\n",
    "    df=df,\n",
    "    data_dictionary=data_dictionary,\n",
    "    categorical=cat_features + [\"composite\", \"tc\"],\n",
    "    nonnormal=cont_features, \n",
    "    groupby=\"partition\"\n",
    ")"
   ]
  },
  {
   "cell_type": "code",
   "execution_count": null,
   "id": "a15b0242-e350-4db8-9072-85a186e14818",
   "metadata": {},
   "outputs": [],
   "source": [
    "print(t1.tabulate())"
   ]
  },
  {
   "cell_type": "code",
   "execution_count": 82,
   "id": "c84d8c76-e222-4ab0-b921-a03ba571de1b",
   "metadata": {
    "tags": []
   },
   "outputs": [
    {
     "name": "stdout",
     "output_type": "stream",
     "text": [
      "[NbConvertApp] Converting notebook ./reports/manuscript.ipynb to markdown\n",
      "[NbConvertApp] Writing 55214 bytes to reports/manuscript.md\n"
     ]
    }
   ],
   "source": [
    "!jupyter nbconvert --to markdown ./reports/manuscript.ipynb"
   ]
  },
  {
   "cell_type": "code",
   "execution_count": 83,
   "id": "092ab507-f2e0-4096-9150-f36059cf141a",
   "metadata": {
    "tags": []
   },
   "outputs": [],
   "source": [
    "!pandoc -s ./reports/manuscript.md -t docx -o ./reports/manuscript.docx --citeproc --bibliography=\"./reports/bibliography.bib\" --csl=\"./reports/apa.csl\"\n"
   ]
  }
 ],
 "metadata": {
  "authors": [
   {
    "name": "Author1"
   },
   {
    "name": "Author2"
   }
  ],
  "kernelspec": {
   "display_name": "Python 3 (ipykernel)",
   "language": "python",
   "name": "python3"
  },
  "language_info": {
   "codemirror_mode": {
    "name": "ipython",
    "version": 3
   },
   "file_extension": ".py",
   "mimetype": "text/x-python",
   "name": "python",
   "nbconvert_exporter": "python",
   "pygments_lexer": "ipython3",
   "version": "3.10.0"
  },
  "title": "My Title!"
 },
 "nbformat": 4,
 "nbformat_minor": 5
}
